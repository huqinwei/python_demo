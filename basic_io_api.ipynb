{
 "cells": [
  {
   "cell_type": "markdown",
   "metadata": {},
   "source": [
    "# 文件接口的使用"
   ]
  },
  {
   "cell_type": "code",
   "execution_count": 1,
   "metadata": {
    "collapsed": true
   },
   "outputs": [],
   "source": [
    "with open('3lines','w') as file:\n",
    "    file.write('first line\\nsecond line\\n final line\\n')"
   ]
  },
  {
   "cell_type": "code",
   "execution_count": 2,
   "metadata": {},
   "outputs": [
    {
     "name": "stdout",
     "output_type": "stream",
     "text": [
      "first line\n",
      "second line\n",
      " final line\n",
      "\n"
     ]
    }
   ],
   "source": [
    "with open('3lines', 'r') as file:\n",
    "    print(file.read())"
   ]
  },
  {
   "cell_type": "code",
   "execution_count": 3,
   "metadata": {},
   "outputs": [
    {
     "name": "stdout",
     "output_type": "stream",
     "text": [
      "['first line\\n', 'second line\\n', ' final line\\n']\n"
     ]
    }
   ],
   "source": [
    "with open('3lines', 'r') as file:\n",
    "    print(file.readlines())"
   ]
  },
  {
   "cell_type": "code",
   "execution_count": 5,
   "metadata": {},
   "outputs": [
    {
     "name": "stdout",
     "output_type": "stream",
     "text": [
      "['first line\\n', 'second line\\n', ' final line\\n']\n",
      "<class 'str'>\n"
     ]
    }
   ],
   "source": [
    "with open('3lines', 'r') as file:\n",
    "    print(file.readlines())\n",
    "    print(type(file.readline()))"
   ]
  },
  {
   "cell_type": "code",
   "execution_count": 6,
   "metadata": {
    "collapsed": true
   },
   "outputs": [],
   "source": [
    "with open('3lines','a') as file:\n",
    "    file.write('fourth line\\n')"
   ]
  },
  {
   "cell_type": "markdown",
   "metadata": {},
   "source": [
    "## 另一种写法，不用with，其实差不多，"
   ]
  },
  {
   "cell_type": "code",
   "execution_count": 10,
   "metadata": {},
   "outputs": [
    {
     "name": "stdout",
     "output_type": "stream",
     "text": [
      "ret is  11\n",
      "f is  <_io.TextIOWrapper name='this_is_a_file' mode='w' encoding='UTF-8'>\n"
     ]
    }
   ],
   "source": [
    "f = open('this_is_a_file', 'w')\n",
    "ret = f.write('hello files')#返回写入字符数量\n",
    "print('ret is ',ret)\n",
    "print('f is ',f)\n",
    "f.close()\n",
    "#f.write('hello')#ValueError: I/O operation on closed file."
   ]
  },
  {
   "cell_type": "code",
   "execution_count": 12,
   "metadata": {},
   "outputs": [
    {
     "name": "stdout",
     "output_type": "stream",
     "text": [
      "hello files\n",
      "\n"
     ]
    }
   ],
   "source": [
    "f = open('this_is_a_file','r')\n",
    "line1 = f.read()\n",
    "print(line1)"
   ]
  },
  {
   "cell_type": "code",
   "execution_count": 14,
   "metadata": {},
   "outputs": [
    {
     "name": "stdout",
     "output_type": "stream",
     "text": [
      "hell\n",
      "o \n",
      "fi\n"
     ]
    }
   ],
   "source": [
    "#读入指定数量字符，并且是读完就清掉的，再读是后边的。\n",
    "f = open('this_is_a_file','r')\n",
    "print(f.read(4))\n",
    "print(f.read(2))\n",
    "print(f.read(2))"
   ]
  },
  {
   "cell_type": "code",
   "execution_count": 16,
   "metadata": {},
   "outputs": [
    {
     "data": {
      "text/plain": [
       "['hello files']"
      ]
     },
     "execution_count": 16,
     "metadata": {},
     "output_type": "execute_result"
    }
   ],
   "source": [
    "f = open('this_is_a_file','r')\n",
    "#f.readline()\n",
    "f.readlines()"
   ]
  },
  {
   "cell_type": "markdown",
   "metadata": {},
   "source": [
    "## 如果要写入一些不是字符串的东西, 那么将需要先进行转换:"
   ]
  },
  {
   "cell_type": "code",
   "execution_count": 23,
   "metadata": {},
   "outputs": [
    {
     "name": "stdout",
     "output_type": "stream",
     "text": [
      "('wqqm', 4)\n"
     ]
    }
   ],
   "source": [
    "# 打开一个文件\n",
    "f = open(\"write_some_structure.txt\", \"w\")\n",
    "value = ('wqqm', 4)\n",
    "s = str(value)#将tuple转车工呢字符串形式\n",
    "print(s)\n",
    "f.write(s)\n",
    "\n",
    "value = {'wqqm': 4}#TypeError: write() argument must be str, not dict\n",
    "s = str(value)\n",
    "f.write(s)#\n",
    "f.close()\n"
   ]
  },
  {
   "cell_type": "code",
   "execution_count": null,
   "metadata": {
    "collapsed": true
   },
   "outputs": [],
   "source": []
  },
  {
   "cell_type": "markdown",
   "metadata": {
    "collapsed": true
   },
   "source": [
    "# pickle的使用"
   ]
  },
  {
   "cell_type": "code",
   "execution_count": null,
   "metadata": {
    "collapsed": true
   },
   "outputs": [],
   "source": [
    "import pickle\n",
    "## 这种形式，在这执行不了，直接在python2能执行,python3用b二进制可以，python2怎么简化了？\n",
    "# a = [1,2,[3,4]]\n",
    "# file = open('test.txt','w')\n",
    "# pickle.dump(a,file)\n",
    "# file.close()\n",
    "# file = open('test.txt','r')\n",
    "# b = pickle.load(file)\n",
    "# print(b)"
   ]
  },
  {
   "cell_type": "code",
   "execution_count": null,
   "metadata": {
    "collapsed": true
   },
   "outputs": [],
   "source": [
    "#pickle.dumps负责转换，open用二进制b，写入\n",
    "import pickle\n",
    "data = {'k1':'python','k2':'java'}\n",
    "#data = [1,2,3,4]\n",
    "dest_str = pickle.dumps(data)\n",
    "print(dest_str)\n",
    "print(type(dest_str))\n",
    "f = open('pickle_1.txt','wb')\n",
    "f.write(dest_str)\n",
    "f.close()"
   ]
  },
  {
   "cell_type": "code",
   "execution_count": null,
   "metadata": {
    "collapsed": true
   },
   "outputs": [],
   "source": [
    "#反序列化读取源数据\n",
    "import pickle\n",
    "f = open('pickle_1.txt','rb')\n",
    "da = pickle.loads(f.read())   #使用loads反序列化\n",
    "print(da)"
   ]
  },
  {
   "cell_type": "markdown",
   "metadata": {
    "collapsed": true
   },
   "source": [
    "# os.path"
   ]
  },
  {
   "cell_type": "code",
   "execution_count": 25,
   "metadata": {
    "collapsed": true
   },
   "outputs": [],
   "source": [
    "import os"
   ]
  },
  {
   "cell_type": "code",
   "execution_count": 28,
   "metadata": {},
   "outputs": [
    {
     "name": "stdout",
     "output_type": "stream",
     "text": [
      "path_a/path_b\n",
      "<class 'str'>\n",
      "path_a/path_b  is exists\n"
     ]
    }
   ],
   "source": [
    "#demo1 拼接一个路径并判断路径是否存在。\n",
    "path_ab = os.path.join('path_a','path_b')#join自带斜杠\n",
    "print(path_ab)\n",
    "print(type(path_ab))\n",
    "if os.path.exists(path_ab) is False:\n",
    "    os.makedirs(path_ab)\n",
    "else:\n",
    "    print(path_ab,' is exists')"
   ]
  },
  {
   "cell_type": "code",
   "execution_count": 41,
   "metadata": {},
   "outputs": [
    {
     "name": "stdout",
     "output_type": "stream",
     "text": [
      "path_a2/path_b/path_c\n",
      "<class 'str'>\n",
      "path_a2/path_b/path_c  is exists\n"
     ]
    }
   ],
   "source": [
    "#demo2\n",
    "path_abc = os.path.join('path_a2','path_b','path_c')\n",
    "print(path_abc)\n",
    "print(type(path_abc))\n",
    "\n",
    "if os.path.exists(path_abc) is False:\n",
    "    os.makedirs(path_abc)\n",
    "else:\n",
    "    print(path_abc,' is exists')"
   ]
  },
  {
   "cell_type": "code",
   "execution_count": 44,
   "metadata": {},
   "outputs": [
    {
     "name": "stdout",
     "output_type": "stream",
     "text": [
      "h#e#l#l#o# #w#o#r#l#d# #w#o#r#l#d# #w#o#r#l#d\n"
     ]
    }
   ],
   "source": [
    "#demo3 join参数不能用其他形式，只能用str或者bytes，但是和str的join还是有区别的，像封装了一个加斜杠的拼接。\n",
    "# path_abc = os.path.join('path_a2',['path_b','path_c'])#TypeError: join() argument must be str or bytes, not 'list'\n",
    "\n",
    "# if os.path.exists(path_ab) is False:\n",
    "#     os.makedirs(path_ab)\n",
    "str_a = '#'\n",
    "str_b = 'hello world world world'\n",
    "str_c = str_a.join(str_b)\n",
    "print(str_c)\n",
    "#help(os.path.join)"
   ]
  },
  {
   "cell_type": "code",
   "execution_count": null,
   "metadata": {
    "collapsed": true
   },
   "outputs": [],
   "source": []
  },
  {
   "cell_type": "code",
   "execution_count": null,
   "metadata": {
    "collapsed": true
   },
   "outputs": [],
   "source": []
  },
  {
   "cell_type": "code",
   "execution_count": null,
   "metadata": {
    "collapsed": true
   },
   "outputs": [],
   "source": []
  }
 ],
 "metadata": {
  "kernelspec": {
   "display_name": "virtual py36",
   "language": "python",
   "name": "py36"
  },
  "language_info": {
   "codemirror_mode": {
    "name": "ipython",
    "version": 3
   },
   "file_extension": ".py",
   "mimetype": "text/x-python",
   "name": "python",
   "nbconvert_exporter": "python",
   "pygments_lexer": "ipython3",
   "version": "3.6.1"
  }
 },
 "nbformat": 4,
 "nbformat_minor": 2
}
