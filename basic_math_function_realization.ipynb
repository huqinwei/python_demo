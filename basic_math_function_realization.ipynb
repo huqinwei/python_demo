{
 "cells": [
  {
   "cell_type": "markdown",
   "metadata": {},
   "source": [
    "# 一些基本操作，基本数学功能的实现"
   ]
  },
  {
   "cell_type": "code",
   "execution_count": null,
   "metadata": {
    "collapsed": true
   },
   "outputs": [],
   "source": [
    "# Python3 实例"
   ]
  },
  {
   "cell_type": "code",
   "execution_count": 1,
   "metadata": {},
   "outputs": [
    {
     "name": "stdout",
     "output_type": "stream",
     "text": [
      "input number1:3\n",
      "input number2:54\n",
      "sum is  57.0\n"
     ]
    }
   ],
   "source": [
    "# Python 数字求和\n",
    "num1 = input('input number1:')\n",
    "num2 = input('input number2:')\n",
    "\n",
    "sum = float(num1) + float(num2)\n",
    "\n",
    "print('sum is ',sum)"
   ]
  },
  {
   "cell_type": "code",
   "execution_count": 2,
   "metadata": {},
   "outputs": [
    {
     "name": "stdout",
     "output_type": "stream",
     "text": [
      "input a number:4\n",
      "input a number:2\n",
      "4.000's  squart is 2.000\n",
      "2.000's  squart is 1.414\n",
      "2 的平方根为 1.414+0.000j\n"
     ]
    }
   ],
   "source": [
    "#Python 平方根,两种方法\n",
    "import cmath\n",
    "\n",
    "num = float(input('input a number:'))\n",
    "num2 = int(input('input a number:'))\n",
    "num_sqrt = num ** 0.5\n",
    "num_sqrt2 = cmath.sqrt(num2)\n",
    "print('%0.3f\\'s  squart is %0.3f'%(num,num_sqrt))\n",
    "print('%0.3f\\'s  squart is %0.3f'%(num2,num_sqrt2.real))\n",
    "print('{0} 的平方根为 {1:0.3f}+{2:0.3f}j'.format(num2 ,num_sqrt2.real,num_sqrt2.imag))"
   ]
  },
  {
   "cell_type": "code",
   "execution_count": 3,
   "metadata": {},
   "outputs": [
    {
     "name": "stdout",
     "output_type": "stream",
     "text": [
      "solution: 0j (1+0j)\n"
     ]
    }
   ],
   "source": [
    "# Python 二次方程\n",
    "import cmath\n",
    "# ax**2 + bx + c = 0\n",
    "a = 1\n",
    "b = -1\n",
    "c = 0\n",
    "d = (b**2) - 4*a*c\n",
    "sol1 = (-b-cmath.sqrt(d))/(2*a)\n",
    "sol2 = (-b+cmath.sqrt(d))/(2*a)\n",
    "print('solution:',sol1,sol2)"
   ]
  },
  {
   "cell_type": "code",
   "execution_count": 4,
   "metadata": {},
   "outputs": [
    {
     "name": "stdout",
     "output_type": "stream",
     "text": [
      "area: 0.4330127018922193\n"
     ]
    }
   ],
   "source": [
    "#Python 计算三角形的面积\n",
    "a = 1\n",
    "b = 1\n",
    "c = 1\n",
    "s = (a+b+c)/2\n",
    "area=(s*(s-a)*(s-b)*(s-c))**0.5\n",
    "print('area:',area)"
   ]
  },
  {
   "cell_type": "code",
   "execution_count": 5,
   "metadata": {},
   "outputs": [
    {
     "name": "stdout",
     "output_type": "stream",
     "text": [
      "1\n"
     ]
    }
   ],
   "source": [
    "# Python 最大公约数算法\n",
    "def hfc(x,y):\n",
    "    if x > y:\n",
    "        smaller = y\n",
    "    else:\n",
    "        smaller = x\n",
    "    for i in range(1,smaller+1):#迭代到比较小的那个值\n",
    "        if(x%i ==0and y%i==0):\n",
    "            hcf=i#这是会更新的\n",
    "    return hcf\n",
    "num1 = 5\n",
    "num2 = 9\n",
    "print(hfc(num1,num2))"
   ]
  },
  {
   "cell_type": "code",
   "execution_count": 6,
   "metadata": {},
   "outputs": [
    {
     "name": "stdout",
     "output_type": "stream",
     "text": [
      "12\n"
     ]
    }
   ],
   "source": [
    "# Python 最小公倍数算法\n",
    "def lcm(x,y):\n",
    "    if x > y:\n",
    "        greater = x\n",
    "    else:\n",
    "        greater = y\n",
    "    while(True):\n",
    "        if((greater%x==0) and (greater%y==0)):\n",
    "            lcm = greater\n",
    "            break\n",
    "        greater+=1\n",
    "    return lcm\n",
    "num1 = 3\n",
    "num2 = 4\n",
    "print(lcm(num1,num2))"
   ]
  },
  {
   "cell_type": "code",
   "execution_count": 9,
   "metadata": {},
   "outputs": [
    {
     "name": "stdout",
     "output_type": "stream",
     "text": [
      "is prime\n"
     ]
    }
   ],
   "source": [
    "# Python 质数判断\n",
    "num = 13\n",
    "if num > 1:\n",
    "    for i in range(2,num):\n",
    "        if(num%i)==0:\n",
    "            print('not prime')\n",
    "            break\n",
    "    else:\n",
    "        print('is prime')\n",
    "else:\n",
    "    print('not prime')"
   ]
  },
  {
   "cell_type": "code",
   "execution_count": 12,
   "metadata": {},
   "outputs": [
    {
     "name": "stdout",
     "output_type": "stream",
     "text": [
      "factorial is 6\n"
     ]
    }
   ],
   "source": [
    "#Python 阶乘实例\n",
    "num = 3\n",
    "factorial = 1\n",
    "if num < 0:\n",
    "    print('has not factorial')\n",
    "elif num == 0:\n",
    "    print('is 1')\n",
    "else:\n",
    "    for i in range(1,num+1):\n",
    "        factorial *= i\n",
    "    print('factorial is',factorial)\n"
   ]
  },
  {
   "cell_type": "code",
   "execution_count": 13,
   "metadata": {},
   "outputs": [
    {
     "name": "stdout",
     "output_type": "stream",
     "text": [
      "1\n",
      "1\n",
      "2\n",
      "3\n",
      "5\n",
      "8\n"
     ]
    }
   ],
   "source": [
    "#fibonacci的另一种实现，同时也是一种便捷赋值方式\n",
    "a,b = 0,1\n",
    "while b < 10:\n",
    "        print(b)\n",
    "        a, b = b, a+b\n",
    "\n",
    "        #等价于下边的操作\n",
    "        #right#先计算右边表达式，然后同时赋值给左边\n",
    "#         n = b\n",
    "#         m = a + b\n",
    "#         a = n\n",
    "#         b = m\n",
    "        \n",
    "        #wrong\n",
    "        # a = b\n",
    "        # b = a + b"
   ]
  },
  {
   "cell_type": "code",
   "execution_count": null,
   "metadata": {
    "collapsed": true
   },
   "outputs": [],
   "source": []
  }
 ],
 "metadata": {
  "kernelspec": {
   "display_name": "virtual py36",
   "language": "python",
   "name": "py36"
  },
  "language_info": {
   "codemirror_mode": {
    "name": "ipython",
    "version": 3
   },
   "file_extension": ".py",
   "mimetype": "text/x-python",
   "name": "python",
   "nbconvert_exporter": "python",
   "pygments_lexer": "ipython3",
   "version": "3.6.1"
  }
 },
 "nbformat": 4,
 "nbformat_minor": 2
}
