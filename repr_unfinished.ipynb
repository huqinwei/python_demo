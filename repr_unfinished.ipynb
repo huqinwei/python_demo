{
 "cells": [
  {
   "cell_type": "markdown",
   "metadata": {},
   "source": [
    "# Python3中的表达\n",
    "str()： 函数返回一个用户易读的表达形式。\n",
    "repr()： 产生一个解释器易读的表达形式。\n",
    "\n"
   ]
  },
  {
   "cell_type": "markdown",
   "metadata": {},
   "source": [
    "## 类型其实都是str，但是打印出来还是有明显区别的。"
   ]
  },
  {
   "cell_type": "code",
   "execution_count": 2,
   "metadata": {},
   "outputs": [
    {
     "name": "stdout",
     "output_type": "stream",
     "text": [
      "Hello, World\n",
      "<class 'str'>\n",
      "'Hello, World'\n",
      "<class 'str'>\n"
     ]
    }
   ],
   "source": [
    "s = \"Hello, World\"\n",
    "print(str(s))\n",
    "print(type(str(s)))\n",
    "print(repr(s))\n",
    "print(type(repr(s)))"
   ]
  },
  {
   "cell_type": "markdown",
   "metadata": {},
   "source": [
    "## 有些区别用这个print显示不出来，因为已经被print()给转换了,得用终端交互，直接输入表达式来打印，就有区别了"
   ]
  },
  {
   "cell_type": "code",
   "execution_count": 5,
   "metadata": {},
   "outputs": [
    {
     "name": "stdout",
     "output_type": "stream",
     "text": [
      "0.14285714285714285\n",
      "<class 'float'>\n",
      "0.14285714285714285\n",
      "<class 'str'>\n",
      "0.14285714285714285\n",
      "<class 'str'>\n"
     ]
    }
   ],
   "source": [
    "\n",
    "#感觉repr就是一种给机器的格式，str就是人为调整的固定形式。但是print也支持了很多格式控制，str.format\n",
    "# str.format()\n",
    "print((1/7))\n",
    "print(type((1/7)))\n",
    "print(str(1/7))\n",
    "print(type(str(1/7)))\n",
    "print(repr(1/7))\n",
    "print(type(repr(1/7)))"
   ]
  },
  {
   "cell_type": "markdown",
   "metadata": {},
   "source": [
    "这是rjust的使用"
   ]
  },
  {
   "cell_type": "code",
   "execution_count": 6,
   "metadata": {},
   "outputs": [
    {
     "name": "stdout",
     "output_type": "stream",
     "text": [
      " 1   1    1\n",
      " 2   4    8\n",
      " 3   9   27\n",
      " 4  16   64\n",
      " 5  25  125\n",
      " 6  36  216\n",
      " 7  49  343\n",
      " 8  64  512\n",
      " 9  81  729\n",
      "10 100 1000\n"
     ]
    }
   ],
   "source": [
    "for x in range(1, 11):\n",
    "    print(repr(x).rjust(2), repr(x*x).rjust(3), end=' ')\n",
    "    # 注意前一行 'end' 的使用\n",
    "    print(repr(x*x*x).rjust(4))\n"
   ]
  },
  {
   "cell_type": "markdown",
   "metadata": {},
   "source": [
    "# 待整理复习"
   ]
  },
  {
   "cell_type": "code",
   "execution_count": null,
   "metadata": {
    "collapsed": true
   },
   "outputs": [],
   "source": [
    "\n",
    "\n",
    "# >>> for x in range(1, 11):\n",
    "# ...     print('{0:2d} {1:3d} {2:4d}'.format(x, x*x, x*x*x))\n",
    "# ...\n",
    "\n",
    "# >>> 'l2'.zfill(5)\n",
    "# '000l2'\n",
    "# >>> '-3.15'.zfil(7)\n",
    "# Traceback (most recent call last):\n",
    "#   File \"<stdin>\", line 1, in <module>\n",
    "# AttributeError: 'str' object has no attribute 'zfil'\n",
    "# >>> '-3.15'.zfill(7)\n",
    "# '-003.15'\n",
    "# >>> '3.1412431231'.zfill(5)\n",
    "# '3.1412431231'\n",
    "#\n",
    "#\n",
    "#\n",
    "# #原来花括号就能传参了，不用里边的数字，数字主要可以调整、颠倒顺序\n",
    "# >>> str1 = '{0},,,,,{1},'.format(33,55)\n",
    "# >>> str1\n",
    "# '33,,,,,55,'\n",
    "# >>> str2 = '{}....{}'.format(44,55)\n",
    "# >>> str2\n",
    "# '44....55'\n",
    "# >>> str3 = '{1},,,{0}'.format(33,55)\n",
    "# >>> str3\n",
    "# '55,,,33'\n",
    "# >>> str4 =\n",
    "#   File \"<stdin>\", line 1\n",
    "#     str4 =\n",
    "#           ^\n",
    "# SyntaxError: invalid syntax\n",
    "# >>> str4 = '{name}....{age}'.format(33,44)\n",
    "# Traceback (most recent call last):\n",
    "#   File \"<stdin>\", line 1, in <module>\n",
    "# KeyError: 'name'\n",
    "# >>> str4 = '{name}....{age}'.format(name = 'hu',age = 44)\n",
    "# >>> str4\n",
    "# 'hu....44'\n",
    "# >>> str4 = '{age}....{age}'.format(name = 'hu',age = 44)\n",
    "# >>> str4\n",
    "# '44....44'\n",
    "# >>> str4 = '{age}....{name}'.format(name = 'hu',age = 44)\n",
    "# >>> str4\n",
    "# '44....hu'\n",
    "# >>> str5 = '{0},{1},{name}'.format(name = 'hu',100,1000)\n",
    "#   File \"<stdin>\", line 1\n",
    "# SyntaxError: positional argument follows keyword argument\n",
    "# >>> str5 = '{0},{1},{name}'.format(10,100,name = 'hu',100,1000)\n",
    "#   File \"<stdin>\", line 1\n",
    "# SyntaxError: positional argument follows keyword argument\n",
    "# >>> str5 = '{0},{1},{name}'.format(10,100,name = 'hu')\n",
    "# >>> str5\n",
    "# '10,100,hu'\n",
    "# >>> str5 = '{0},{1},{name}'.format(name = 'hu',100,1000)\n",
    "#   File \"<stdin>\", line 1\n",
    "# SyntaxError: positional argument follows keyword argument\n",
    "# >>> str5 = '{0},{1},{name}'.format(name = 'hu',100)\n",
    "#   File \"<stdin>\", line 1\n",
    "# SyntaxError: positional argument follows keyword argument\n",
    "# >>> str5 = '{0},{1},{name}'.format(name = 'hu',100)\n",
    "\n",
    "#虽然关键字和纯下标可以自由结合，但是感觉限制挺多的\n",
    "\n",
    "\n",
    "\n",
    "\n",
    "#'!a' (使用 ascii()), '!s' (使用 str()) 和 '!r' (使用 repr()) 可以用于在格式化某个值之前对其进行转化:\n",
    "\n",
    "\n",
    "\n",
    "# >>> import math\n",
    "# >>> print('PI similar to:{}'.format(math.pi))\n",
    "# PI similar to:3.141592653589793\n",
    "# >>> print('PI similar to:{!r}'.format(math.pi))\n",
    "# PI similar to:3.141592653589793\n",
    "# >>> 'PI similar to:{!r}'.format(math.pi)\n",
    "# 'PI similar to:3.141592653589793'\n",
    "# >>> 'PI similar to:{}'.format(math.pi)\n",
    "# 'PI similar to:3.141592653589793'\n",
    "# >>> print('pi similar to {0:.3f}'.format(math.pi))\n",
    "# pi similar to 3.142\n",
    "# >>> print('pi similar to {5:.3f}'.format(math.pi))\n",
    "# Traceback (most recent call last):\n",
    "#   File \"<stdin>\", line 1, in <module>\n",
    "# IndexError: tuple index out of range\n",
    "# >>> print('pi similar to {0:.3f}'.format(math.pi))\n",
    "# pi similar to 3.142\n",
    "# >>> print('pi similar to {1:.3f}'.format(math.pi))\n",
    "# Traceback (most recent call last):\n",
    "#   File \"<stdin>\", line 1, in <module>\n",
    "# IndexError: tuple index out of range\n",
    "# >>> print('pi similar to {0:.3f}'.format(math.pi))\n",
    "# pi similar to 3.142\n",
    "# >>> print('pi similar to {2:.3f}'.format(math.pi,8888.9999))\n",
    "# Traceback (most recent call last):\n",
    "#   File \"<stdin>\", line 1, in <module>\n",
    "# IndexError: tuple index out of range\n",
    "# >>> print('pi similar to {1:.3f}'.format(math.pi,8888.9999))\n",
    "# pi similar to 8889.000\n",
    "# >>> print('pi similar to {1:3.3f}'.format(math.pi,8888.9999))\n",
    "# pi similar to 8889.000\n",
    "# >>> print('pi similar to {1:5.3f}'.format(math.pi,8888.9999))\n",
    "# pi similar to 8889.000\n",
    "# >>> print('pi similar to {1:5.5f}'.format(math.pi,8888.9999))\n",
    "# pi similar to 8888.99990\n",
    "# >>> table = {'google':1,'baidu':2,'taobao':3}\n",
    "# >>> for name,number in table.items():\n",
    "# ...     print('{0:10} ==> {1:10d}'.format(name,number))\n",
    "# ...\n",
    "# baidu      ==>          2\n",
    "# taobao     ==>          3\n",
    "# google     ==>          1\n",
    "# >>> print('ali:{0['Taobao']:d}; g:{0['google']:d};  b:{0['baidu']:d}'.format(table))\n",
    "#   File \"<stdin>\", line 1\n",
    "#     print('ali:{0['Taobao']:d}; g:{0['google']:d};  b:{0['baidu']:d}'.format(table))\n",
    "#                         ^\n",
    "# SyntaxError: invalid syntax\n",
    "# >>> print(\"ali:{0['Taobao']:d}; g:{0['google']:d};  b:{0['baidu']:d}\".format(table))\n",
    "# Traceback (most recent call last):\n",
    "#   File \"<stdin>\", line 1, in <module>\n",
    "# KeyError: \"'Taobao'\"\n",
    "# >>> print(\"ali:{0[Taobao]:d}; g:{0[google]:d};  b:{0[baidu]:d}\".format(table))\n",
    "# Traceback (most recent call last):\n",
    "#   File \"<stdin>\", line 1, in <module>\n",
    "# KeyError: 'Taobao'\n",
    "# >>> table\n",
    "# {'baidu': 2, 'taobao': 3, 'google': 1}\n",
    "# >>> print(\"ali:{0[taobao]:d}; g:{0[google]:d};  b:{0[baidu]:d}\".format(table))\n",
    "# ali:3; g:1;  b:2\n",
    "# >>> print(\"ali:{0['taobao']:d}; g:{0[google]:d};  b:{0[baidu]:d}\".format(table))\n",
    "# Traceback (most recent call last):\n",
    "#   File \"<stdin>\", line 1, in <module>\n",
    "# KeyError: \"'taobao'\"\n",
    "# >>> print(\"ali:{0[taobao]:d}; g:{0[google]:d};  b:{0[baidu]:d}\".format(table))\n",
    "# ali:3; g:1;  b:2\n",
    "#下标还可以这样用，format只跟一个table，然后用下标去table取值，不过这个下标key不用加引号\n",
    "#也可以通过在 table 变量前使用 '**' 来实现相同的功能：\n",
    "# >>> table = {'Google': 1, 'Runoob': 2, 'Taobao': 3}\n",
    "# >>> print('Runoob: {Runoob:d}; Google: {Google:d}; Taobao: {Taobao:d}'.format(**table))\n",
    "# Runoob: 2; Google: 1; Taobao: 3\n",
    "\n",
    "\n",
    "#旧式字符串格式化\n",
    "# >>> print('pi : %5.3f'%math.pi)\n",
    "# pi : 3.142\n"
   ]
  },
  {
   "cell_type": "code",
   "execution_count": null,
   "metadata": {
    "collapsed": true
   },
   "outputs": [],
   "source": []
  },
  {
   "cell_type": "code",
   "execution_count": null,
   "metadata": {
    "collapsed": true
   },
   "outputs": [],
   "source": []
  },
  {
   "cell_type": "code",
   "execution_count": null,
   "metadata": {
    "collapsed": true
   },
   "outputs": [],
   "source": []
  },
  {
   "cell_type": "code",
   "execution_count": null,
   "metadata": {
    "collapsed": true
   },
   "outputs": [],
   "source": []
  },
  {
   "cell_type": "code",
   "execution_count": null,
   "metadata": {
    "collapsed": true
   },
   "outputs": [],
   "source": []
  },
  {
   "cell_type": "code",
   "execution_count": null,
   "metadata": {
    "collapsed": true
   },
   "outputs": [],
   "source": []
  },
  {
   "cell_type": "code",
   "execution_count": null,
   "metadata": {
    "collapsed": true
   },
   "outputs": [],
   "source": []
  },
  {
   "cell_type": "code",
   "execution_count": null,
   "metadata": {
    "collapsed": true
   },
   "outputs": [],
   "source": []
  },
  {
   "cell_type": "code",
   "execution_count": null,
   "metadata": {
    "collapsed": true
   },
   "outputs": [],
   "source": []
  }
 ],
 "metadata": {
  "kernelspec": {
   "display_name": "virtual py36",
   "language": "python",
   "name": "py36"
  },
  "language_info": {
   "codemirror_mode": {
    "name": "ipython",
    "version": 3
   },
   "file_extension": ".py",
   "mimetype": "text/x-python",
   "name": "python",
   "nbconvert_exporter": "python",
   "pygments_lexer": "ipython3",
   "version": "3.6.1"
  }
 },
 "nbformat": 4,
 "nbformat_minor": 2
}
