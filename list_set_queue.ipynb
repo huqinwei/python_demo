{
 "cells": [
  {
   "cell_type": "markdown",
   "metadata": {},
   "source": [
    "# python3数据结构"
   ]
  },
  {
   "cell_type": "markdown",
   "metadata": {},
   "source": [
    "## list"
   ]
  },
  {
   "cell_type": "markdown",
   "metadata": {},
   "source": [
    "错误的使用方法：l1 = list(1,2,3)\n",
    "前者是多参，其实初始化是一个参数，传入tuple，作为初始化数值。"
   ]
  },
  {
   "cell_type": "code",
   "execution_count": 13,
   "metadata": {},
   "outputs": [
    {
     "name": "stdout",
     "output_type": "stream",
     "text": [
      "[1, 2, 3, 4]\n"
     ]
    }
   ],
   "source": [
    "l1 = list((1,2,3))\n",
    "l1.append(4)\n",
    "print(l1)"
   ]
  },
  {
   "cell_type": "markdown",
   "metadata": {},
   "source": [
    "奇怪的设定，下标5越界，但是第一种方法就可以，第二种就不行！！！！！"
   ]
  },
  {
   "cell_type": "code",
   "execution_count": 16,
   "metadata": {},
   "outputs": [
    {
     "name": "stdout",
     "output_type": "stream",
     "text": [
      "[1, 2, 3, 4, 5, 5]\n",
      "len is : 6\n",
      "[1, 2, 3, 4, 5, 5, 5]\n"
     ]
    }
   ],
   "source": [
    "print(l1)\n",
    "print('len is :',len(l1))\n",
    "l1[len(l1):] = [5]\n",
    "print(l1)\n",
    "#l1[len(l1)] = [6]#IndexError: list assignment index out of range\n",
    "#print(l1)"
   ]
  },
  {
   "cell_type": "markdown",
   "metadata": {},
   "source": [
    "用下标插入，插入到制定下标，其他后延。"
   ]
  },
  {
   "cell_type": "code",
   "execution_count": 19,
   "metadata": {},
   "outputs": [
    {
     "name": "stdout",
     "output_type": "stream",
     "text": [
      "[11, 11, 1, 1, 2, 3, 4, 5, 5, 5]\n"
     ]
    }
   ],
   "source": [
    "l1.insert(0,11)\n",
    "print(l1)"
   ]
  },
  {
   "cell_type": "markdown",
   "metadata": {},
   "source": [
    "插入新下标，下标出旧界也可以，刚好就是新增的那个下标。"
   ]
  },
  {
   "cell_type": "code",
   "execution_count": 23,
   "metadata": {},
   "outputs": [
    {
     "name": "stdout",
     "output_type": "stream",
     "text": [
      "len is : 14\n",
      "[11, 11, 1, 1, 2, 3, 4, 5, 5, 5, 6, 6, 100, 6, 6]\n",
      "[11, 11, 1, 1, 2, 3, 4, 5, 5, 5, 6, 6, 100, 6, 100, 6]\n"
     ]
    }
   ],
   "source": [
    "print('len is :',len(l1))\n",
    "l1.insert(len(l1),6)\n",
    "print(l1)\n",
    "l1.insert(len(l1) - 1, 100)\n",
    "print(l1)"
   ]
  },
  {
   "cell_type": "markdown",
   "metadata": {},
   "source": [
    "范围删除，全删也存在空列表，但是对象删除，就不存在了"
   ]
  },
  {
   "cell_type": "code",
   "execution_count": 26,
   "metadata": {},
   "outputs": [
    {
     "name": "stdout",
     "output_type": "stream",
     "text": [
      "[1, 2]\n",
      "[]\n"
     ]
    }
   ],
   "source": [
    "l1 = [1,2,3]\n",
    "del l1[2:]\n",
    "print(l1)\n",
    "del l1[:]\n",
    "print(l1)\n",
    "del l1\n",
    "#print(l1)#error:not define"
   ]
  },
  {
   "cell_type": "markdown",
   "metadata": {},
   "source": [
    "混合类型数据，混合类型计数器"
   ]
  },
  {
   "cell_type": "code",
   "execution_count": 28,
   "metadata": {},
   "outputs": [
    {
     "name": "stdout",
     "output_type": "stream",
     "text": [
      "count element: 2 1 0\n",
      "count element: 2 1 1\n"
     ]
    }
   ],
   "source": [
    "a = [66.25, 333, 333, 1, 1234.5]\n",
    "print('count element:', a.count(333), a.count(66.25), a.count('x'))\n",
    "a.append('x')\n",
    "print('count element:', a.count(333), a.count(66.25), a.count('x'))"
   ]
  },
  {
   "cell_type": "markdown",
   "metadata": {},
   "source": [
    "index()容错不够好，不存在的不让用，直接报错。\n",
    "remove()容错也不好，不存在的也报错。"
   ]
  },
  {
   "cell_type": "code",
   "execution_count": 34,
   "metadata": {},
   "outputs": [
    {
     "name": "stdout",
     "output_type": "stream",
     "text": [
      "[66.25, 333, -1, 333, 1, 1234.5, 333]\n",
      "1\n",
      "2\n",
      "return is : None\n",
      "[333, -1, 333, 1, 1234.5, 333]\n"
     ]
    }
   ],
   "source": [
    "a = [66.25, 333,333,1,1234.5]\n",
    "a.insert(2,-1)\n",
    "a.append(333)\n",
    "print(a)\n",
    "print(a.index(333))\n",
    "print(a.index(-1))\n",
    "#print(a.index(2540))#ValueError\n",
    "print('return is :', a.remove(66.25))\n",
    "print(a)\n",
    "#print(a.remove(66.25))#valueError"
   ]
  },
  {
   "cell_type": "code",
   "execution_count": 32,
   "metadata": {},
   "outputs": [
    {
     "name": "stdout",
     "output_type": "stream",
     "text": [
      "reverse() return: None\n",
      "[1234.5, 1, 333, 333, 66.25]\n",
      "sort() return: None\n",
      "[1, 66.25, 333, 333, 1234.5]\n"
     ]
    }
   ],
   "source": [
    "a = [66.25, 333,333,1,1234.5]\n",
    "print('reverse() return:',a.reverse())\n",
    "print(a)\n",
    "print('sort() return:',a.sort())\n",
    "print(a)"
   ]
  },
  {
   "cell_type": "markdown",
   "metadata": {},
   "source": [
    "list当作栈：基本操作了，leetcode用法更多\n",
    "pop同样不容错，空list不能pop，会报错。"
   ]
  },
  {
   "cell_type": "code",
   "execution_count": 44,
   "metadata": {},
   "outputs": [
    {
     "name": "stdout",
     "output_type": "stream",
     "text": [
      "stack: [3, 4, 5, 6, 7]\n",
      "stack pop returns: 7\n",
      "stack: [3, 4, 5, 6]\n",
      "stack pop returns: 6\n",
      "stack: [3, 4, 5]\n",
      "stack pop returns: 5\n",
      "stack: [3, 4]\n",
      "stack pop returns: 4\n",
      "stack: [3]\n",
      "stack pop returns: 3\n",
      "stack: []\n"
     ]
    }
   ],
   "source": [
    "stack = [3,4,5]\n",
    "stack.append(6)\n",
    "stack.append(7)\n",
    "print('stack:',stack)\n",
    "print('stack pop returns:',stack.pop())\n",
    "print('stack:',stack)\n",
    "print('stack pop returns:',stack.pop())\n",
    "print('stack:',stack)\n",
    "print('stack pop returns:',stack.pop())\n",
    "print('stack:',stack)\n",
    "print('stack pop returns:',stack.pop())\n",
    "print('stack:',stack)\n",
    "print('stack pop returns:',stack.pop())\n",
    "print('stack:',stack)\n",
    "# print('stack pop returns:',stack.pop())#IndexError: pop from empty list\n",
    "# print('stack:',stack)\n",
    "# print('stack pop returns:',stack.pop())\n",
    "# print('stack:',stack)"
   ]
  },
  {
   "cell_type": "markdown",
   "metadata": {},
   "source": [
    "### 简单基本操作一例"
   ]
  },
  {
   "cell_type": "code",
   "execution_count": 70,
   "metadata": {},
   "outputs": [
    {
     "name": "stdout",
     "output_type": "stream",
     "text": [
      "['earth', 'jupit', 'venus', 'mars567', 'aa2345', 'bb234567', 'cc234', 'dd', 'ee']\n",
      "['earth', 'jupit', 'venus', 'cc234', 'dd', 'ee']\n"
     ]
    }
   ],
   "source": [
    "planets=['earth','jupit','venus','mars567','aa2345','bb234567','cc234','dd','ee']\n",
    "short_planets = [planet for planet in planets if len(planet) < 6]\n",
    "#short_planets = ['#'+ planet for planet in planets if len(planet) < 6]#practice:just an operation\n",
    "\n",
    "print(planets)\n",
    "print(short_planets)"
   ]
  },
  {
   "cell_type": "code",
   "execution_count": null,
   "metadata": {
    "collapsed": true
   },
   "outputs": [],
   "source": []
  },
  {
   "cell_type": "code",
   "execution_count": null,
   "metadata": {
    "collapsed": true
   },
   "outputs": [],
   "source": []
  },
  {
   "cell_type": "markdown",
   "metadata": {},
   "source": [
    "## list length"
   ]
  },
  {
   "cell_type": "code",
   "execution_count": 43,
   "metadata": {},
   "outputs": [
    {
     "name": "stdout",
     "output_type": "stream",
     "text": [
      "empty list c's length is  0\n",
      "d is  [2, 3]  and length is  2\n",
      "d2 is  [2, 3, 4]  and length is  3\n",
      "d3: 2\n",
      "d4: [[1, 2, 3, 4], [1]]\n",
      "d4[1][0]: 1\n",
      "e length: 1\n",
      "f length: 0\n",
      "g length: 1\n",
      "h length: 2\n"
     ]
    }
   ],
   "source": [
    "a = [1, 2, 3]\n",
    "b = [1, [2, 3]]#mebedded list\n",
    "#print(type(b[1]))\n",
    "\n",
    "c = []\n",
    "print('empty list c\\'s length is ',len(c))\n",
    "\n",
    "d = [1, 2, 3][1:]\n",
    "print('d is ',d,' and length is ',len(d))#child list of [1,2,3],is[2,3]\n",
    "\n",
    "d2 = [1, 2, 3,4][1:]\n",
    "d3 = [1, 2, 3,4][1]#there is no so-called '2-dim' list like this,just a child of array\n",
    "d4 = [[1,2,3,4],[1]]#this is real 2-dim list\n",
    "print('d2 is ',d2,' and length is ',len(d2))#child list of [1,2,3],is[2,3]\n",
    "print('d3:',d3)#child list of [1,2,3],is[2,3]\n",
    "print('d4:',d4)#child list of [1,2,3],is[2,3]\n",
    "print('d4[1][0]:',d4[1][0])\n",
    "#print('d4[1][0]:',d4[1][1])#out of range,there is no default filled value\n",
    "\n",
    "e = [1,2,3][1:-1]\n",
    "f = [1, 2, 3][1:1]\n",
    "g = [1, 2, 3][1:2]\n",
    "h = [1, 2, 3][1:3]\n",
    "\n",
    "#print(d.shape)\n",
    "print('e length:',len(e))\n",
    "print('f length:',len(f))\n",
    "print('g length:',len(g))\n",
    "print('h length:',len(h))"
   ]
  },
  {
   "cell_type": "code",
   "execution_count": 40,
   "metadata": {},
   "outputs": [
    {
     "name": "stdout",
     "output_type": "stream",
     "text": [
      "1\n",
      "f length: 0\n",
      "1\n",
      "2\n",
      "3\n"
     ]
    }
   ],
   "source": [
    "\n"
   ]
  },
  {
   "cell_type": "markdown",
   "metadata": {},
   "source": [
    "## list 排序 "
   ]
  },
  {
   "cell_type": "markdown",
   "metadata": {},
   "source": [
    "### 应用：计负数，排序，找到第一个0的下标，等于负数个数。"
   ]
  },
  {
   "cell_type": "code",
   "execution_count": 63,
   "metadata": {
    "collapsed": true
   },
   "outputs": [],
   "source": [
    "import copy\n",
    "\n",
    "def count_negatives(nums):\n",
    "    nums.append(0)\n",
    "    # We could also have used the list.sort() method, which modifies a list, putting it in sorted order.\n",
    "    nums = sorted(nums)\n",
    "    return nums.index(0)\n",
    "def count_positives(nums):\n",
    "    nums.append(0)\n",
    "    nums = sorted(nums,reverse=True)# needs revert,if nums have 0 already\n",
    "    return nums.index(0)\n",
    "\n",
    "def count_positives2(nums):\n",
    "    # way 2.2 detect 0 first\n",
    "    try:\n",
    "        nums.index(0)\n",
    "    except:\n",
    "        nums.append(0)#still wrong, if origin nums have more zeros,\n",
    "    nums = sorted(nums)\n",
    "\n",
    "    print('positives:',len(nums)-nums.index(0) - 1)\n",
    "    print(nums.index(0))\n",
    "    return len(nums)-nums.index(0) - 1\n",
    "\n"
   ]
  },
  {
   "cell_type": "code",
   "execution_count": 65,
   "metadata": {},
   "outputs": [
    {
     "name": "stdout",
     "output_type": "stream",
     "text": [
      "[-2, 5, -3, 8, 22, 44, 0, 0]\n",
      "2\n",
      "negatives' num: 2\n",
      "positives' num: 4\n",
      "[-2, 5, -3, 8, 22, 44, 0, 0, 0, 0]\n"
     ]
    }
   ],
   "source": [
    "test_nums = [-2,5,-3,8,22,44,0,0]\n",
    "print(test_nums)\n",
    "print(count_negatives(test_nums))\n",
    "print('negatives\\' num:',count_negatives(copy.copy(test_nums)))#此处不用copy，如果内部用sorted\n",
    "print('positives\\' num:',count_positives(copy.copy(test_nums)))\n",
    "print(test_nums)"
   ]
  },
  {
   "cell_type": "markdown",
   "metadata": {},
   "source": [
    "## 将列表当作队列使用"
   ]
  },
  {
   "cell_type": "code",
   "execution_count": null,
   "metadata": {
    "collapsed": true
   },
   "outputs": [],
   "source": []
  },
  {
   "cell_type": "markdown",
   "metadata": {},
   "source": [
    "## todo:下边这段包含了set等内容，没拆出去。"
   ]
  },
  {
   "cell_type": "code",
   "execution_count": 32,
   "metadata": {},
   "outputs": [
    {
     "name": "stdout",
     "output_type": "stream",
     "text": [
      "deque(['Eric', 'John', 'Michael', 'Jackson', 'Terry', 'Clark'])\n",
      "pop: Eric\n",
      "deque(['John', 'Michael', 'Jackson', 'Terry', 'Clark'])\n",
      "pop: John\n",
      "deque(['Michael', 'Jackson', 'Terry', 'Clark'])\n",
      "[6, 12, 18]\n",
      "[12, 18]\n",
      "[]\n",
      "[[2, 4], [4, 16], [6, 36]]\n",
      "['banana', 'apple', 'pear']\n",
      "[8, 6, -18, 16, 12, -36, 24, 18, -54]\n",
      "[6, 5, -7, 8, 7, -5, 10, 9, -3]\n",
      "[8, 12, -54]\n",
      "['3.1', '3.14', '3.142', '3.1416', '3.14159']\n",
      "[[1, 2, 3, 4], [5, 6, 7, 8], [9, 10, 11, 12]]\n",
      "[[1, 5, 9], [2, 6, 10], [3, 7, 11], [4, 8, 12]]\n",
      "[1, 2, 3, 4]\n",
      "[5, 6, 7, 8]\n",
      "[9, 10, 11, 12]\n",
      "1\n",
      "5\n",
      "9\n",
      "2\n",
      "6\n",
      "10\n",
      "3\n",
      "7\n",
      "11\n",
      "4\n",
      "8\n",
      "12\n",
      "[[1, 5, 9], [2, 6, 10], [3, 7, 11], [4, 8, 12]]\n",
      "[[1, 5, 9], [2, 6, 10], [3, 7, 11], [4, 8, 12]]\n",
      "[[1, 5, 9], [2, 6, 10], [3, 7, 11], [4, 8, 12]]\n",
      "[-1, 1, 66.25, 333, 333, 1234.5]\n",
      "[1, 66.25, 333, 333, 1234.5]\n",
      "[1, 66.25, 333, 1234.5]\n",
      "[]\n",
      "hello\n",
      "(12345, 54321, 'helloheloo')\n",
      "12345\n",
      "((12345, 54321, 'helloheloo'), (1, 2, 3, 4, 5))\n",
      "<class 'dict'>\n",
      "<class 'set'>\n",
      "{'apple', 'banana', 'pear', 'orange'}\n",
      "True\n",
      "False\n",
      "{'b', 'd', 'c', 'r', 'a'}\n",
      "{'l', 'm', 'c', 'z', 'a'}\n",
      "{'b', 'r', 'd'}\n",
      "{'l', 'z', 'm'}\n",
      "{'l', 'b', 'm', 'd', 'c', 'z', 'r', 'a'}\n",
      "{'a', 'c'}\n",
      "{'l', 'b', 'm', 'd', 'z', 'r'}\n",
      "{'r', 'd'}\n",
      "{'jack': 4008003333, 'sparow': '8008208820'}\n",
      "4008003333\n",
      "{'jack': 4008003333, 'sparow': '8008208820', 'chowyunfat': 1300000}\n",
      "['jack', 'sparow', 'chowyunfat']\n",
      "['chowyunfat', 'jack', 'sparow']\n",
      "[4008003333, '8008208820', 1300000]\n",
      "True\n",
      "True\n",
      "4008003333\n",
      "None\n",
      "False\n",
      "d1: {'a': 444, 'aasd': 5324, 'ny': 343}\n",
      "d2: {'a': 444, 'aasd': 5324, 'ny': 343}\n",
      "{0: 0, 1: 1, 2: 4, 3: 9}\n",
      "d5: {4: 16, 2: 4, 11: 121}\n",
      "gallahad the pure\n",
      "robin the brave\n",
      "gallahad\n",
      "robin\n",
      "the pure\n",
      "the brave\n",
      "0 tic\n",
      "1 tac\n",
      "2 toe\n",
      "what is your name? \n",
      "what is your quest? \n",
      "what is your favorite color? \n",
      "what is your name? It is lancelot.the tips is tip1\n",
      "what is your quest? It is the holy grail.the tips is tip2\n",
      "what is your favorite color? It is blue.the tips is tip3\n",
      "1\n",
      "3\n",
      "5\n",
      "7\n",
      "9\n",
      "9\n",
      "7\n",
      "5\n",
      "3\n",
      "1\n",
      "range(1, 10, 2)\n",
      "<range_iterator object at 0x7fe700737ed0>\n",
      "['apple', 'orange', 'apple', 'pear', 'orange', 'banana']\n",
      "apple\n",
      "banana\n",
      "pear\n",
      "orange\n",
      "sorted: apple\n",
      "sorted: banana\n",
      "sorted: orange\n",
      "sorted: pear\n",
      "before sorted: {'apple', 'banana', 'pear', 'orange'}\n",
      "sorted: apple\n",
      "sorted: banana\n",
      "sorted: orange\n",
      "sorted: pear\n",
      "after sorted: {'apple', 'banana', 'pear', 'orange'}\n",
      "set a is: {'b', 'd', 'c', 'r', 'a'}\n",
      "None\n",
      "{'b', 'd', 'c', 'a'}\n",
      "b\n",
      "{'d', 'c', 'a'}\n",
      "{'i', 'd', 'c', 'a'}\n",
      "{'jack': 4008003333, 'sparow': '8008208820'}\n",
      "4008003333\n",
      "{'sparow': '8008208820'}\n"
     ]
    }
   ],
   "source": [
    "\n",
    "\n",
    "\n",
    "from collections import deque\n",
    "queue = deque(['Eric','John','Michael','Jackson'])\n",
    "queue.append('Terry')\n",
    "queue.append('Clark')\n",
    "print(queue)\n",
    "print('pop:',queue.popleft())\n",
    "print(queue)\n",
    "print('pop:',queue.popleft())\n",
    "print(queue)\n",
    "\n",
    "\n",
    "\n",
    "\n",
    "# 列表推导式\n",
    "# 列表推导式提供了从序列创建列表的简单途径。通常应用程序将一些操作应用于某个序列的每个元素，用其获得的结果作为生成新列表的元素，或者根据确定的判定条件创建子序列。\n",
    "#\n",
    "# 每个列表推导式都在 for 之后跟一个表达式，然后有零到多个 for 或 if 子句。返回结果是一个根据表达从其后的 for 和 if 上下文环境中生成出来的列表。如果希望表达式推导出一个元组，就必须使用括号。\n",
    "#\n",
    "# 这里我们将列表中每个数值乘三，获得一个新的列表：\n",
    "\n",
    "vec = [2,4,6]\n",
    "print([3*x for x in vec])\n",
    "print([3*x for x in vec if x > 3])\n",
    "print([3*x for x in vec if x < 2])\n",
    "print([[x,x**2]for x in vec])\n",
    "\n",
    "\n",
    "\n",
    "freshfruit = ['            banana', '           apple         ', 'pear          ']\n",
    "print([weapon.strip() for weapon in freshfruit])\n",
    "\n",
    "\n",
    "vec1 = [2,4,6]\n",
    "vec2 = [4,3,-9]\n",
    "print([x*y for x in vec1 for y in vec2])#这其实是双层循环，不是并列循环，x取一个值，y遍历一遍\n",
    "print([x+y for x in vec1 for y in vec2])\n",
    "print([vec1[i] * vec2[i] for i in range(len(vec1))])#这个倒是同步遍历了，其实也不安全，前提是等长。\n",
    "print([str(round(355/113, i)) for i in range(1,6)])\n",
    "\n",
    "\n",
    "\n",
    "\n",
    "#嵌套列表解析\n",
    "matrix = [\n",
    "    [1,2,3,4],\n",
    "    [5,6,7,8],\n",
    "    [9,10,11,12],\n",
    "]\n",
    "print(matrix)\n",
    "# matrix.reshape(4,3)#AttributeError: 'list' object has no attribute 'reshape'\n",
    "# print('reshape:',matrix)\n",
    "\n",
    "matrix2 = [[row[i] for row in matrix] for i in range(4)]\n",
    "print(matrix2)\n",
    "#外层循环是i，所以一个固定的i，对应所有的row，攒起来，就是每列第一个，组合成了第一行，每列第二个，组成了第二行。\n",
    "for row in matrix:\n",
    "    print(row)\n",
    "\n",
    "#土法子，先定义好，然后修改值\n",
    "matrix3 = [[0,0,0],[0,0,0],[0,0,0],[0,0,0],]\n",
    "for i in range(len(matrix[0])):\n",
    "    j = 0\n",
    "    for row in matrix:\n",
    "        print(row[i])\n",
    "        matrix3[i][j] = row[i]\n",
    "        j += 1\n",
    "print(matrix3)\n",
    "\n",
    "#这是一次组合好一个[]，然后append进去\n",
    "transposed = []\n",
    "for i in range(4):\n",
    "    transposed.append([row[i] for row in matrix])\n",
    "print(transposed)\n",
    "\n",
    "#这种更直观\n",
    "transposed = []\n",
    "for i in range(4):\n",
    "    transposed_row = []\n",
    "    for row in matrix:\n",
    "        transposed_row.append(row[i])\n",
    "    transposed.append(transposed_row)\n",
    "print(transposed)\n",
    "\n",
    "\n",
    "#del删元素的话，是用下标，而remove是用值\n",
    "a = [-1, 1, 66.25, 333, 333, 1234.5]\n",
    "print(a)\n",
    "del a[0]\n",
    "print(a)\n",
    "del a[-2:-1]\n",
    "print(a)\n",
    "del a[:]\n",
    "print(a)\n",
    "del a\n",
    "# print(a)#这个报错好像是这样的，他后边有东西要执行，尤其有打印print('hello')要执行，就报错，如果什么都没有，就不报错了\n",
    "b = 4#一个定义b的语句隔开，再来个打印就不报错了，神奇\n",
    "print('hello')\n",
    "\n",
    "t = 12345,54321,'helloheloo'\n",
    "print(t)\n",
    "print(t[0])\n",
    "u = t,(1,2,3,4,5)#nested\n",
    "print(u)\n",
    "\n",
    "\n",
    "\n",
    "# 集合\n",
    "# 集合是一个无序不重复元素的集。基本功能包括关系测试和消除重复元素。\n",
    "#\n",
    "# 可以用大括号({})创建集合。注意：如果要创建一个空集合，你必须用 set() 而不是 {} ；后者创建一个空的字典，下一节我们会介绍这个数据结构。\n",
    "#警告，大括号两种用途，默认给了字典！！!!!!!!!!!!!\n",
    "\n",
    "\n",
    "dict1 = {}\n",
    "print(type(dict1))\n",
    "\n",
    "basket = {'apple', 'orange', 'apple', 'pear', 'orange', 'banana'}\n",
    "print(type(basket))\n",
    "print(basket)\n",
    "print('orange' in basket)\n",
    "print('lalsjalksdja' in basket)\n",
    "\n",
    "a = set('abracadabra')\n",
    "b = set('alacazam')\n",
    "print(a)\n",
    "print(b)\n",
    "print(a-b)\n",
    "print(b-a)\n",
    "print(a|b)\n",
    "print(a&b)\n",
    "print(a^b)\n",
    "\n",
    "a = {x for x in 'abracadabra' if x not in 'abc'}\n",
    "print(a)\n",
    "\n",
    "\n",
    "\n",
    "\n",
    "#dictionary\n",
    "tel = {'jack':4008003333, 'sparow':'8008208820'}\n",
    "print(tel)\n",
    "# print(tel[0])#key error\n",
    "print(tel['jack'])\n",
    "tel['chowyunfat'] = 1300000\n",
    "print(tel)\n",
    "l1 = list(tel.keys())\n",
    "print(l1)\n",
    "print(sorted(l1))\n",
    "l2 = list(tel.values())\n",
    "print(l2)\n",
    "\n",
    "print('jack' in tel)\n",
    "print(tel['jack'] != None)\n",
    "# print(tel['jackaaa'])#KeyError: 'jackaaa'\n",
    "print(tel.get('jack'))\n",
    "print(tel.get('jackaaa'))\n",
    "print(tel.get('jackaaa')!=None)#这是另一种查看in的方式\n",
    "\n",
    "\n",
    "#这个用[]还是()好像无所谓，可能是list和tuple都只是载体，他内部拆解了，要求可迭代，至少长2\n",
    "d1 = dict([('a',444),('aasd',5324),('ny',343)])\n",
    "d2 = dict((('a',444),('aasd',5324),('ny',343)))\n",
    "# d3 = dict(('a',444),('aasd',5324),('ny',343))#expected at most 1 arguments,got 3\n",
    "# d3 = dict(('a',444))#ValueError: dictionary update sequence element #0 has length 1; 2 is required\n",
    "print('d1:',d1)\n",
    "print('d2:',d2)\n",
    "# print('d3:',d3)\n",
    "\n",
    "d4 = {x:x**2 for x in range(4)}\n",
    "d5 = {x:x**2 for x in (4,2,11)}\n",
    "print(d4)\n",
    "print('d5:',d5)\n",
    "\n",
    "\n",
    "\n",
    "\n",
    "\n",
    "# 遍历技巧\n",
    "\n",
    "# 在字典中遍历时，关键字和对应的值可以使用 items() 方法同时解读出来：\n",
    "knights = {'gallahad':'the pure', 'robin':'the brave'}\n",
    "for k,v in knights.items():\n",
    "    print(k,v)\n",
    "for k in knights:\n",
    "    print(k)\n",
    "for v in knights.values():\n",
    "    print(v)\n",
    "\n",
    "for i,v in enumerate(['tic','tac','toe']):\n",
    "    print(i,v)\n",
    "#用zip打包多个容器可以同时遍历,不限于2个,1个，3个，都支持\n",
    "questions = ['name','quest','favorite color']\n",
    "answers = ['lancelot','the holy grail', 'blue']\n",
    "tips = ['tip1','tip2','tip3']\n",
    "for q,in zip(questions):\n",
    "    print('what is your {0}? '.format(q))\n",
    "for q,a,t in zip(questions,answers,tips):\n",
    "    print('what is your {0}? It is {1}.the tips is {2}'.format(q,a,t))\n",
    "\n",
    "for i in range(1,10,2):\n",
    "    print(i)\n",
    "for i in reversed(range(1,10,2)):\n",
    "    print(i)\n",
    "print(range(1,10,2))\n",
    "print(reversed(range(1,10,2)))\n",
    "\n",
    "#sorted是一个技巧，不同于sort，sort直接改了原值，sorted是返回右值\n",
    "basket = ['apple','orange','apple','pear','orange','banana']\n",
    "print(basket)\n",
    "for f in (set(basket)):\n",
    "    print(f)\n",
    "for f in sorted(set(basket)):\n",
    "    print('sorted:',f)\n",
    "basket_set = set(basket)\n",
    "\n",
    "print('before sorted:',basket_set)\n",
    "for f in sorted(basket_set):\n",
    "    print('sorted:',f)\n",
    "print('after sorted:',basket_set)\n",
    "\n",
    "\n",
    "\n",
    "\n",
    "#悲剧的set不可以指定元素del，甚至都不能指定元素访问，只能查询啊？\n",
    "a = set('abracadabra')\n",
    "print('set a is:',a)\n",
    "# print(a[0])\n",
    "# del a[0]\n",
    "print(a.remove('r'))# remove()\t移除指定元素\n",
    "print(a)\n",
    "print(a.pop())# pop()\t随机移除元素\n",
    "print(a)\n",
    "a.add('i')# add()\t为集合添加元素\n",
    "print(a)\n",
    "\n",
    "\n",
    "# 集合内置方法完整列表\n",
    "# clear()\t移除集合中的所有元素\n",
    "# copy()\t拷贝一个集合\n",
    "# difference()\t返回多个集合的差集\n",
    "# difference_update()\t移除集合中的元素，该元素在指定的集合也存在。\n",
    "# discard()\t删除集合中指定的元素\n",
    "# intersection()\t返回集合的交集\n",
    "# intersection_update()\t删除集合中的元素，该元素在指定的集合中不存在。\n",
    "# isdisjoint()\t判断两个集合是否包含相同的元素，如果没有返回 True，否则返回 False。\n",
    "# issubset()\t判断指定集合是否为该方法参数集合的子集。\n",
    "# issuperset()\t判断该方法的参数集合是否为指定集合的子集\n",
    "# symmetric_difference()\t返回两个集合中不重复的元素集合。\n",
    "# symmetric_difference_update()\t移除当前集合中在另外一个指定集合相同的元素，并将另外一个指定集合中不同的元素插入到当前集合中。\n",
    "# union()\t返回两个集合的并集\n",
    "# update()\t给集合添加元素\n",
    "\n",
    "\n",
    "#dict是可以直接删的，可能和访问机制有关系，list和dict都有下标访问，set没有，不支持del\n",
    "tel = {'jack':4008003333, 'sparow':'8008208820'}\n",
    "print(tel)\n",
    "print(tel['jack'])\n",
    "del tel['jack']\n",
    "print(tel)\n"
   ]
  },
  {
   "cell_type": "markdown",
   "metadata": {},
   "source": [
    "这些方法不会产生list"
   ]
  },
  {
   "cell_type": "code",
   "execution_count": 5,
   "metadata": {},
   "outputs": [
    {
     "name": "stdout",
     "output_type": "stream",
     "text": [
      "<class 'tuple'>\n",
      "<class 'tuple'>\n",
      "<class 'zip'>\n",
      "<zip object at 0x7fe700662c48>\n"
     ]
    }
   ],
   "source": [
    "a = (1,2,3,4,5)\n",
    "print(type(a))\n",
    "a2 = 1,2,3,4,5\n",
    "print(type(a2))\n",
    "a3 = zip(a,a2)\n",
    "print(type(a3))\n",
    "print(a3)"
   ]
  },
  {
   "cell_type": "markdown",
   "metadata": {},
   "source": [
    "list格式自由组合"
   ]
  },
  {
   "cell_type": "code",
   "execution_count": 7,
   "metadata": {},
   "outputs": [
    {
     "name": "stdout",
     "output_type": "stream",
     "text": [
      "<class 'list'>\n",
      "b include:\n",
      "1\n",
      "1\n",
      "2\n",
      "3\n",
      "4\n",
      "5\n",
      "100\n",
      "a\n"
     ]
    }
   ],
   "source": [
    "b = [1,1,2,3,4,5,100,'a']\n",
    "print(type(b))\n",
    "print('b include:')\n",
    "for i in b:\n",
    "    print(i)"
   ]
  },
  {
   "cell_type": "markdown",
   "metadata": {},
   "source": [
    "排序"
   ]
  },
  {
   "cell_type": "code",
   "execution_count": 12,
   "metadata": {},
   "outputs": [
    {
     "name": "stdout",
     "output_type": "stream",
     "text": [
      "b2: [33, 11, 4, 3, 55, 133, 2]\n",
      "sort: None\n",
      "sorted: [2, 3, 4, 11, 33, 55, 133]\n",
      "[2, 3, 4, 11, 33, 55, 133]\n",
      "[133, 55, 33, 11, 4, 3, 2]\n"
     ]
    }
   ],
   "source": [
    "b2 = [33,11,4,3,55,133,2]\n",
    "print('b2:',b2)\n",
    "print('sort:',b2.sort())#sort不返回东西，sorted do！！stri and int mixed can't sort\n",
    "print('sorted:',sorted(b2))\n",
    "print(b2)\n",
    "b2.sort(reverse = True)\n",
    "print(b2)"
   ]
  },
  {
   "cell_type": "markdown",
   "metadata": {},
   "source": [
    "## 排序是按string的大小比较，不再赘述。sort也可以指定key实现定制排序"
   ]
  },
  {
   "cell_type": "code",
   "execution_count": 13,
   "metadata": {},
   "outputs": [
    {
     "name": "stdout",
     "output_type": "stream",
     "text": [
      "b3: ['a', 'ar', 'b', 'c', 'ai', 'aa', 'bb', 'abcd']\n",
      "sort: None\n",
      "b3: ['a', 'aa', 'abcd', 'ai', 'ar', 'b', 'bb', 'c']\n",
      "sort reverse: None\n",
      "b3: ['c', 'bb', 'b', 'ar', 'ai', 'abcd', 'aa', 'a']\n"
     ]
    }
   ],
   "source": [
    "\n",
    "b3 = ['a','ar','b','c','ai','aa','bb','abcd']\n",
    "print('b3:',b3)\n",
    "print('sort:',b3.sort())#stri and int can't sort\n",
    "print('b3:',b3)\n",
    "print('sort reverse:',b3.sort(reverse=True))\n",
    "print('b3:',b3)"
   ]
  },
  {
   "cell_type": "code",
   "execution_count": 14,
   "metadata": {},
   "outputs": [
    {
     "name": "stdout",
     "output_type": "stream",
     "text": [
      "<class 'set'>\n"
     ]
    }
   ],
   "source": [
    "c = {1,2,3,4,5}\n",
    "print(type(c))"
   ]
  },
  {
   "cell_type": "markdown",
   "metadata": {},
   "source": [
    "# list index"
   ]
  },
  {
   "cell_type": "code",
   "execution_count": 15,
   "metadata": {},
   "outputs": [
    {
     "name": "stdout",
     "output_type": "stream",
     "text": [
      "3venus\n",
      "2moon\n",
      "1earth\n",
      "[]\n",
      "['3venus']\n",
      "['2moon']\n",
      "['2moon', '3venus']\n",
      "['3venus']\n",
      "planets[1][1] m\n",
      "planets[1][2] o\n"
     ]
    }
   ],
   "source": [
    "planets = ['1earth','2moon','3venus']\n",
    "\n",
    "print(planets[-1])\n",
    "print(planets[-2])\n",
    "print(planets[-3])\n",
    "print(planets[2:2])\n",
    "print(planets[2:3])\n",
    "print(planets[1:-1])#no other way to access 3venus?\n",
    "print(planets[1:])#except for this\n",
    "print(planets[-1:])#and this\n",
    "\n",
    "print('planets[1][1]',planets[1][1])\n",
    "print('planets[1][2]',planets[1][2])\n"
   ]
  },
  {
   "cell_type": "markdown",
   "metadata": {},
   "source": [
    "用index查询首个匹配的下标"
   ]
  },
  {
   "cell_type": "code",
   "execution_count": 17,
   "metadata": {},
   "outputs": [
    {
     "name": "stdout",
     "output_type": "stream",
     "text": [
      "<class 'list'>\n",
      "3\n",
      "0\n",
      "['hu', 'qin', 'wei', 'hu']\n",
      "0\n"
     ]
    }
   ],
   "source": [
    "people=['hu','qin','wei']\n",
    "print(type(people))\n",
    "print(len(people))\n",
    "print(people.index('hu'))\n",
    "people.append('hu')\n",
    "print(people)\n",
    "print(people.index('hu'))"
   ]
  },
  {
   "cell_type": "markdown",
   "metadata": {
    "collapsed": true
   },
   "source": [
    "# set \n",
    "将string转成set，set不包含重复，包含空格"
   ]
  },
  {
   "cell_type": "code",
   "execution_count": 28,
   "metadata": {},
   "outputs": [
    {
     "name": "stdout",
     "output_type": "stream",
     "text": [
      "hello worlddddddddddd\n",
      "{'l', 'd', 'w', 'r', 'e', 'h', ' ', 'o'}\n"
     ]
    }
   ],
   "source": [
    "char_list = 'hello worlddddddddddd'\n",
    "print(char_list)\n",
    "s = set(char_list)\n",
    "print(s)"
   ]
  },
  {
   "cell_type": "markdown",
   "metadata": {},
   "source": [
    "## 深浅拷贝\n",
    "s增加的q，在浅拷贝的s3也出现了\n",
    "s2的删除e的操作，在s3没出现"
   ]
  },
  {
   "cell_type": "code",
   "execution_count": 31,
   "metadata": {},
   "outputs": [
    {
     "name": "stdout",
     "output_type": "stream",
     "text": [
      "s: {'l', 'd', 'w', 'r', 'q', 'e', 'h', ' ', 'o'}\n",
      "s2: {'l', 'd', 'r', 'q', 'h', ' ', 'w', 'o'}\n",
      "s3: {'l', 'd', 'w', 'r', 'q', 'e', 'h', ' ', 'o'}\n"
     ]
    }
   ],
   "source": [
    "char_list = 'hello worlddddddddddd'\n",
    "s = set(char_list)\n",
    "\n",
    "s2 = s.copy()\n",
    "s3 = s\n",
    "s.add('q')\n",
    "s2.remove('e')\n",
    "#s2.remove('e')#remove没有容错，discard有容错。。。KeyError: 'e'\n",
    "s2.discard('e')\n",
    "print('s:',s)\n",
    "print('s2:',s2)\n",
    "print('s3:',s3)"
   ]
  },
  {
   "cell_type": "markdown",
   "metadata": {},
   "source": [
    "## difference操作的视角问题，s2中的s3没有的，s3中的s2没有的"
   ]
  },
  {
   "cell_type": "code",
   "execution_count": 30,
   "metadata": {},
   "outputs": [
    {
     "name": "stdout",
     "output_type": "stream",
     "text": [
      "s2.dif: set()\n",
      "s3.dif: {'e', 'q'}\n"
     ]
    }
   ],
   "source": [
    "dif = s2.difference(s3)\n",
    "print('s2.dif:',dif)\n",
    "dif = s3.difference(s2)\n",
    "print('s3.dif:',dif)"
   ]
  },
  {
   "cell_type": "code",
   "execution_count": null,
   "metadata": {
    "collapsed": true
   },
   "outputs": [],
   "source": []
  },
  {
   "cell_type": "code",
   "execution_count": null,
   "metadata": {
    "collapsed": true
   },
   "outputs": [],
   "source": []
  },
  {
   "cell_type": "code",
   "execution_count": null,
   "metadata": {
    "collapsed": true
   },
   "outputs": [],
   "source": []
  },
  {
   "cell_type": "code",
   "execution_count": null,
   "metadata": {
    "collapsed": true
   },
   "outputs": [],
   "source": []
  },
  {
   "cell_type": "code",
   "execution_count": null,
   "metadata": {
    "collapsed": true
   },
   "outputs": [],
   "source": []
  }
 ],
 "metadata": {
  "kernelspec": {
   "display_name": "virtual py36",
   "language": "python",
   "name": "py36"
  },
  "language_info": {
   "codemirror_mode": {
    "name": "ipython",
    "version": 3
   },
   "file_extension": ".py",
   "mimetype": "text/x-python",
   "name": "python",
   "nbconvert_exporter": "python",
   "pygments_lexer": "ipython3",
   "version": "3.6.1"
  }
 },
 "nbformat": 4,
 "nbformat_minor": 2
}
