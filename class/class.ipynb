{
 "cells": [
  {
   "cell_type": "code",
   "execution_count": null,
   "metadata": {
    "collapsed": true
   },
   "outputs": [],
   "source": []
  },
  {
   "cell_type": "code",
   "execution_count": null,
   "metadata": {
    "collapsed": true
   },
   "outputs": [],
   "source": []
  },
  {
   "cell_type": "code",
   "execution_count": null,
   "metadata": {
    "collapsed": true
   },
   "outputs": [],
   "source": [
    "class animal:\n",
    "\n",
    "    live_position = 'land'\n",
    "    def what_am_i(self):\n",
    "#\t\tprint(name)#error\n",
    "        return self.__name\n",
    "    def what_am_i2(self,b):\n",
    "        return self.__name\n",
    "#\tdef animal(stri):\n",
    "#\t\tself.name = stri\n",
    "    def __init__(self,string):\n",
    "        self.__name = string\n",
    "    #private这个声明放什么位置都不影响！吧？\n",
    "    __name = 'dog'\n",
    "\n",
    "cat = animal\n",
    "print('type of ref cat is ',type(cat))#cat是个引用，不是对象，后边的调用等于直接静态访问。\n",
    "print(animal.what_am_i(cat))\n",
    "#print(cat.what_am_i())\n",
    "print(cat.what_am_i2(cat,'ss'))\n",
    "\n",
    "hum = animal('human')\n",
    "print(type(hum))\n",
    "print(animal.what_am_i(hum))\n",
    "print(hum.what_am_i())\n",
    "#print(hum.__name)#AttributeError: 'animal' object has no attribute '__name'\n"
   ]
  },
  {
   "cell_type": "markdown",
   "metadata": {
    "collapsed": true
   },
   "source": [
    "## 类的属性:@property\n",
    "简单说，就是封装函数为一个属性，不过getter和setter的设定方法不同，前者简单，加个@property，后者需要用setter。\n",
    "还必须遵守一定的规则:\n",
    "### @radius.setter之前，必须有radius的定义，而且必须是@property的定义\n",
    "### @property作用范围，不是下边所有，不是C++的private那样，只是修饰一个函数"
   ]
  },
  {
   "cell_type": "code",
   "execution_count": 24,
   "metadata": {},
   "outputs": [
    {
     "name": "stdout",
     "output_type": "stream",
     "text": [
      "area: 314.1592653589793\n",
      "area: 314.1592653589793\n",
      "62.83185307179586\n",
      "<bound method Circle.perimeter of <__main__.Circle object at 0x7f9434b13080>>\n"
     ]
    }
   ],
   "source": [
    "import math\n",
    "class Circle:\n",
    "    def __init__(self,r):\n",
    "        self._radius=r\n",
    "\n",
    "    @property\n",
    "    def area(self):\n",
    "        return math.pi * self._radius**2\n",
    "    def perimeter(self):\n",
    "        return 2 * math.pi * self._radius\n",
    "    \n",
    "    @property\n",
    "    def radius(self):\n",
    "        return self._radius\n",
    "    @radius.setter#NameError: name 'radius' is not defined\n",
    "    def radius(self,a):\n",
    "        self._radius=a\n",
    "\n",
    "c = Circle(10)\n",
    "print('area:',c.area)\n",
    "#c.area = 100#AttributeError: can't set attribute\n",
    "c.radius=10\n",
    "print('area:',c.area)\n",
    "#print(c.area())#float object is not callable\n",
    "print(c.perimeter())\n",
    "print(c.perimeter)\n"
   ]
  },
  {
   "cell_type": "code",
   "execution_count": 25,
   "metadata": {},
   "outputs": [
    {
     "name": "stdout",
     "output_type": "stream",
     "text": [
      "60\n",
      "60\n"
     ]
    }
   ],
   "source": [
    "class Student(object):\n",
    "\n",
    "    @property\n",
    "    def score(self):\n",
    "        return self._score\n",
    "\n",
    "    @score.setter\n",
    "    def score(self,value):\n",
    "        if not isinstance(value, int):\n",
    "            raise ValueError('分数必须是整数才行呐')\n",
    "        if value < 0 or value > 100:\n",
    "            raise ValueError('分数必须0-100之间')\n",
    "        self._score = value\n",
    "s = Student()\n",
    "s.score = 60\n",
    "print(s.score)\n",
    "#s.score = 9999#ValueError: 分数必须0-100之间\n",
    "print(s.score)"
   ]
  },
  {
   "cell_type": "code",
   "execution_count": null,
   "metadata": {
    "collapsed": true
   },
   "outputs": [],
   "source": []
  },
  {
   "cell_type": "code",
   "execution_count": null,
   "metadata": {
    "collapsed": true
   },
   "outputs": [],
   "source": []
  },
  {
   "cell_type": "code",
   "execution_count": null,
   "metadata": {
    "collapsed": true
   },
   "outputs": [],
   "source": []
  },
  {
   "cell_type": "code",
   "execution_count": null,
   "metadata": {
    "collapsed": true
   },
   "outputs": [],
   "source": []
  },
  {
   "cell_type": "code",
   "execution_count": null,
   "metadata": {
    "collapsed": true
   },
   "outputs": [],
   "source": []
  }
 ],
 "metadata": {
  "kernelspec": {
   "display_name": "virtual py36",
   "language": "python",
   "name": "py36"
  },
  "language_info": {
   "codemirror_mode": {
    "name": "ipython",
    "version": 3
   },
   "file_extension": ".py",
   "mimetype": "text/x-python",
   "name": "python",
   "nbconvert_exporter": "python",
   "pygments_lexer": "ipython3",
   "version": "3.6.1"
  }
 },
 "nbformat": 4,
 "nbformat_minor": 2
}
