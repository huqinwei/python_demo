{
 "cells": [
  {
   "cell_type": "markdown",
   "metadata": {},
   "source": [
    "# tuple常规使用"
   ]
  },
  {
   "cell_type": "code",
   "execution_count": 4,
   "metadata": {},
   "outputs": [
    {
     "name": "stdout",
     "output_type": "stream",
     "text": [
      "('google', 'qinwei', 'baidu')\n",
      "<class 'tuple'>\n",
      "google\n",
      "qinwei\n",
      "baidu\n",
      "True\n"
     ]
    }
   ],
   "source": [
    "tup1 = ('google','qinwei','baidu')\n",
    "print(tup1)\n",
    "print(type(tup1))\n",
    "print(tup1[0])#访问和数组一样，但是不能赋值\n",
    "print(tup1[1])\n",
    "print(tup1[-1])\n",
    "print(tup1[-1] == tup1[2])"
   ]
  },
  {
   "cell_type": "code",
   "execution_count": 5,
   "metadata": {},
   "outputs": [
    {
     "ename": "TypeError",
     "evalue": "'tuple' object does not support item assignment",
     "output_type": "error",
     "traceback": [
      "\u001b[0;31m---------------------------------------------------------------------------\u001b[0m",
      "\u001b[0;31mTypeError\u001b[0m                                 Traceback (most recent call last)",
      "\u001b[0;32m<ipython-input-5-e38649bd60ae>\u001b[0m in \u001b[0;36m<module>\u001b[0;34m()\u001b[0m\n\u001b[1;32m      1\u001b[0m \u001b[0;34m\u001b[0m\u001b[0m\n\u001b[0;32m----> 2\u001b[0;31m \u001b[0mtup1\u001b[0m\u001b[0;34m[\u001b[0m\u001b[0;36m1\u001b[0m\u001b[0;34m]\u001b[0m \u001b[0;34m=\u001b[0m \u001b[0;34m'alimama'\u001b[0m\u001b[0;31m#TypeError: 'tuple' object does not support item assignment\u001b[0m\u001b[0;34m\u001b[0m\u001b[0m\n\u001b[0m\u001b[1;32m      3\u001b[0m \u001b[0mprint\u001b[0m\u001b[0;34m(\u001b[0m\u001b[0mtup1\u001b[0m\u001b[0;34m)\u001b[0m\u001b[0;34m\u001b[0m\u001b[0m\n",
      "\u001b[0;31mTypeError\u001b[0m: 'tuple' object does not support item assignment"
     ]
    }
   ],
   "source": [
    "tup1[1] = 'alimama'#TypeError: 'tuple' object does not support item assignment\n",
    "print(tup1)"
   ]
  },
  {
   "cell_type": "code",
   "execution_count": 7,
   "metadata": {},
   "outputs": [
    {
     "name": "stdout",
     "output_type": "stream",
     "text": [
      "<class 'tuple'>\n",
      "<class 'int'>\n"
     ]
    }
   ],
   "source": [
    "also_a_tup = (50,)\n",
    "print(type(also_a_tup))\n",
    "not_a_tup = (50)\n",
    "print(type(not_a_tup))#这种不能成为元组"
   ]
  },
  {
   "cell_type": "markdown",
   "metadata": {},
   "source": [
    "## 拼接操作同list"
   ]
  },
  {
   "cell_type": "code",
   "execution_count": 14,
   "metadata": {},
   "outputs": [
    {
     "name": "stdout",
     "output_type": "stream",
     "text": [
      "['a', 'b', 'c', 'd', 'h', 'j']\n"
     ]
    }
   ],
   "source": [
    "l1 = ['a','b','c']\n",
    "l2 = ['d','h','j']\n",
    "l3 = l1 + l2\n",
    "print(l3)"
   ]
  },
  {
   "cell_type": "code",
   "execution_count": 25,
   "metadata": {},
   "outputs": [
    {
     "name": "stdout",
     "output_type": "stream",
     "text": [
      "tup3: ('google', 'qinwei', 'baidu', 'yahoo', 'gmail', 'youtube')\n"
     ]
    }
   ],
   "source": [
    "tup2 = ('yahoo','gmail','youtube')\n",
    "tup3 = tup1 + tup2\n",
    "print('tup3:',tup3)\n",
    "tup3 = tup1 + tup2\n",
    "\n",
    "del(tup3)\n",
    "# print(tup3)#NameError: name 'tup3' is not defined"
   ]
  },
  {
   "cell_type": "code",
   "execution_count": 26,
   "metadata": {},
   "outputs": [
    {
     "name": "stdout",
     "output_type": "stream",
     "text": [
      "('google', 'qinwei', 'baidu', 'yahoo', 'gmail', 'youtube')\n",
      "('google', 'qinwei', 'baidu', 'yahoo', 'gmail', 'youtube')\n",
      "('google', 'qinwei', 'baidu', 'yahoo', 'gmail', 'youtube')\n",
      "[('google', 'qinwei', 'baidu', 'yahoo', 'gmail', 'youtube')]\n",
      "[('google', 'qinwei', 'baidu', 'yahoo', 'gmail', 'youtube')]\n",
      "[('google', 'qinwei', 'baidu', 'yahoo', 'gmail', 'youtube')]\n",
      "[[('google', 'qinwei', 'baidu', 'yahoo', 'gmail', 'youtube')]]\n"
     ]
    }
   ],
   "source": [
    "\n",
    "tup3 = tup1 + tup2\n",
    "print(tup3)\n",
    "print((tup3))\n",
    "print(((tup3)))\n",
    "print([tup3])\n",
    "print([((tup3))])\n",
    "print(([((tup3))]))\n",
    "print([([((tup3))])])#只有方扩号影响输出"
   ]
  },
  {
   "cell_type": "code",
   "execution_count": 28,
   "metadata": {},
   "outputs": [
    {
     "name": "stdout",
     "output_type": "stream",
     "text": [
      "('google', 'qinwei', 'baidu', 'yahoo', 'gmail', 'youtube', 'google', 'qinwei', 'baidu', 'yahoo', 'gmail', 'youtube', 'google', 'qinwei', 'baidu', 'yahoo', 'gmail', 'youtube')\n",
      "False\n",
      "True\n"
     ]
    }
   ],
   "source": [
    "tup4 = tup3 * 3\n",
    "print(tup4)\n",
    "print('a' in tup4)\n",
    "print('qinwei' in tup4)"
   ]
  },
  {
   "cell_type": "markdown",
   "metadata": {},
   "source": [
    "## 一般操作：tuple基本也能像list一样用\n"
   ]
  },
  {
   "cell_type": "code",
   "execution_count": 29,
   "metadata": {},
   "outputs": [
    {
     "name": "stdout",
     "output_type": "stream",
     "text": [
      "google,qinwei,baidu,yahoo,gmail,youtube,google,qinwei,baidu,yahoo,gmail,youtube,google,qinwei,baidu,yahoo,gmail,youtube,"
     ]
    }
   ],
   "source": [
    "for val in tup4:\n",
    "    print(val,end=',')"
   ]
  },
  {
   "cell_type": "code",
   "execution_count": 30,
   "metadata": {},
   "outputs": [
    {
     "name": "stdout",
     "output_type": "stream",
     "text": [
      "\n",
      "cut: ('gmail', 'youtube')\n"
     ]
    }
   ],
   "source": [
    "print('\\ncut:',tup4[-2:])"
   ]
  },
  {
   "cell_type": "markdown",
   "metadata": {},
   "source": [
    "### 没有insert之类的"
   ]
  },
  {
   "cell_type": "code",
   "execution_count": 40,
   "metadata": {},
   "outputs": [
    {
     "name": "stdout",
     "output_type": "stream",
     "text": [
      "(1, 23, 44)\n"
     ]
    }
   ],
   "source": [
    "tup888 = (1,23,44)\n",
    "print(tup888)\n",
    "#tup888.insert(0,898)\n",
    "#print(tup888)"
   ]
  },
  {
   "cell_type": "markdown",
   "metadata": {},
   "source": [
    "## 比较大小是个难点，其实也不是tuple，是字符串的大小判断，正确逻辑是逐个判断大小，因为a和c分别比b小和大，所以bbbbb后边再长也没用了，不算大"
   ]
  },
  {
   "cell_type": "code",
   "execution_count": 33,
   "metadata": {},
   "outputs": [
    {
     "name": "stdout",
     "output_type": "stream",
     "text": [
      "('bbbbb', 'bbba', 'bbbc')\n",
      "bbba\n",
      "bbbc\n",
      "True\n",
      "False\n"
     ]
    }
   ],
   "source": [
    "tup5 = ('bbbbb','bbba','bbbc')\n",
    "print((tup5))\n",
    "print(min(tup5))\n",
    "print(max(tup5))\n",
    "print('bbbbb' > 'bbba')\n",
    "print('bbbbb' > 'bbbc')"
   ]
  },
  {
   "cell_type": "markdown",
   "metadata": {},
   "source": [
    "## 数字和单个字母比较大小就简单了"
   ]
  },
  {
   "cell_type": "code",
   "execution_count": 37,
   "metadata": {},
   "outputs": [
    {
     "name": "stdout",
     "output_type": "stream",
     "text": [
      "44534\n",
      "412\n",
      "['a', 'b', 'c', 'd', 'h', 'j']\n",
      "('a', 'b', 'c', 'd', 'h', 'j')\n"
     ]
    }
   ],
   "source": [
    "tup6 = (444, 2232,44534,412)\n",
    "print(max(tup6))\n",
    "print(min(tup6))\n",
    "\n",
    "l3 = ['a', 'b', 'c', 'd', 'h', 'j']\n",
    "tup7 = tuple(l3)\n",
    "print(l3)\n",
    "print(tup7)"
   ]
  },
  {
   "cell_type": "markdown",
   "metadata": {
    "collapsed": true
   },
   "source": [
    "## idle 打印会比较奇怪，下边其实没这个情况：\n",
    "它会把整个打印扩起来，还给每个字符类的都加了单引号\n",
    "('tup1[1],tup1[2]:', 'u', ',', 4444)"
   ]
  },
  {
   "cell_type": "code",
   "execution_count": 4,
   "metadata": {},
   "outputs": [
    {
     "name": "stdout",
     "output_type": "stream",
     "text": [
      "fuck\n",
      "u\n",
      "4444\n",
      "3.3\n",
      "tup1[0]: fuck\n",
      "tup1[1],tup1[2]: u 4444\n",
      "tup1[1],tup1[2]: u , 4444\n",
      "tup1[1],tup1[2]:-u-,-4444\n",
      "tup1[1],tup1[2]: u , 4444\n",
      "tup1[1],tup1[2]: u asd,asd 4444\n",
      "('fuck', 'u', 4444, 3.3)\n"
     ]
    }
   ],
   "source": [
    "tup1 = (\"fuck\",\"u\",4444,3.3)\n",
    "print(\"tup1[0]:\",tup1[0])\n",
    "print(\"tup1[1],tup1[2]:\",tup1[1],tup1[2])\n",
    "print(\"tup1[1],tup1[2]:\",tup1[1],\",\",tup1[2])\n",
    "print(\"tup1[1],tup1[2]:\",tup1[1],\",\",tup1[2],sep='-')\n",
    "print(\"tup1[1],tup1[2]:\",\"u\",\",\",4444)\n",
    "print(\"tup1[1],tup1[2]:\",\"u\",\"asd,asd\",4444)\n",
    "#print(\"tup1[1],tup1[2] type:\",type(tup1[1],\",\",tup1[2]))\n",
    "#print \"tup1[1],tup1[2]:\",tup1[1]tup1[2]\n",
    "\n",
    "\n",
    "\n",
    "print(tup1)\n",
    "\n",
    "#tuple1 = zip(1,2)\n"
   ]
  },
  {
   "cell_type": "code",
   "execution_count": null,
   "metadata": {
    "collapsed": true
   },
   "outputs": [],
   "source": []
  },
  {
   "cell_type": "code",
   "execution_count": null,
   "metadata": {
    "collapsed": true
   },
   "outputs": [],
   "source": []
  },
  {
   "cell_type": "code",
   "execution_count": null,
   "metadata": {
    "collapsed": true
   },
   "outputs": [],
   "source": []
  },
  {
   "cell_type": "code",
   "execution_count": null,
   "metadata": {
    "collapsed": true
   },
   "outputs": [],
   "source": []
  },
  {
   "cell_type": "code",
   "execution_count": null,
   "metadata": {
    "collapsed": true
   },
   "outputs": [],
   "source": []
  },
  {
   "cell_type": "code",
   "execution_count": null,
   "metadata": {
    "collapsed": true
   },
   "outputs": [],
   "source": []
  }
 ],
 "metadata": {
  "kernelspec": {
   "display_name": "virtual py36",
   "language": "python",
   "name": "py36"
  },
  "language_info": {
   "codemirror_mode": {
    "name": "ipython",
    "version": 3
   },
   "file_extension": ".py",
   "mimetype": "text/x-python",
   "name": "python",
   "nbconvert_exporter": "python",
   "pygments_lexer": "ipython3",
   "version": "3.6.1"
  }
 },
 "nbformat": 4,
 "nbformat_minor": 2
}
