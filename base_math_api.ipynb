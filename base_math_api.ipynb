{
 "cells": [
  {
   "cell_type": "markdown",
   "metadata": {
    "collapsed": true
   },
   "source": [
    "# 这里主要是杂的，有规律的单独总结"
   ]
  },
  {
   "cell_type": "markdown",
   "metadata": {},
   "source": [
    "## round,取整，取两位"
   ]
  },
  {
   "cell_type": "code",
   "execution_count": 3,
   "metadata": {},
   "outputs": [
    {
     "name": "stdout",
     "output_type": "stream",
     "text": [
      "3 3.14\n",
      "123456800\n"
     ]
    }
   ],
   "source": [
    "a = 3.14159\n",
    "a2 = 123456789\n",
    "\n",
    "b = round(a)\n",
    "c = round(a,2)\n",
    "\n",
    "gg = round(a2,-2)\n",
    "\n",
    "\n",
    "print(b,c,)\n",
    "print(gg)\n"
   ]
  },
  {
   "cell_type": "markdown",
   "metadata": {},
   "source": [
    "## max带key，key是自定义的接口"
   ]
  },
  {
   "cell_type": "code",
   "execution_count": 21,
   "metadata": {},
   "outputs": [
    {
     "name": "stdout",
     "output_type": "stream",
     "text": [
      "Which number is biggest?\n",
      "100\n",
      "Which number is the biggest modulo 5?\n",
      "14\n",
      "Which number is the smallest modulo 5?\n",
      "100\n",
      "Which number is biggest?\n",
      "100\n",
      "Which number is the biggest distance_to_10?\n",
      "100\n",
      "Which number is the smallest distance_to_10?\n",
      "14\n",
      "Which number is the smallest distance_to_10?\n",
      "8\n"
     ]
    }
   ],
   "source": [
    "def mod_5(x):\n",
    "\treturn x%5\n",
    "\n",
    "print(\n",
    "\t'Which number is biggest?',\n",
    "\tmax(100,51,14),\n",
    "\t'Which number is the biggest modulo 5?',\n",
    "\tmax(100,51,14,key=mod_5),\n",
    "\t'Which number is the smallest modulo 5?',\n",
    "\tmin(100,51,14,key=mod_5),\n",
    "\tsep='\\n',\n",
    ")\n",
    "def distance_to_10(x):\n",
    "\treturn abs(x - 10)\n",
    "\n",
    "print(\n",
    "\t'Which number is biggest?',\n",
    "\tmax(100,51,14),\n",
    "\t'Which number is the biggest distance_to_10?',\n",
    "\tmax(100,51,14,key=distance_to_10),\n",
    "\t'Which number is the smallest distance_to_10?',\n",
    "\tmin(100,51,14,key=distance_to_10),\n",
    "\t'Which number is the smallest distance_to_10?',\n",
    "\tmin(8,13,44,key=distance_to_10),\n",
    "\tsep='\\n',\n",
    ")"
   ]
  },
  {
   "cell_type": "code",
   "execution_count": 8,
   "metadata": {},
   "outputs": [
    {
     "name": "stdout",
     "output_type": "stream",
     "text": [
      "10\n"
     ]
    }
   ],
   "source": [
    "\n",
    "print(7-(-(-(-(-(-3))))))\n",
    "#print(7(--)(--)(--)3)#并不能运算。"
   ]
  },
  {
   "cell_type": "markdown",
   "metadata": {},
   "source": [
    "# math"
   ]
  },
  {
   "cell_type": "code",
   "execution_count": 22,
   "metadata": {},
   "outputs": [
    {
     "name": "stdout",
     "output_type": "stream",
     "text": [
      "0.7071067811865476\n",
      "10.0\n",
      "4.0\n"
     ]
    }
   ],
   "source": [
    "import math\n",
    "print(math.cos(math.pi / 4))\n",
    "print(math.log(1024,2))\n",
    "print(math.log(16,2))\n"
   ]
  },
  {
   "cell_type": "markdown",
   "metadata": {
    "collapsed": true
   },
   "source": [
    "# random range"
   ]
  },
  {
   "cell_type": "code",
   "execution_count": 34,
   "metadata": {},
   "outputs": [
    {
     "name": "stdout",
     "output_type": "stream",
     "text": [
      "apple\n",
      "<class 'range'>\n",
      "range(80, 100)\n",
      "[74, 77, 0, 80, 23, 88, 42, 11, 34, 83]\n",
      "[85, 91, 99, 98, 90, 92, 86, 97, 93, 80]\n",
      "[91, 97, 96, 84, 99, 89, 81, 93, 87, 88]\n",
      "random.random(): 0.0791040241555433\n",
      "10.0\n",
      "92\n",
      "61\n",
      "4\n"
     ]
    }
   ],
   "source": [
    "import random\n",
    "print(random.choice(['apple','orange','pear','banana']))\n",
    "r = range(80,100)#有range这个类！！！！！\n",
    "print(type(r))\n",
    "print(r)\n",
    "print(random.sample(range(100),10))#range可以选择参数个数，一个就是max，两个就是min和max，不赘述。\n",
    "print(random.sample(range(80,100),10))#\n",
    "print(random.sample(range(80,100,1),10))#\n",
    "\n",
    "print('random.random():',random.random())#产生一个随机数，应该是0到1的范围\n",
    "print(random.random()*100  // 1)\n",
    "print(int(random.random()*100  // 1))\n",
    "print(int(random.random()*100))#取整\n",
    "print(random.randrange(6))"
   ]
  },
  {
   "cell_type": "markdown",
   "metadata": {
    "collapsed": true
   },
   "source": [
    "# as_integer_ratio，把小数变成整数比例"
   ]
  },
  {
   "cell_type": "code",
   "execution_count": 38,
   "metadata": {},
   "outputs": [
    {
     "name": "stdout",
     "output_type": "stream",
     "text": [
      "1 8\n",
      "0.125\n"
     ]
    }
   ],
   "source": [
    "x = 0.125\n",
    "#x = 0.33333#碰到除不开的结果就很出人意料了。\n",
    "x.as_integer_ratio()\n",
    "numerator, denominator = x.as_integer_ratio()\n",
    "print(numerator , denominator)\n",
    "print(numerator / denominator)"
   ]
  },
  {
   "cell_type": "code",
   "execution_count": null,
   "metadata": {
    "collapsed": true
   },
   "outputs": [],
   "source": []
  }
 ],
 "metadata": {
  "kernelspec": {
   "display_name": "virtual py36",
   "language": "python",
   "name": "py36"
  },
  "language_info": {
   "codemirror_mode": {
    "name": "ipython",
    "version": 3
   },
   "file_extension": ".py",
   "mimetype": "text/x-python",
   "name": "python",
   "nbconvert_exporter": "python",
   "pygments_lexer": "ipython3",
   "version": "3.6.1"
  }
 },
 "nbformat": 4,
 "nbformat_minor": 2
}
