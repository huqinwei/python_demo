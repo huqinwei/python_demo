{
 "cells": [
  {
   "cell_type": "code",
   "execution_count": null,
   "metadata": {
    "collapsed": true
   },
   "outputs": [],
   "source": []
  },
  {
   "cell_type": "code",
   "execution_count": null,
   "metadata": {
    "collapsed": true
   },
   "outputs": [],
   "source": []
  },
  {
   "cell_type": "code",
   "execution_count": null,
   "metadata": {
    "collapsed": true
   },
   "outputs": [],
   "source": [
    "#严格的说，变量名不具有类型属性，他只是个引用，连id都变了,id是对象的id，不是引用(point)的id\n",
    "#这个“优化”看来只支持普通变量，list就不是了\n",
    "a = 5\n",
    "b = 5\n",
    "print('a:',a,id(a),type(a))\n",
    "print('b:',b,id(b),type(b))\n",
    "a = 'hello'\n",
    "print(a,id(a),type(a))\n",
    "print(b,id(b),type(b))\n",
    "\n",
    "\n",
    "a = [1,2,3]\n",
    "b = [1,2,3]\n",
    "print('a:',a,id(a),type(a))\n",
    "print('b:',b,id(b),type(b))\n",
    "a = 'hello'\n",
    "print(a,id(a),type(a))\n",
    "print(b,id(b),type(b))"
   ]
  },
  {
   "cell_type": "code",
   "execution_count": null,
   "metadata": {
    "collapsed": true
   },
   "outputs": [],
   "source": [
    "###########################################################\n",
    "#可更改(mutable)与不可更改(immutable)对象\n",
    "\n",
    "a = 'hello'\n",
    "b = 'lowa'\n",
    "c = 'hello'\n",
    "d = 'lja'\n",
    "e = 'hello'\n",
    "print(id(a),id(c),id(e))# str本身是一个“常量”\n",
    "# 在 python 中，strings, tuples, 和 numbers 是不可更改的对象，而 list,dict 等则是可以修改的对象。\n",
    "a = 5\n",
    "b = 6\n",
    "c = 5\n",
    "d = 8\n",
    "e = 5\n",
    "print(id(a),id(c),id(e))# 这也就说通了，为什么a=5和b=5会指到同一个位置，每个手写数字本身就是一个“常量”\n"
   ]
  },
  {
   "cell_type": "code",
   "execution_count": null,
   "metadata": {
    "collapsed": true
   },
   "outputs": [],
   "source": [
    "\n",
    "\n",
    "#唯一不解的是，你一个脚本语言，不是一句一句的执行吗？怎么还能提前优化的？???????\n",
    "# 或许不是提前优化，是执行到c=5的时候，找之前的“缓存”，或者说immutable对象，找到了，就指向同一个。c=6也不是改变原来的5的值为6，而是直接改了c的指向。\n",
    "c = 6\n",
    "print(id(a),id(c),id(e))\n",
    "\n",
    "#果然是这样的，即便是让c“指针”指向a，再“改”c的值，其实a还是不变的。\n",
    "a = 5\n",
    "c = a\n",
    "c = 6\n",
    "print(a)\n",
    "print(c)\n",
    "print(id(a),id(c))"
   ]
  },
  {
   "cell_type": "code",
   "execution_count": null,
   "metadata": {
    "collapsed": true
   },
   "outputs": [],
   "source": [
    "\n",
    "#不过局限性也暴露了，不能通过其他“指针”修改原来的值吗？list之类的是可以，但那是mutable，所以这就是immutable和mutable对象的区别？！！！！！\n",
    "#怪不得传“引用”改不成，要用return赋值呢，其实问题就在这。\n",
    "def funcA(a):\n",
    "    a = 5\n",
    "    return a\n",
    "a = 6\n",
    "b = funcA(a)\n",
    "print('after call func, a is:',a,id(a))\n",
    "print('after call func, b is:',b,id(b))\n",
    "\n",
    "def funcB(a):\n",
    "    a[0] = 3\n",
    "    return a\n",
    "a = [333]\n",
    "b = funcB(a)\n",
    "print('after call func, a is:',a,id(a))\n",
    "print('after call func, b is:',b,id(b))\n",
    "\n",
    "#python 中一切都是对象，严格意义我们不能说值传递还是引用传递，我们应该说传不可变对象和传可变对象。\n",
    "def print_new_list(l1):\n",
    "    print(l1)\n",
    "    l\n",
    "\n",
    "def changeme(mylist):\n",
    "    mylist.append([1,2,3,4])\n",
    "    print_new_list(mylist)\n",
    "    return\n",
    "mylist=[10,20,30]\n",
    "print(mylist,\"\\t\",id(mylist))\n",
    "changeme(mylist)\n",
    "print(mylist,\"\\t\",id(mylist))"
   ]
  },
  {
   "cell_type": "code",
   "execution_count": null,
   "metadata": {
    "collapsed": true
   },
   "outputs": [],
   "source": []
  },
  {
   "cell_type": "code",
   "execution_count": null,
   "metadata": {
    "collapsed": true
   },
   "outputs": [],
   "source": []
  },
  {
   "cell_type": "code",
   "execution_count": null,
   "metadata": {
    "collapsed": true
   },
   "outputs": [],
   "source": []
  },
  {
   "cell_type": "code",
   "execution_count": null,
   "metadata": {
    "collapsed": true
   },
   "outputs": [],
   "source": []
  },
  {
   "cell_type": "code",
   "execution_count": null,
   "metadata": {
    "collapsed": true
   },
   "outputs": [],
   "source": []
  },
  {
   "cell_type": "code",
   "execution_count": null,
   "metadata": {
    "collapsed": true
   },
   "outputs": [],
   "source": [
    "\n"
   ]
  }
 ],
 "metadata": {
  "kernelspec": {
   "display_name": "virtual py36",
   "language": "python",
   "name": "py36"
  },
  "language_info": {
   "codemirror_mode": {
    "name": "ipython",
    "version": 3
   },
   "file_extension": ".py",
   "mimetype": "text/x-python",
   "name": "python",
   "nbconvert_exporter": "python",
   "pygments_lexer": "ipython3",
   "version": "3.6.1"
  }
 },
 "nbformat": 4,
 "nbformat_minor": 2
}
