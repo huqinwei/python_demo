{
 "cells": [
  {
   "cell_type": "markdown",
   "metadata": {},
   "source": [
    "# 一些基本的操作符"
   ]
  },
  {
   "cell_type": "markdown",
   "metadata": {},
   "source": [
    "### list拷贝不是is，但是字符串还是算，也许根源就在于，他们指向了相同的常量对象，自动优化了？对照组证明其实也不完全是。这块有点问题，放在甚浅拷贝复习"
   ]
  },
  {
   "cell_type": "markdown",
   "metadata": {},
   "source": [
    "## 各种带=的赋值运算"
   ]
  },
  {
   "cell_type": "code",
   "execution_count": 2,
   "metadata": {},
   "outputs": [
    {
     "name": "stdout",
     "output_type": "stream",
     "text": [
      "c: 31\n",
      "c: 21\n",
      "c: 441\n",
      "c: 21.0\n",
      "2\n",
      "2097152\n"
     ]
    }
   ],
   "source": [
    "a = 21\n",
    "b = 10\n",
    "c = 0\n",
    "c = a + b\n",
    "print('c:',c)\n",
    "c=0\n",
    "c += a\n",
    "print('c:',c)\n",
    "c *= a\n",
    "print('c:',c)\n",
    "c /= a#float\n",
    "# c //= a#int\n",
    "print('c:',c)\n",
    "\n",
    "c = 2\n",
    "c %= a\n",
    "print(c)\n",
    "c **= a\n",
    "print(c)"
   ]
  },
  {
   "cell_type": "markdown",
   "metadata": {},
   "source": [
    "# #Python位运算符"
   ]
  },
  {
   "cell_type": "code",
   "execution_count": null,
   "metadata": {
    "collapsed": true
   },
   "outputs": [],
   "source": [
    "a = 60#00111100\n",
    "b = 13#00001101\n",
    "print(a&b)#00001100\n",
    "print(a|b)#00111101=64-1-2\n",
    "print(a^b)#00110001\n",
    "print(~a) #11000011#(~a ) 输出结果 -61 ，二进制解释： 1100 0011， 在一个有符号二进制数的补码形式。\n",
    "\n",
    "print(a<<1)\n",
    "print(a<<2)\n",
    "print(a>>1)"
   ]
  },
  {
   "cell_type": "markdown",
   "metadata": {},
   "source": [
    "## Python逻辑运算符"
   ]
  },
  {
   "cell_type": "code",
   "execution_count": null,
   "metadata": {
    "collapsed": true
   },
   "outputs": [],
   "source": [
    "#and和==还是有点小区别的，and不一定是==啊\n",
    "# \tx and y\t布尔\"与\" - 如果 x 为 False，x and y 返回 False，否则它返回 y 的计算值。\t(a and b) 返回 20。\n",
    "# or\tx or y\t布尔\"或\" - 如果 x 是 True，它返回 x 的值，否则它返回 y 的计算值。\t(a or b) 返回 10。\n",
    "# not\tnot x\t布尔\"非\" - 如果 x 为 True，返回 False 。如果 x 为 False，它返回 True。\tnot(a and b) 返回 False\n",
    "a = 10\n",
    "b = 20\n",
    "c = 0\n",
    "print('a and b:',(a and b))\n",
    "print('a and c:',(a and c))\n",
    "print('a or b:',a or b)\n",
    "print('c or b:',c or b)\n",
    "print('not a:',not a)\n",
    "print('not c:',not c)\n",
    "\n",
    "#不过一般and 和or都用在条件控制了，没取值。\n",
    "\n",
    "if a and b:\n",
    "    print('a and b is true')\n",
    "else:\n",
    "    print('a and b is not true')\n",
    "\n",
    "if a and c:\n",
    "    print('a and c is true')\n",
    "else:\n",
    "    print('a and c is not true')\n"
   ]
  },
  {
   "cell_type": "code",
   "execution_count": null,
   "metadata": {
    "collapsed": true
   },
   "outputs": [],
   "source": [
    "# Python成员运算符\n",
    "\n",
    "\n",
    "a = 10\n",
    "b = 20\n",
    "c = 4\n",
    "list = [1,2,3,4,5]\n",
    "if a in list:\n",
    "    print('a in list')\n",
    "else:\n",
    "    print('a not in list')\n",
    "\n",
    "if b not in list:\n",
    "    print('b not in list')\n",
    "else:\n",
    "    print('b in')\n",
    "if c in list:\n",
    "    print('c in list')"
   ]
  },
  {
   "cell_type": "markdown",
   "metadata": {},
   "source": [
    "## Python身份运算符is，相当于id相等,还有常量对象的问题。\n",
    "is\tis 是判断两个标识符是不是引用自一个对象\tx is y, 类似 id(x) == id(y) , 如果引用的是同一个对象则返回 True，否则返回 False\n",
    "is not\tis not 是判断两个标识符是不是引用自不同对象\tx is not y ， 类似 id(a) != id(b)。如果引用的不是同一个对象则返回结果 True，否则返回 False。\n"
   ]
  },
  {
   "cell_type": "code",
   "execution_count": 9,
   "metadata": {},
   "outputs": [
    {
     "name": "stdout",
     "output_type": "stream",
     "text": [
      "140094534413344 140094534413344 140094534413760\n",
      "aa is bb\n",
      "aa_id equals to bb_id\n",
      "140094534413344\n",
      "140094534413344\n",
      "aa is not bb\n",
      "bb is cc\n"
     ]
    }
   ],
   "source": [
    "aa = 20#数字20,是一个常量对象，就像C++里的手写字符串，本身是个常量，所以aa和bb是同一个东西。\n",
    "cc = 33##看来和顺序也无关，这个cc并不能避免bb成为aa的别名\n",
    "bb = 20\n",
    "print(id(aa),id(bb),id(cc))\n",
    "if aa is bb:\n",
    "    print('aa is bb')\n",
    "else:\n",
    "    print('aa is not bb')\n",
    "\n",
    "if id(aa) == id(bb):#分开声明的，居然id都一样？成了别名？这种“优化”的意义是？\n",
    "    print('aa_id equals to bb_id')\n",
    "    print(id(aa))\n",
    "    print(id(bb))\n",
    "#这时候bb相当于指向数字常量33!！！bb和cc相等，之前以为不相等，是因为bb=30,cc=33,所以常量是彻底的优化，没有不一致的问题\n",
    "bb = 33\n",
    "if aa is bb:\n",
    "    print('aa is bb')\n",
    "else:\n",
    "    print('aa is not bb')\n",
    "if id(aa) == id(bb):\n",
    "    print('aa_id equals to bb_id')\n",
    "    \n",
    "if bb is cc:\n",
    "    print('bb is cc')\n",
    "else:\n",
    "    print('bb is not cc')\n",
    "\n"
   ]
  },
  {
   "cell_type": "markdown",
   "metadata": {},
   "source": [
    "### python已经优化到这个份上了，bb不通过常量赋值，通过加法得到33，也能映射到同一个“33”.好像除了整型，str和tuple也有这个特性，只有list没有。"
   ]
  },
  {
   "cell_type": "code",
   "execution_count": 15,
   "metadata": {},
   "outputs": [
    {
     "name": "stdout",
     "output_type": "stream",
     "text": [
      "140094534413344 140094534413344 140094534413760\n",
      "140094534413344 140094534413760 140094534413760\n",
      "bb is cc\n"
     ]
    }
   ],
   "source": [
    "aa = 20\n",
    "cc = 33##看来和顺序也无关，这个cc并不能避免bb成为aa的别名\n",
    "bb = 20\n",
    "\n",
    "print(id(aa),id(bb),id(cc))\n",
    "bb += 13\n",
    "print(id(aa),id(bb),id(cc))\n",
    "    \n",
    "if bb is cc:\n",
    "    print('bb is cc')\n",
    "else:\n",
    "    print('bb is not cc')"
   ]
  },
  {
   "cell_type": "code",
   "execution_count": 25,
   "metadata": {},
   "outputs": [
    {
     "name": "stdout",
     "output_type": "stream",
     "text": [
      "140094320191880 140094320191880 140094320192008\n",
      "True\n",
      "True\n",
      "False\n",
      "True\n"
     ]
    }
   ],
   "source": [
    "#list的对比，拷贝之后，ccc不是aaa\n",
    "aaa = [1,2,3]\n",
    "bbb = aaa\n",
    "ccc = aaa[:]\n",
    "print(id(aaa),id(bbb),id(ccc))\n",
    "print(bbb is aaa)\n",
    "print(bbb == aaa)\n",
    "print(ccc is aaa)#深层拷贝，ccc和aaa不是is的关系\n",
    "print(ccc == aaa)"
   ]
  },
  {
   "cell_type": "markdown",
   "metadata": {},
   "source": [
    "### 其实拷贝是真拷贝了，无论深浅，但是应该是因为str和int一样是常量对象的缘故，被优化了，ccc和ddd都等价于aaa，至少，修改前是的，修改后就不是了！"
   ]
  },
  {
   "cell_type": "code",
   "execution_count": 29,
   "metadata": {},
   "outputs": [
    {
     "name": "stdout",
     "output_type": "stream",
     "text": [
      "140094320098696 140094320098696 140094320098696 140094320098696\n",
      "True\n",
      "True\n",
      "True\n",
      "True\n",
      "True\n",
      "True\n",
      "hello   hello   helloc  hellod\n",
      "140094320098696 140094320098696 140094320488040 140094320486416\n",
      "False\n",
      "False\n",
      "False\n",
      "False\n"
     ]
    }
   ],
   "source": [
    "import copy\n",
    "aaa = 'hello'\n",
    "bbb = aaa\n",
    "ccc = copy.copy(aaa)#这个操作，字符串就不算深层拷贝了，连copy也不行。\n",
    "ddd = copy.deepcopy(aaa)#这个操作，字符串就不算深层拷贝了，连copy也不行。\n",
    "print(id(aaa),id(bbb),id(ccc),id(ddd))\n",
    "print(bbb is aaa)\n",
    "print(bbb == aaa)\n",
    "print(ccc is aaa)#qian层拷贝，ccc和aaa不是is的关系\n",
    "print(ccc == aaa)\n",
    "print(ddd is aaa)#深层拷贝，ccc和aaa不是is的关系\n",
    "print(ddd == aaa)\n",
    "ccc += 'c'\n",
    "ddd += 'd'\n",
    "print(aaa,' ',bbb,' ',ccc,'',ddd)\n",
    "print(id(aaa),id(bbb),id(ccc),id(ddd))\n",
    "print(ccc is aaa)#qian层拷贝，ccc修改后，ccc和aaa不是is的关系\n",
    "print(ccc == aaa)\n",
    "print(ddd is aaa)#深层拷贝，ddd修改后，ddd和aaa不是is的关系\n",
    "print(ddd == aaa)"
   ]
  },
  {
   "cell_type": "markdown",
   "metadata": {},
   "source": [
    "### 对照组，ccc==aaa，但是ccc is not aaa，证明字符串通过拼接等操作，得到的长相一样的字符串，不是同一个常量对象。可能python内部认为'hello','hell','o'分别是一个对象，'hell'+'o'这种组合是一个对象。"
   ]
  },
  {
   "cell_type": "code",
   "execution_count": 31,
   "metadata": {},
   "outputs": [
    {
     "name": "stdout",
     "output_type": "stream",
     "text": [
      "140094320098696 140094320098696 140094320051680\n",
      "hello\n",
      "140094320098696 140094320098696 140094320520360 140094535561880\n",
      "True\n",
      "True\n",
      "False\n",
      "True\n"
     ]
    }
   ],
   "source": [
    "aaa = [1,2,3]\n",
    "aaa = 'hello'\n",
    "bbb = aaa\n",
    "ccc = 'hell'\n",
    "print(id(aaa),id(bbb),id(ccc))\n",
    "e = 'o'\n",
    "ccc += e\n",
    "print(ccc)\n",
    "print(id(aaa),id(bbb),id(ccc),id(e))\n",
    "print(bbb is aaa)\n",
    "print(bbb == aaa)\n",
    "print(ccc is aaa)#深层拷贝，ccc和aaa不是is的关系\n",
    "print(ccc == aaa)"
   ]
  },
  {
   "cell_type": "markdown",
   "metadata": {},
   "source": [
    "Python中对象的赋值都是进行对象引用（内存地址）传递\n",
    "使用copy.copy()，可以进行对象的浅拷贝，它复制了对象，但对于对象中的元素，依然使用原始的引用.\n",
    "如果需要复制一个容器对象，以及它里面的所有元素（包含元素的子元素），可以使用copy.deepcopy()进行深拷贝\n",
    "对于非容器类型（如数字、字符串、和其他'原子'类型的对象）没有被拷贝一说\n",
    "如果元祖变量只包含原子类型对象，则不能深拷"
   ]
  },
  {
   "cell_type": "code",
   "execution_count": 23,
   "metadata": {},
   "outputs": [
    {
     "name": "stdout",
     "output_type": "stream",
     "text": [
      "<class 'tuple'>\n",
      "True\n",
      "False\n"
     ]
    }
   ],
   "source": [
    "books=('a','b','c')\n",
    "print(type(books))\n",
    "copies = copy.deepcopy(books)\n",
    "print(books is copies)\n",
    "books=('a','b','c',[])\n",
    "copies = copy.deepcopy(books)\n",
    "print(books is copies)"
   ]
  },
  {
   "cell_type": "code",
   "execution_count": null,
   "metadata": {
    "collapsed": true
   },
   "outputs": [],
   "source": []
  },
  {
   "cell_type": "code",
   "execution_count": null,
   "metadata": {
    "collapsed": true
   },
   "outputs": [],
   "source": []
  },
  {
   "cell_type": "code",
   "execution_count": null,
   "metadata": {
    "collapsed": true
   },
   "outputs": [],
   "source": []
  },
  {
   "cell_type": "code",
   "execution_count": null,
   "metadata": {
    "collapsed": true
   },
   "outputs": [],
   "source": []
  },
  {
   "cell_type": "code",
   "execution_count": null,
   "metadata": {
    "collapsed": true
   },
   "outputs": [],
   "source": []
  },
  {
   "cell_type": "code",
   "execution_count": null,
   "metadata": {
    "collapsed": true
   },
   "outputs": [],
   "source": []
  }
 ],
 "metadata": {
  "kernelspec": {
   "display_name": "virtual py36",
   "language": "python",
   "name": "py36"
  },
  "language_info": {
   "codemirror_mode": {
    "name": "ipython",
    "version": 3
   },
   "file_extension": ".py",
   "mimetype": "text/x-python",
   "name": "python",
   "nbconvert_exporter": "python",
   "pygments_lexer": "ipython3",
   "version": "3.6.1"
  }
 },
 "nbformat": 4,
 "nbformat_minor": 2
}
