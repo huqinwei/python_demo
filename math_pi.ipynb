{
 "cells": [
  {
   "cell_type": "markdown",
   "metadata": {},
   "source": [
    "# math的pi"
   ]
  },
  {
   "cell_type": "code",
   "execution_count": 2,
   "metadata": {},
   "outputs": [
    {
     "name": "stdout",
     "output_type": "stream",
     "text": [
      "3.141592653589793\n"
     ]
    }
   ],
   "source": [
    "import math\n",
    "print(math.pi)\n"
   ]
  },
  {
   "cell_type": "markdown",
   "metadata": {},
   "source": [
    "\n",
    "## 小数长度控制中，那个数字是的显示长度，不是小数点后的长度，和c不太一样？小数点前边必须有冒号。。。。\n",
    "format是插入参数的格式控制"
   ]
  },
  {
   "cell_type": "code",
   "execution_count": 17,
   "metadata": {},
   "outputs": [
    {
     "name": "stdout",
     "output_type": "stream",
     "text": [
      "pi to 4 significant digits = 3e+00\n",
      "pi to 4 significant digits = 3e+00\n",
      "pi to 4 significant digits = 3.142\n",
      "pi to 4 significant digits = 3.1416\n",
      "pi 3.142,and pi3.1415927\n"
     ]
    }
   ],
   "source": [
    "print(\"pi to 4 significant digits = {:.0}\".format(math.pi))\n",
    "print(\"pi to 4 significant digits = {:.1}\".format(math.pi))\n",
    "print(\"pi to 4 significant digits = {:.4}\".format(math.pi))\n",
    "print(\"pi to 4 significant digits = {:.5}\".format(math.pi))\n",
    "print(\"pi {:.4},and pi{:.8}\".format(math.pi,math.pi))\n",
    "#print(\"pi {.4},and pi{.8}\".format(math.pi,math.pi))#AttributeError: 'float' object has no attribute '4'\n",
    "\n"
   ]
  },
  {
   "cell_type": "markdown",
   "metadata": {},
   "source": [
    "\n",
    "## 花括号中的整数就没有控制长度的功能了，相当于参数下标"
   ]
  },
  {
   "cell_type": "code",
   "execution_count": 15,
   "metadata": {},
   "outputs": [
    {
     "name": "stdout",
     "output_type": "stream",
     "text": [
      "pi is 3.141592653589793,and pi is 3.141592653589793\n",
      "index[3] to 4,and index[4] to 5\n",
      "pi is 3.142,and pi is 3.14\n"
     ]
    }
   ],
   "source": [
    "print(\"pi is {0},and pi is {0}\".format(math.pi))\n",
    "#print(\"pi is {3},and pi is {4}\".format(math.pi))#IndexError: tuple index out of range\n",
    "print(\"index[3] to {3},and index[4] to {4}\".format(math.pi,2,3,4,5,6,7))#IndexError: tuple index out of range\n",
    "print(\"pi is {0:.4},and pi is {0:.3}\".format(math.pi))"
   ]
  },
  {
   "cell_type": "code",
   "execution_count": null,
   "metadata": {
    "collapsed": true
   },
   "outputs": [],
   "source": []
  }
 ],
 "metadata": {
  "kernelspec": {
   "display_name": "virtual py36",
   "language": "python",
   "name": "py36"
  },
  "language_info": {
   "codemirror_mode": {
    "name": "ipython",
    "version": 3
   },
   "file_extension": ".py",
   "mimetype": "text/x-python",
   "name": "python",
   "nbconvert_exporter": "python",
   "pygments_lexer": "ipython3",
   "version": "3.6.1"
  }
 },
 "nbformat": 4,
 "nbformat_minor": 2
}
