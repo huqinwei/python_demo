{
 "cells": [
  {
   "cell_type": "markdown",
   "metadata": {},
   "source": [
    "# 复数"
   ]
  },
  {
   "cell_type": "code",
   "execution_count": 6,
   "metadata": {},
   "outputs": [
    {
     "name": "stdout",
     "output_type": "stream",
     "text": [
      "0\n",
      "x's mem size <built-in method bit_length of int object at 0x7fdd1e9cdb20>\n",
      "4\n"
     ]
    }
   ],
   "source": [
    "x = 12\n",
    "# x is a real number, so its imaginary part is 0.\n",
    "print(x.imag)\n",
    "print('x\\'s mem size',x.bit_length)\n",
    "print(x.bit_length())#property, not function"
   ]
  },
  {
   "cell_type": "markdown",
   "metadata": {},
   "source": [
    "j在复数中代表特殊符号，不是变量j"
   ]
  },
  {
   "cell_type": "code",
   "execution_count": 5,
   "metadata": {},
   "outputs": [
    {
     "name": "stdout",
     "output_type": "stream",
     "text": [
      "c: (12+3j)\n",
      "c2: 27\n",
      "c3: (12+3j)\n",
      "c4: (1+0j)\n",
      "c5: (1+0j)\n",
      "c6: (1+2j)\n",
      "c is  (12+3j)\n",
      "<class 'complex'>\n",
      "3.0\n",
      "x's mem size <built-in method bit_length of int object at 0x7fdd1e9cdb20>\n",
      "4\n"
     ]
    }
   ],
   "source": [
    "# Here's how to make a complex number, in case you've ever been curious:\n",
    "j=5#it doesn't make difference\n",
    "c = 12 + 3j#this j is just a 'symbol'\n",
    "c2 = 12 + 3*j#this j is a variable\n",
    "c3 = complex(12,3)#构造\n",
    "c4 = complex(1)\n",
    "c5 = complex(\"1\")\n",
    "c6 = complex(\"1+2j\")\n",
    "#c7 = complex(\"1 + 2j\")\n",
    "print('c:',c)\n",
    "print('c2:',c2)\n",
    "print('c3:',c3)\n",
    "print('c4:',c4)\n",
    "print('c5:',c5)\n",
    "print('c6:',c6)\n",
    "#print(c7)\n",
    "#print(c.subs(1))\n",
    "print('c is ',c)\n",
    "print(type(c))\n",
    "print(c.imag)\n",
    "#help(complex.imag)\n",
    "\n",
    "\n",
    "\n"
   ]
  },
  {
   "cell_type": "code",
   "execution_count": null,
   "metadata": {
    "collapsed": true
   },
   "outputs": [],
   "source": []
  }
 ],
 "metadata": {
  "kernelspec": {
   "display_name": "virtual py36",
   "language": "python",
   "name": "py36"
  },
  "language_info": {
   "codemirror_mode": {
    "name": "ipython",
    "version": 3
   },
   "file_extension": ".py",
   "mimetype": "text/x-python",
   "name": "python",
   "nbconvert_exporter": "python",
   "pygments_lexer": "ipython3",
   "version": "3.6.1"
  }
 },
 "nbformat": 4,
 "nbformat_minor": 2
}
