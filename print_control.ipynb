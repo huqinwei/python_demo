{
 "cells": [
  {
   "cell_type": "code",
   "execution_count": null,
   "metadata": {
    "collapsed": true
   },
   "outputs": [],
   "source": []
  },
  {
   "cell_type": "markdown",
   "metadata": {},
   "source": [
    "利用for循环和快捷赋值完成Fibonacci的实现"
   ]
  },
  {
   "cell_type": "code",
   "execution_count": 2,
   "metadata": {},
   "outputs": [
    {
     "name": "stdout",
     "output_type": "stream",
     "text": [
      "1,1,2,3,5,8,13,21,34,55,89,144,233,377,610,987,"
     ]
    }
   ],
   "source": [
    "a, b = 0,1\n",
    "while b < 1000:\n",
    "    #print(b,sep = ',')\n",
    "    print(b,end = ',')\n",
    "    a,b=b,a+b"
   ]
  },
  {
   "cell_type": "code",
   "execution_count": 4,
   "metadata": {},
   "outputs": [
    {
     "name": "stdout",
     "output_type": "stream",
     "text": [
      "hahahaha\n",
      "hahahaha,"
     ]
    }
   ],
   "source": [
    "#wrong\n",
    "print('hahahaha',sep=',')\n",
    "print('hahahaha',end=',')"
   ]
  },
  {
   "cell_type": "code",
   "execution_count": 5,
   "metadata": {},
   "outputs": [
    {
     "name": "stdout",
     "output_type": "stream",
     "text": [
      "['a', 'b', 'c']\n",
      "['a', 'b', 'c']\n"
     ]
    }
   ],
   "source": [
    "#这个给str list没用，print本来就自带分隔符，只能用在一个print有多个参数的情况。\n",
    "l = ['a','b','c']\n",
    "print(l)\n",
    "print(l,sep=',')"
   ]
  },
  {
   "cell_type": "code",
   "execution_count": 6,
   "metadata": {},
   "outputs": [
    {
     "name": "stdout",
     "output_type": "stream",
     "text": [
      "hello\n",
      "hello\n"
     ]
    }
   ],
   "source": [
    "string = 'hello'\n",
    "print(string)\n",
    "print(string,sep=',')\n"
   ]
  },
  {
   "cell_type": "code",
   "execution_count": 9,
   "metadata": {},
   "outputs": [
    {
     "name": "stdout",
     "output_type": "stream",
     "text": [
      "file\n",
      " abc bcd fff\n",
      " poi\n",
      "-------------\n",
      "file\n",
      "abcbcdfff\n",
      "poi\n",
      "-------------\n",
      "file\n",
      " abc bcd fff poi\n",
      "-------------\n",
      "a b c d\n",
      "a,b,c,d\n",
      "a!b!c!d\n"
     ]
    }
   ],
   "source": [
    "print(\"file\\n\",\"abc\",\"bcd\",\"fff\\n\",\"poi\")\n",
    "print(\"-------------\")\n",
    "print(\"file\\n\",\"abc\",\"bcd\",\"fff\\n\",\"poi\",sep='')\n",
    "print(\"-------------\")\n",
    "print(\"file\\n\",\"abc\",\"bcd\",\"fff\",\"poi\",sep=' ')\n",
    "print(\"-------------\")\n",
    "\n",
    "print('a','b','c','d')\n",
    "print('a','b','c','d',sep=',')\n",
    "print('a','b','c','d',sep='!')\n",
    "#别忘了，sep作为分隔符，不加到最后一个“单词”的后边"
   ]
  },
  {
   "cell_type": "code",
   "execution_count": 10,
   "metadata": {},
   "outputs": [
    {
     "name": "stdout",
     "output_type": "stream",
     "text": [
      "file\n",
      "#########\n",
      "abc#########\n",
      "fff....\n",
      "file\n",
      "#########\n",
      "abc#########\n",
      "fff .............\n",
      "file\n",
      "#########\n",
      "abc#########\n",
      "fff\n",
      "...................\n",
      "file\n",
      "#########\n",
      "abc#########\n",
      "fff\n",
      "................................\n"
     ]
    }
   ],
   "source": [
    "print(\"file\\n\",\"abc\",\"fff\",sep='#########\\n',end='')#空格和什么都没有是不一样的\n",
    "print(\"....\")\n",
    "print(\"file\\n\",\"abc\",\"fff\",sep='#########\\n',end=' ')#空格和什么都没有是不一样的\n",
    "print(\".............\")\n",
    "print(\"file\\n\",\"abc\",\"fff\",sep='#########\\n',end='\\n')#默认是这个，换行符，如果改成''就不换了\n",
    "print(\"...................\")\n",
    "print(\"file\\n\",\"abc\",\"fff\",sep='#########\\n')#默认是换行\n",
    "print(\"................................\")\n",
    "\n",
    "with open('abc.txt','w') as f:\n",
    "    print(\"file\\n\",\"abc\",\"fff\",sep='####\\n',end='',file=f)"
   ]
  },
  {
   "cell_type": "code",
   "execution_count": null,
   "metadata": {
    "collapsed": true
   },
   "outputs": [],
   "source": []
  },
  {
   "cell_type": "code",
   "execution_count": null,
   "metadata": {
    "collapsed": true
   },
   "outputs": [],
   "source": []
  }
 ],
 "metadata": {
  "kernelspec": {
   "display_name": "virtual py36",
   "language": "python",
   "name": "py36"
  },
  "language_info": {
   "codemirror_mode": {
    "name": "ipython",
    "version": 3
   },
   "file_extension": ".py",
   "mimetype": "text/x-python",
   "name": "python",
   "nbconvert_exporter": "python",
   "pygments_lexer": "ipython3",
   "version": "3.6.1"
  }
 },
 "nbformat": 4,
 "nbformat_minor": 2
}
