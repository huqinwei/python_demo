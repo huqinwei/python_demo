{
 "cells": [
  {
   "cell_type": "code",
   "execution_count": 1,
   "metadata": {
    "collapsed": true
   },
   "outputs": [],
   "source": [
    "import numpy as np\n",
    "import matplotlib.pyplot as plt"
   ]
  },
  {
   "cell_type": "markdown",
   "metadata": {},
   "source": [
    "## 生成线段，指定线段端点，不是线段数量！！！！\n",
    "### 如果endpoint是false，不光结尾那个数值不包括，连切分方法也变了，因为线段都要保持首尾有效。很抽象！！可以理解为，本该num+1个点，少一个点；本该num-1个线段，现在是num个线段，再扣一个。"
   ]
  },
  {
   "cell_type": "code",
   "execution_count": 8,
   "metadata": {},
   "outputs": [
    {
     "name": "stdout",
     "output_type": "stream",
     "text": [
      "[ 2.    2.25  2.5   2.75  3.  ]\n",
      "[ 2.   2.2  2.4  2.6  2.8]\n",
      "(array([ 2.  ,  2.25,  2.5 ,  2.75,  3.  ]), 0.25)\n"
     ]
    }
   ],
   "source": [
    "lin = np.linspace(2.0,3.0,num=5)\n",
    "print(lin)\n",
    "lin2 = np.linspace(2.0,3.0,num=5,endpoint = False)\n",
    "print(lin2)\n",
    "#lin2 = np.linspace(2.0,3.0,num=5,startpoint = False, endpoint = False)#没有startpoint，只有end\n",
    "#print(lin2)\n",
    "lin3 = np.linspace(2.0,3.0,num=5, retstep = True)#这是返回切分的步幅，也就是线段长度。\n",
    "print(lin3)\n"
   ]
  },
  {
   "cell_type": "markdown",
   "metadata": {},
   "source": [
    "## 虽然加不加%matplotlib inline都能打印，但是IPython可能不一样，而且加了%matplotlib inline 可以省略plt.show()"
   ]
  },
  {
   "cell_type": "code",
   "execution_count": 11,
   "metadata": {},
   "outputs": [
    {
     "data": {
      "text/plain": [
       "(-0.3, 1)"
      ]
     },
     "execution_count": 11,
     "metadata": {},
     "output_type": "execute_result"
    },
    {
     "data": {
      "image/png": "[encoded data removed]",
      "text/plain": [
       "<matplotlib.figure.Figure at 0x7fdc674765f8>"
      ]
     },
     "metadata": {},
     "output_type": "display_data"
    }
   ],
   "source": [
    "%matplotlib inline\n",
    "N = 8\n",
    "y = np.zeros(N*2)\n",
    "x1 = np.linspace(0,10,N*2,endpoint=True)\n",
    "x2 = np.linspace(0,10,N*2,endpoint=False)\n",
    "plt.plot(x1,y,'x')\n",
    "plt.plot(x2,y+0.5,'+')\n",
    "plt.ylim([-0.3,1])\n",
    "#plt.show()"
   ]
  },
  {
   "cell_type": "code",
   "execution_count": null,
   "metadata": {
    "collapsed": true
   },
   "outputs": [],
   "source": []
  }
 ],
 "metadata": {
  "kernelspec": {
   "display_name": "virtual py36",
   "language": "python",
   "name": "py36"
  },
  "language_info": {
   "codemirror_mode": {
    "name": "ipython",
    "version": 3
   },
   "file_extension": ".py",
   "mimetype": "text/x-python",
   "name": "python",
   "nbconvert_exporter": "python",
   "pygments_lexer": "ipython3",
   "version": "3.6.1"
  }
 },
 "nbformat": 4,
 "nbformat_minor": 2
}
