{
 "cells": [
  {
   "cell_type": "markdown",
   "metadata": {},
   "source": [
    "# 主要也就是俩参数，还有默认参数值"
   ]
  },
  {
   "cell_type": "code",
   "execution_count": 2,
   "metadata": {},
   "outputs": [
    {
     "name": "stdout",
     "output_type": "stream",
     "text": [
      "hello ,change line \n",
      "second line\n"
     ]
    }
   ],
   "source": [
    "print(\"hello ,change line \\nsecond line\")\n",
    "str1=\"str1 \"\n",
    "str2=\"str2 \"\n",
    "str = str1 + str2"
   ]
  },
  {
   "cell_type": "code",
   "execution_count": 11,
   "metadata": {},
   "outputs": [
    {
     "name": "stdout",
     "output_type": "stream",
     "text": [
      "str1 \n",
      "str2 \n",
      "str1 str2 \n",
      "str1 str2 \n",
      "str1  str2 \n",
      "str1 ~~#!#@!#!@#!@#!@#!~str2 \n",
      "hahaha!!!!!hahaha#####dazxcvzxv&&&&It's not a new line!!!!!!!!!!!!\n"
     ]
    }
   ],
   "source": [
    "print(str1)\n",
    "print(str2)\n",
    "print(str)\n",
    "print(str1 + str2)\n",
    "print(\"str1 \",\"str2 \")\n",
    "print(\"str1 \",\"str2 \",sep='~~#!#@!#!@#!@#!@#!~')\n",
    "print(\"hahaha\",end = '!!!!!')\n",
    "print(\"hahaha\",end = '#####')\n",
    "print(\"dazxcvzxv\",end = '&&&&')\n",
    "print('It\\'s not a new line!!!!!!!!!!!!')\n"
   ]
  },
  {
   "cell_type": "code",
   "execution_count": 5,
   "metadata": {},
   "outputs": [
    {
     "name": "stdout",
     "output_type": "stream",
     "text": [
      "next line is a empty line\n",
      "\n",
      "another line\n"
     ]
    }
   ],
   "source": [
    "print('next line is a empty line')\n",
    "print()\n",
    "print(\"another line\")"
   ]
  },
  {
   "cell_type": "code",
   "execution_count": null,
   "metadata": {
    "collapsed": true
   },
   "outputs": [],
   "source": []
  }
 ],
 "metadata": {
  "kernelspec": {
   "display_name": "virtual py36",
   "language": "python",
   "name": "py36"
  },
  "language_info": {
   "codemirror_mode": {
    "name": "ipython",
    "version": 3
   },
   "file_extension": ".py",
   "mimetype": "text/x-python",
   "name": "python",
   "nbconvert_exporter": "python",
   "pygments_lexer": "ipython3",
   "version": "3.6.1"
  }
 },
 "nbformat": 4,
 "nbformat_minor": 2
}
