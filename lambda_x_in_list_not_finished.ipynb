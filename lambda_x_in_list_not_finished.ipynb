{
 "cells": [
  {
   "cell_type": "code",
   "execution_count": null,
   "metadata": {
    "collapsed": true
   },
   "outputs": [],
   "source": [
    "## 所谓lambda的面试题：好像是说函数执行前，内部代码不执行，所以这10个函数都是lambda:9了\n",
    "\n",
    "[x for x in range(10)]\n",
    "\n",
    "[0, 1, 2, 3, 4, 5, 6, 7, 8, 9]\n",
    "\n",
    "li = [lambda :x for x in range(10)]\n",
    "\n",
    "res = li[0]()\n",
    "\n",
    "print(res)\n",
    "\n",
    "res = li[1]()\n",
    "\n",
    "print(res)\n",
    "\n",
    "res = li[2]()\n",
    "\n",
    "print(res)\n",
    "\n",
    "9\n",
    "9\n",
    "9\n",
    "\n",
    "对比：这个就不会那样\n",
    "\n",
    "li = [lambda :0,lambda:1]\n",
    "\n",
    "res = li[0]()\n",
    "\n",
    "print(res)\n",
    "\n",
    "res = li[1]()\n",
    "\n",
    "print(res)\n",
    "\n",
    "0\n",
    "1\n"
   ]
  }
 ],
 "metadata": {
  "kernelspec": {
   "display_name": "virtual py36",
   "language": "python",
   "name": "py36"
  },
  "language_info": {
   "codemirror_mode": {
    "name": "ipython",
    "version": 3
   },
   "file_extension": ".py",
   "mimetype": "text/x-python",
   "name": "python",
   "nbconvert_exporter": "python",
   "pygments_lexer": "ipython3",
   "version": "3.6.1"
  }
 },
 "nbformat": 4,
 "nbformat_minor": 2
}
