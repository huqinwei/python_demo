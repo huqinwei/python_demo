{
 "cells": [
  {
   "cell_type": "markdown",
   "metadata": {},
   "source": [
    "# try的相关用法"
   ]
  },
  {
   "cell_type": "markdown",
   "metadata": {},
   "source": [
    "## 基本用法"
   ]
  },
  {
   "cell_type": "code",
   "execution_count": 1,
   "metadata": {},
   "outputs": [
    {
     "ename": "FileNotFoundError",
     "evalue": "[Errno 2] No such file or directory: 'fack'",
     "output_type": "error",
     "traceback": [
      "\u001b[0;31m---------------------------------------------------------------------------\u001b[0m",
      "\u001b[0;31mFileNotFoundError\u001b[0m                         Traceback (most recent call last)",
      "\u001b[0;32m<ipython-input-1-41991a722e62>\u001b[0m in \u001b[0;36m<module>\u001b[0;34m()\u001b[0m\n\u001b[1;32m      1\u001b[0m \u001b[0;34m\u001b[0m\u001b[0m\n\u001b[0;32m----> 2\u001b[0;31m \u001b[0mfile\u001b[0m \u001b[0;34m=\u001b[0m \u001b[0mopen\u001b[0m\u001b[0;34m(\u001b[0m\u001b[0;34m'fack'\u001b[0m\u001b[0;34m,\u001b[0m\u001b[0;34m'r+'\u001b[0m\u001b[0;34m)\u001b[0m\u001b[0;34m\u001b[0m\u001b[0m\n\u001b[0m",
      "\u001b[0;31mFileNotFoundError\u001b[0m: [Errno 2] No such file or directory: 'fack'"
     ]
    }
   ],
   "source": [
    "file = open('fack','r+')"
   ]
  },
  {
   "cell_type": "code",
   "execution_count": 5,
   "metadata": {},
   "outputs": [
    {
     "name": "stdout",
     "output_type": "stream",
     "text": [
      "I catch the exception:\n",
      "\t [Errno 2] No such file or directory: 'fack'\n"
     ]
    }
   ],
   "source": [
    "try:\n",
    "\tfile = open('fack','r+')\n",
    "except Exception as e:\n",
    "\tprint('I catch the exception:\\n\\t',e)"
   ]
  },
  {
   "cell_type": "markdown",
   "metadata": {},
   "source": [
    "# try except else finally的关系"
   ]
  },
  {
   "cell_type": "markdown",
   "metadata": {},
   "source": [
    "## demo1：即使能进try，也要走finally，但是此处finally不影响return。"
   ]
  },
  {
   "cell_type": "code",
   "execution_count": 8,
   "metadata": {},
   "outputs": [
    {
     "name": "stdout",
     "output_type": "stream",
     "text": [
      "try print\n",
      "0\n",
      "ret: 1\n"
     ]
    }
   ],
   "source": [
    "def f():\n",
    "    try:\n",
    "        print('try print')\n",
    "        return 1\n",
    "    finally:\n",
    "        print(0)\n",
    "print('ret:',f())"
   ]
  },
  {
   "cell_type": "markdown",
   "metadata": {},
   "source": [
    "## demo2：即使能进try，也要走finally,finally的return覆盖前边的return，。"
   ]
  },
  {
   "cell_type": "code",
   "execution_count": 6,
   "metadata": {},
   "outputs": [
    {
     "name": "stdout",
     "output_type": "stream",
     "text": [
      "try print 1\n",
      "finally!!!\n",
      "f()'s return is : 0\n"
     ]
    }
   ],
   "source": [
    "def f():\n",
    "    try:\n",
    "        print('try print 1')\n",
    "        return 1\n",
    "    finally:\n",
    "        print('finally!!!')\n",
    "        return 0\n",
    "print('f()\\'s return is :', f())"
   ]
  },
  {
   "cell_type": "markdown",
   "metadata": {},
   "source": [
    "## demo3：同上，finally不定义return就不影响return"
   ]
  },
  {
   "cell_type": "code",
   "execution_count": 9,
   "metadata": {},
   "outputs": [
    {
     "name": "stdout",
     "output_type": "stream",
     "text": [
      "try\n",
      "0\n",
      "ret: 1\n"
     ]
    }
   ],
   "source": [
    "def f():\n",
    "    try:\n",
    "        print('try')\n",
    "        return 1\n",
    "    except:\n",
    "        return 2\n",
    "    else:\n",
    "        print('else')\n",
    "        return 3\n",
    "\n",
    "    finally:\n",
    "        print(0)\n",
    "print('ret:', f())"
   ]
  },
  {
   "cell_type": "markdown",
   "metadata": {},
   "source": [
    "## demo3.2 try without return，else是会自然执行到的，之前不执行是因为try内加了return。"
   ]
  },
  {
   "cell_type": "code",
   "execution_count": 10,
   "metadata": {},
   "outputs": [
    {
     "name": "stdout",
     "output_type": "stream",
     "text": [
      "try\n",
      "else\n",
      "0\n",
      "ret: 3\n"
     ]
    }
   ],
   "source": [
    "def f():\n",
    "    try:\n",
    "        print('try')\n",
    "    except:\n",
    "        return 2\n",
    "    else:#this will be execute\n",
    "        print('else')\n",
    "        return 3\n",
    "\n",
    "    finally:\n",
    "        print(0)\n",
    "print('ret:', f())"
   ]
  },
  {
   "cell_type": "markdown",
   "metadata": {},
   "source": [
    "## 上边缺except执行的例子。随便补充几个例子。\n",
    "\n",
    "## 总结：try失败进入except，try成功进入else，但是try如果return，就不向下执行！（有例外）\n",
    "### try和except对立\n",
    "### else只相当于try的后续，except可以跳过else。“if try成功，执行else”——比较绕口，其实else和except才是互斥的，相当于if except和else对立。\n",
    "### finally优先级比try和except的return还高，始终会执行，并且可以覆盖return值\n",
    "### 所以，finally才是boss，为了不歧义，return语句应该丢进finally"
   ]
  },
  {
   "cell_type": "code",
   "execution_count": 13,
   "metadata": {},
   "outputs": [
    {
     "name": "stdout",
     "output_type": "stream",
     "text": [
      "1\n",
      "0\n",
      "test1 return: 0\n"
     ]
    }
   ],
   "source": [
    "def test_finally_return():\n",
    "    try:\n",
    "        print(1)\n",
    "        return 1\n",
    "    finally:\n",
    "        print(0)\n",
    "        return 0\n",
    "print('test return:',test_finally_return())"
   ]
  },
  {
   "cell_type": "code",
   "execution_count": 14,
   "metadata": {},
   "outputs": [
    {
     "name": "stdout",
     "output_type": "stream",
     "text": [
      "1\n",
      "0\n",
      "test return: 1\n"
     ]
    }
   ],
   "source": [
    "def test_finally_return():\n",
    "    try:\n",
    "        print(1)\n",
    "        return 1\n",
    "    finally:\n",
    "        print(0)\n",
    "print('test return:',test_finally_return())"
   ]
  },
  {
   "cell_type": "code",
   "execution_count": 15,
   "metadata": {},
   "outputs": [
    {
     "name": "stdout",
     "output_type": "stream",
     "text": [
      "1\n",
      "0\n",
      "test return: 1\n"
     ]
    }
   ],
   "source": [
    "def test_else_finally_return():\n",
    "    try:\n",
    "        print(1)\n",
    "        return 1\n",
    "    except:\n",
    "        return 2\n",
    "    else:\n",
    "        print(3)\n",
    "        return 3\n",
    "    finally:\n",
    "        print(0)\n",
    "print('test return:',test_else_finally_return())"
   ]
  },
  {
   "cell_type": "code",
   "execution_count": 16,
   "metadata": {},
   "outputs": [
    {
     "name": "stdout",
     "output_type": "stream",
     "text": [
      "1\n",
      "0\n",
      "test return: 0\n"
     ]
    }
   ],
   "source": [
    "def test_else_finally_return():\n",
    "    try:\n",
    "        print(1)\n",
    "        return 1\n",
    "    except:\n",
    "        return 2\n",
    "    else:\n",
    "        print(3)\n",
    "        return 3\n",
    "    finally:\n",
    "        print(0)\n",
    "        return 0\n",
    "print('test return:',test_else_finally_return())"
   ]
  },
  {
   "cell_type": "code",
   "execution_count": 17,
   "metadata": {},
   "outputs": [
    {
     "name": "stdout",
     "output_type": "stream",
     "text": [
      "1\n",
      "3\n",
      "0\n",
      "test return: 0\n"
     ]
    }
   ],
   "source": [
    "def test_else_finally_return():\n",
    "    try:\n",
    "        print(1)\n",
    "    except:\n",
    "        return 2\n",
    "    else:\n",
    "        print(3)\n",
    "    finally:\n",
    "        print(0)\n",
    "        return 0\n",
    "print('test return:',test_else_finally_return())"
   ]
  },
  {
   "cell_type": "code",
   "execution_count": 18,
   "metadata": {},
   "outputs": [
    {
     "name": "stdout",
     "output_type": "stream",
     "text": [
      "1\n",
      "test return: 1\n"
     ]
    }
   ],
   "source": [
    "def test_else_return():\n",
    "    try:\n",
    "        print(1)\n",
    "        return 1\n",
    "    except:\n",
    "        return 2\n",
    "    else:\n",
    "        print(3)\n",
    "        return 3\n",
    "print('test return:', test_else_return())"
   ]
  },
  {
   "cell_type": "markdown",
   "metadata": {},
   "source": [
    "### 几个try失败的例子"
   ]
  },
  {
   "cell_type": "code",
   "execution_count": 22,
   "metadata": {},
   "outputs": [
    {
     "name": "stdout",
     "output_type": "stream",
     "text": [
      "2\n",
      "test return: 2\n"
     ]
    }
   ],
   "source": [
    "def test_else_return():\n",
    "    try:\n",
    "        file = open('fack','r+')\n",
    "        print(1)\n",
    "    except:\n",
    "        print(2)\n",
    "        return 2\n",
    "    else:\n",
    "        print(3)\n",
    "        return 3\n",
    "print('test return:', test_else_return())"
   ]
  },
  {
   "cell_type": "code",
   "execution_count": 23,
   "metadata": {},
   "outputs": [
    {
     "name": "stdout",
     "output_type": "stream",
     "text": [
      "2\n",
      "test return: None\n"
     ]
    }
   ],
   "source": [
    "def test_else_return():\n",
    "    try:\n",
    "        file = open('fack','r+')\n",
    "        print(1)\n",
    "    except:#执行except就跳过else\n",
    "        print(2)\n",
    "    else:\n",
    "        print(3)\n",
    "        return 3\n",
    "print('test return:', test_else_return())"
   ]
  },
  {
   "cell_type": "code",
   "execution_count": 25,
   "metadata": {},
   "outputs": [
    {
     "name": "stdout",
     "output_type": "stream",
     "text": [
      "2\n",
      "4\n",
      "test return: 4\n"
     ]
    }
   ],
   "source": [
    "def test_else_return():\n",
    "    try:\n",
    "        file = open('fack','r+')\n",
    "        print(1)\n",
    "    except:#执行except就跳过else\n",
    "        print(2)\n",
    "        return 2\n",
    "    else:\n",
    "        print(3)\n",
    "        return 3\n",
    "    finally:\n",
    "        print(4)\n",
    "        return 4\n",
    "print('test return:', test_else_return())"
   ]
  },
  {
   "cell_type": "code",
   "execution_count": 26,
   "metadata": {},
   "outputs": [
    {
     "name": "stdout",
     "output_type": "stream",
     "text": [
      "2\n",
      "4\n",
      "test return: 4\n"
     ]
    }
   ],
   "source": [
    "def test_else_return():\n",
    "    try:\n",
    "        file = open('fack','r+')\n",
    "        print(1)\n",
    "    except:#执行except就跳过else，不管有没有return\n",
    "        print(2)\n",
    "    else:\n",
    "        print(3)\n",
    "        return 3\n",
    "    finally:\n",
    "        print(4)\n",
    "        return 4\n",
    "print('test return:', test_else_return())"
   ]
  },
  {
   "cell_type": "code",
   "execution_count": null,
   "metadata": {
    "collapsed": true
   },
   "outputs": [],
   "source": []
  },
  {
   "cell_type": "code",
   "execution_count": null,
   "metadata": {
    "collapsed": true
   },
   "outputs": [],
   "source": []
  },
  {
   "cell_type": "code",
   "execution_count": null,
   "metadata": {
    "collapsed": true
   },
   "outputs": [],
   "source": []
  },
  {
   "cell_type": "code",
   "execution_count": null,
   "metadata": {
    "collapsed": true
   },
   "outputs": [],
   "source": [
    "其他\n",
    "http://www.runoob.com/python/python-exceptions.html"
   ]
  },
  {
   "cell_type": "code",
   "execution_count": null,
   "metadata": {
    "collapsed": true
   },
   "outputs": [],
   "source": []
  },
  {
   "cell_type": "code",
   "execution_count": null,
   "metadata": {
    "collapsed": true
   },
   "outputs": [],
   "source": []
  }
 ],
 "metadata": {
  "kernelspec": {
   "display_name": "virtual py36",
   "language": "python",
   "name": "py36"
  },
  "language_info": {
   "codemirror_mode": {
    "name": "ipython",
    "version": 3
   },
   "file_extension": ".py",
   "mimetype": "text/x-python",
   "name": "python",
   "nbconvert_exporter": "python",
   "pygments_lexer": "ipython3",
   "version": "3.6.1"
  }
 },
 "nbformat": 4,
 "nbformat_minor": 2
}
