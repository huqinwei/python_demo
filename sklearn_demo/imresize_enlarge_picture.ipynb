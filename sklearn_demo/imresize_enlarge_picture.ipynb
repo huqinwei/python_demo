{
 "cells": [
  {
   "cell_type": "markdown",
   "metadata": {},
   "source": [
    "忘了具体内容了，看看是不是resize系列"
   ]
  },
  {
   "cell_type": "code",
   "execution_count": 1,
   "metadata": {
    "collapsed": true
   },
   "outputs": [],
   "source": [
    "import numpy as np\n",
    "import scipy.misc"
   ]
  },
  {
   "cell_type": "code",
   "execution_count": 2,
   "metadata": {},
   "outputs": [
    {
     "name": "stdout",
     "output_type": "stream",
     "text": [
      "[[[11 12 13]\n",
      "  [ 4  5  6]]\n",
      "\n",
      " [[ 7  8  9]\n",
      "  [10 11 12]]]\n",
      "img2[0]: [[11 12 13]\n",
      " [ 4  5  6]]\n",
      "img2[1]: [[ 7  8  9]\n",
      " [10 11 12]]\n",
      "img2's max is  13\n",
      "img2[0]'s max is  13\n",
      "img2[1]'s max is  12\n",
      "img2[0][0]'s max is  13\n",
      "img2[1][0]'s max is  9\n"
     ]
    }
   ],
   "source": [
    "img = np.ndarray(shape = (3,3,3))\n",
    "img2 = np.array([[[11,12,13],[4,5,6]],[[7,8,9],[10,11,12]]])\n",
    "#print(img)\n",
    "# print(\"img's max is \",img.max())\n",
    "print(img2)\n",
    "print('img2[0]:',img2[0])\n",
    "print('img2[1]:',img2[1])\n",
    "print(\"img2's max is \",img2.max())\n",
    "print(\"img2[0]'s max is \",img2[0].max())\n",
    "print(\"img2[1]'s max is \",img2[1].max())\n",
    "print(\"img2[0][0]'s max is \",img2[0][0].max())\n",
    "print(\"img2[1][0]'s max is \",img2[1][0].max())"
   ]
  },
  {
   "cell_type": "markdown",
   "metadata": {},
   "source": [
    "## imresize其实就是输入一个比例，让图像shape各维度分别按比例调整，可大可小，img2和img3就是一个几乎一样的图被放成两个不同的尺寸。至于为什么要存max_和min_，是因为imresize默认了0,255的范围，你不存旧值也被破坏了，存了还能恢复"
   ]
  },
  {
   "cell_type": "code",
   "execution_count": 3,
   "metadata": {},
   "outputs": [
    {
     "name": "stdout",
     "output_type": "stream",
     "text": [
      "[[[ 198.33333333  226.66666667  255.        ]\n",
      "  [   0.           28.33333333   56.66666667]]\n",
      "\n",
      " [[  85.          113.33333333  141.66666667]\n",
      "  [ 170.          198.33333333  226.66666667]]]\n",
      "before imresize: shape is  (2, 2, 3)\n",
      "after imresize: shape is  (4, 4, 3)\n"
     ]
    }
   ],
   "source": [
    "img2 = np.array([[[11,12,13],[4,5,6]],[[7,8,9],[10,11,12]]])\n",
    "max_ = img2.max()\n",
    "min_ = img2.min()\n",
    "img2 = (img2 - img2.min())    /(img2.max() - img2.min())#归一化\n",
    "img2 = img2 * 255\n",
    "print(img2)\n",
    "print(\"before imresize: shape is \",img2.shape)\n",
    "img2 = scipy.misc.imresize(img2,2.0)\n",
    "#print(\"after imresize:\",img2)\n",
    "print(\"after imresize: shape is \",img2.shape)"
   ]
  },
  {
   "cell_type": "code",
   "execution_count": 4,
   "metadata": {},
   "outputs": [],
   "source": [
    "img2 = np.float32(img2)\n",
    "#print(\"after float trans:\",img2)"
   ]
  },
  {
   "cell_type": "markdown",
   "metadata": {},
   "source": []
  },
  {
   "cell_type": "markdown",
   "metadata": {},
   "source": [
    "### 虽然数值都不一样，为什么死活打印不出区别来？\n",
    "图片是400,400,3最内部的3是RGB，3个元素如果总是同步扩大缩小，打印就没区别？可以做个测试"
   ]
  },
  {
   "cell_type": "code",
   "execution_count": 7,
   "metadata": {},
   "outputs": [
    {
     "name": "stdout",
     "output_type": "stream",
     "text": [
      "(400, 400, 3)\n",
      "img saved:to_img_large_before_recover.jpg\n",
      "img saved:to_img_large_change_pixel.jpg\n",
      "img saved:to_img.jpg\n",
      "img saved:to_img_large.jpg\n"
     ]
    }
   ],
   "source": [
    "def savearray(img_array, img_name):\n",
    "\tscipy.misc.toimage(img_array).save(img_name)\n",
    "\tprint(\"img saved:%s\"%img_name)\n",
    "\n",
    "\n",
    "img3 = np.float32(scipy.misc.imresize(img2,100.0))#100倍\n",
    "#print(img3)\n",
    "print(img3.shape)\n",
    "\n",
    "savearray(img3,'to_img_large_before_recover.jpg')#对比，虽然数值有区别，好像实图并没有区别。\n",
    "\n",
    "img4 = img3 / 255 * (max_ - min_) + min_ + 100#换个像素去见\n",
    "\n",
    "#print('img4:',img4)\n",
    "savearray(img4,'to_img_large_change_pixel.jpg')\n",
    "\n",
    "\n",
    "img5 = img3 / 255 * (max_ - min_) + min_#恢复原图的像素值\n",
    "#print(img5)\n",
    "savearray(img2,'to_img.jpg')\n",
    "savearray(img5,'to_img_large.jpg')\n",
    "\n"
   ]
  },
  {
   "cell_type": "markdown",
   "metadata": {},
   "source": [
    "### 做个测试：同步改变RGB和分别改变的区别\n",
    "问题好像出在维度？最内层的元素不是最后一个axis?\n",
    "两种访问方式：\n",
    "\n",
    "<b>第一种是每个axis分别用方括号，ndarray可以从内层用冒号，不能从外层用冒号</b>\n",
    "\n",
    "<b>第二种是在一个方括号完成，可以任选</b>"
   ]
  },
  {
   "cell_type": "code",
   "execution_count": 44,
   "metadata": {},
   "outputs": [
    {
     "name": "stdout",
     "output_type": "stream",
     "text": [
      "img saved:to_img_rgb1.jpg\n",
      "img saved:to_img_rgb2.jpg\n",
      "img saved:to_img_rgb3.jpg\n",
      "img saved:to_img_rgb4.jpg\n"
     ]
    }
   ],
   "source": [
    "img_rgb = np.array([[[11,12,13],[4,5,6]],[[7,8,9],[10,11,12]]])\n",
    "min_pixel = img_rgb.min()\n",
    "max_pixel = img_rgb.max()\n",
    "\n",
    "img_rgb = scipy.misc.imresize(img2,100.0)\n",
    "img_rgb = img_rgb / 255 * (max_pixel - min_pixel) + min_pixel\n",
    "\n",
    "# print(img_rgb)\n",
    "savearray(img_rgb,'to_img_rgb1.jpg')\n",
    "img_rgb[:,:,:] += 100\n",
    "# print(img_rgb)\n",
    "savearray(img_rgb,'to_img_rgb2.jpg')\n",
    "img_rgb[:,:,1] -= 3\n",
    "# print(img_rgb)\n",
    "savearray(img_rgb,'to_img_rgb3.jpg')#成功打出区别\n",
    "img_rgb[:,:,2] += 3\n",
    "# print(img_rgb)\n",
    "savearray(img_rgb,'to_img_rgb4.jpg')#成功打出区别"
   ]
  },
  {
   "cell_type": "code",
   "execution_count": null,
   "metadata": {
    "collapsed": true
   },
   "outputs": [],
   "source": [
    "#访问方式测试\n",
    "img_rgb = np.array([[[11,12,13],[4,5,6]],[[7,8,9],[10,11,12]]])\n",
    "print(img_rgb.shape)\n",
    "print(img_rgb)\n",
    "print(img_rgb[0][0][2])\n",
    "print(img_rgb[0][1][2])\n",
    "print(img_rgb[0][1][:])\n",
    "print(img_rgb[0][:][:])\n",
    "#这三个怎么会一样呢？冒号用的不对？不能外围全选内围单选？\n",
    "# print(img_rgb[:][:][1])\n",
    "# print(img_rgb[:][1][:])\n",
    "# print(img_rgb[1][:][:])\n",
    "#这才是ndarray访问的正确方式\n",
    "print('img_rgb[:,:,0]:',img_rgb[:,:,0])\n",
    "print('img_rgb[:,:,1]:',img_rgb[:,:,1])\n",
    "print('img_rgb[:,:,2]:',img_rgb[:,:,2])\n",
    "\n",
    "\n",
    "# print(img_rgb[:][:][1])"
   ]
  },
  {
   "cell_type": "markdown",
   "metadata": {},
   "source": [
    "### 做个变体:读入一张图片，然后做enlarge"
   ]
  },
  {
   "cell_type": "code",
   "execution_count": 49,
   "metadata": {},
   "outputs": [
    {
     "name": "stdout",
     "output_type": "stream",
     "text": [
      "(520, 431, 3)\n",
      "0\n",
      "img saved:to_img_pic2.jpg\n",
      "img saved:to_img_pic4.jpg\n"
     ]
    }
   ],
   "source": [
    "pic = scipy.misc.imread('picture_for_imresize.jpg')\n",
    "print(pic.shape)\n",
    "min_pixel = pic.min()\n",
    "max_pixel = pic.max()\n",
    "print(min_pixel)\n",
    "\n",
    "pic = scipy.misc.imresize(pic,2.0)\n",
    "pic = pic / 255 * (max_pixel - min_pixel) + min_pixel\n",
    "savearray(pic,'to_img_pic2.jpg')\n",
    "\n",
    "pic = scipy.misc.imresize(pic,2.0)\n",
    "pic = pic / 255 * (max_pixel - min_pixel) + min_pixel\n",
    "savearray(pic,'to_img_pic4.jpg')"
   ]
  },
  {
   "cell_type": "code",
   "execution_count": null,
   "metadata": {},
   "outputs": [],
   "source": []
  },
  {
   "cell_type": "code",
   "execution_count": null,
   "metadata": {
    "collapsed": true
   },
   "outputs": [],
   "source": []
  },
  {
   "cell_type": "code",
   "execution_count": null,
   "metadata": {
    "collapsed": true
   },
   "outputs": [],
   "source": []
  },
  {
   "cell_type": "code",
   "execution_count": null,
   "metadata": {
    "collapsed": true
   },
   "outputs": [],
   "source": []
  }
 ],
 "metadata": {
  "kernelspec": {
   "display_name": "virtual py36",
   "language": "python",
   "name": "py36"
  },
  "language_info": {
   "codemirror_mode": {
    "name": "ipython",
    "version": 3
   },
   "file_extension": ".py",
   "mimetype": "text/x-python",
   "name": "python",
   "nbconvert_exporter": "python",
   "pygments_lexer": "ipython3",
   "version": "3.6.1"
  }
 },
 "nbformat": 4,
 "nbformat_minor": 2
}
