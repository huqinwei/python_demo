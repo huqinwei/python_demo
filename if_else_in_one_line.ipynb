{
 "cells": [
  {
   "cell_type": "markdown",
   "metadata": {},
   "source": [
    " #     一行内使用if语句\n",
    "## example:\n",
    "     if end_point == final_endpoint: return net, end_points\n"
   ]
  },
  {
   "cell_type": "code",
   "execution_count": 5,
   "metadata": {},
   "outputs": [
    {
     "name": "stdout",
     "output_type": "stream",
     "text": [
      "a: 10\n",
      "b: 13\n",
      "a: 10\n",
      "\n",
      "\n"
     ]
    }
   ],
   "source": [
    "\n",
    "#true\n",
    "a = 10\n",
    "b = 13\n",
    "if a == 10:print('b:',b),print('a:',a)\n",
    "print()\n",
    "print()\n",
    "#false\n",
    "a = 5\n",
    "b = 6\n",
    "if a == 3:print('b:',b), print('a:',a)"
   ]
  },
  {
   "cell_type": "markdown",
   "metadata": {},
   "source": [
    " ## 前者逗号等于执行多句，不是else，这与一行内if-else（三目）不同，如下："
   ]
  },
  {
   "cell_type": "code",
   "execution_count": null,
   "metadata": {
    "collapsed": true
   },
   "outputs": [],
   "source": [
    "a = 10\n",
    "b = 13\n",
    "print('a:', a) if a == 10 else print('b:',b) \n",
    "    "
   ]
  },
  {
   "cell_type": "code",
   "execution_count": 7,
   "metadata": {},
   "outputs": [
    {
     "name": "stdout",
     "output_type": "stream",
     "text": [
      "6\n"
     ]
    }
   ],
   "source": [
    "#赋值操作\n",
    "#demo4\n",
    "a = 5\n",
    "b = 6\n",
    "if a == 3:b = 100, print('a:',a)\n",
    "#if a == 3:b = 100, b = 10000#SyntaxError: can't assign to literal\n",
    "print(b)"
   ]
  },
  {
   "cell_type": "code",
   "execution_count": 8,
   "metadata": {},
   "outputs": [
    {
     "name": "stdout",
     "output_type": "stream",
     "text": [
      "<class 'tuple'>\n",
      "(99, 100)\n"
     ]
    }
   ],
   "source": [
    "#全局a\n",
    "#demo5:return tuple\n",
    "a = 3\n",
    "b = 4\n",
    "def func():\n",
    "    #if a == 3: return a,b\n",
    "    if a == 3: return 99,100\n",
    "c = func()\n",
    "print(type(c))\n",
    "print((c))\n",
    "\n"
   ]
  },
  {
   "cell_type": "code",
   "execution_count": 18,
   "metadata": {},
   "outputs": [
    {
     "name": "stdout",
     "output_type": "stream",
     "text": [
      "[2, 1]\n",
      "[False]\n",
      "2 2\n",
      "\n",
      "1 1\n",
      "\n",
      "2\n"
     ]
    }
   ],
   "source": [
    "a,b,c=1,2,3\n",
    "\n",
    "#二维列表，利用大小判断的0，1当作索引\n",
    "print([b,a])\n",
    "print([a>b])\n",
    "print([2,1][False],[2,1][0])\n",
    "print([2,1][True],[2,1][1])\n",
    "c= [b, a][a > b]\n",
    "print(c)"
   ]
  },
  {
   "cell_type": "markdown",
   "metadata": {},
   "source": [
    "## 利用逻辑运算符进行操作，其实没看太懂"
   ]
  },
  {
   "cell_type": "code",
   "execution_count": 38,
   "metadata": {},
   "outputs": [
    {
     "name": "stdout",
     "output_type": "stream",
     "text": [
      "2\n",
      "2\n"
     ]
    }
   ],
   "source": [
    "a,b,c=1,2,3\n",
    "c = (a>b and [a] or [b])[0]\n",
    "print(c)\n",
    "# 改编版\n",
    "c = (a>b and a or b)\n",
    "print(c)"
   ]
  },
  {
   "cell_type": "markdown",
   "metadata": {},
   "source": [
    "## 比较运算符原则上比and和or优先级高"
   ]
  },
  {
   "cell_type": "code",
   "execution_count": 44,
   "metadata": {},
   "outputs": [
    {
     "name": "stdout",
     "output_type": "stream",
     "text": [
      "False\n",
      "False\n",
      "[2]\n",
      "[1]\n",
      "False\n",
      "b and a or b: 1\n",
      "a > b and a or b: 2\n",
      "False\n",
      "2\n",
      "2\n"
     ]
    }
   ],
   "source": [
    "\n",
    "print(a>b)\n",
    "print(False and [1])\n",
    "print(False and [1] or [2])\n",
    "print([1] or [2])#[1]\n",
    "\n",
    "print(False and [1])\n",
    "#print((False and [1])[0])\n",
    "print('b and a or b:',b and a or b)\n",
    "print('a > b and a or b:',a > b and a or b)\n",
    "print(False and a)\n",
    "print(False or b)#说白了就是False or b！！！！\n",
    "print(False and a or b)"
   ]
  },
  {
   "cell_type": "code",
   "execution_count": 26,
   "metadata": {},
   "outputs": [
    {
     "name": "stdout",
     "output_type": "stream",
     "text": [
      "[a] or [b] [1]\n",
      "[1, 2, 3]\n",
      "[1, 2, 3]\n",
      "[1, 2, 3]\n"
     ]
    }
   ],
   "source": [
    "print('[a] or [b]',[a] or [b])#并集???\n",
    "print([1,2,3] or [3,4,5])\n",
    "print([1,2,3] or [2,3,4])\n",
    "print([1,2,3] or [4,5,6])"
   ]
  },
  {
   "cell_type": "code",
   "execution_count": null,
   "metadata": {
    "collapsed": true
   },
   "outputs": [],
   "source": []
  }
 ],
 "metadata": {
  "kernelspec": {
   "display_name": "virtual py36",
   "language": "python",
   "name": "py36"
  },
  "language_info": {
   "codemirror_mode": {
    "name": "ipython",
    "version": 3
   },
   "file_extension": ".py",
   "mimetype": "text/x-python",
   "name": "python",
   "nbconvert_exporter": "python",
   "pygments_lexer": "ipython3",
   "version": "3.6.1"
  }
 },
 "nbformat": 4,
 "nbformat_minor": 2
}
