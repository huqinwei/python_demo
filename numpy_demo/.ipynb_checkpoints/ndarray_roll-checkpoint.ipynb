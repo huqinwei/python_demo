{
 "cells": [
  {
   "cell_type": "markdown",
   "metadata": {},
   "source": [
    "# roll是卷动，也就是进位左移右移"
   ]
  },
  {
   "cell_type": "code",
   "execution_count": 2,
   "metadata": {
    "collapsed": true
   },
   "outputs": [],
   "source": [
    "\n",
    "import numpy as np"
   ]
  },
  {
   "cell_type": "code",
   "execution_count": 7,
   "metadata": {},
   "outputs": [
    {
     "name": "stdout",
     "output_type": "stream",
     "text": [
      "[ 0  1  2  3  4  5  6  7  8  9 10 11]\n",
      "x:\n",
      " [[ 0  1  2  3]\n",
      " [ 4  5  6  7]\n",
      " [ 8  9 10 11]]\n"
     ]
    }
   ],
   "source": [
    "x = np.arange(12)\n",
    "print(x)\n",
    "x = np.reshape(x,(3,4))\n",
    "print('x:\\n',x)"
   ]
  },
  {
   "cell_type": "code",
   "execution_count": 9,
   "metadata": {},
   "outputs": [
    {
     "name": "stdout",
     "output_type": "stream",
     "text": [
      "np.roll(x,1):\n",
      " [[11  0  1  2]\n",
      " [ 3  4  5  6]\n",
      " [ 7  8  9 10]]\n"
     ]
    }
   ],
   "source": [
    "#第二个参数是移动的位数\n",
    "#默认的不是按轴移动，是按元素flatten！！！！！！！！！！！！！！！\n",
    "x3 = np.roll(x,1)\n",
    "print(\"np.roll(x,1):\\n\",x3)"
   ]
  },
  {
   "cell_type": "code",
   "execution_count": 12,
   "metadata": {},
   "outputs": [
    {
     "name": "stdout",
     "output_type": "stream",
     "text": [
      "np.roll(x,1,axis=0)\n",
      "[[ 8  9 10 11]\n",
      " [ 0  1  2  3]\n",
      " [ 4  5  6  7]]\n",
      "np.roll(x2,1,0)\n",
      "[[ 8  9 10 11]\n",
      " [ 0  1  2  3]\n",
      " [ 4  5  6  7]]\n"
     ]
    }
   ],
   "source": [
    "#第三个参数是操作的轴\n",
    "#axis=0是外层的卷动，是换行\n",
    "x4 = np.roll(x,1,axis=0)\n",
    "print(\"np.roll(x,1,axis=0)\")\n",
    "print(x4)\n",
    "#不写axis=，第三个参数也是axis\n",
    "x42 = np.roll(x,1,0)\n",
    "print(\"np.roll(x2,1,0)\")\n",
    "print(x42)"
   ]
  },
  {
   "cell_type": "code",
   "execution_count": 13,
   "metadata": {},
   "outputs": [
    {
     "name": "stdout",
     "output_type": "stream",
     "text": [
      "np.roll(x,1,axis=1)\n",
      "[[ 3  0  1  2]\n",
      " [ 7  4  5  6]\n",
      " [11  8  9 10]]\n"
     ]
    }
   ],
   "source": [
    "#axis=1是内部的卷动，是换列\n",
    "x5 = np.roll(x,1,axis=1)\n",
    "print(\"np.roll(x,1,axis=1)\")\n",
    "print(x5)"
   ]
  },
  {
   "cell_type": "code",
   "execution_count": 14,
   "metadata": {},
   "outputs": [
    {
     "name": "stdout",
     "output_type": "stream",
     "text": [
      "np.roll(x2,-1)\n",
      "[[ 1  2  3  4]\n",
      " [ 5  6  7  8]\n",
      " [ 9 10 11  0]]\n"
     ]
    }
   ],
   "source": [
    "#反向，flatten移动一个\n",
    "x6 = np.roll(x2,-1)\n",
    "print(\"np.roll(x2,-1)\")\n",
    "print(x6)"
   ]
  },
  {
   "cell_type": "code",
   "execution_count": 15,
   "metadata": {},
   "outputs": [
    {
     "name": "stdout",
     "output_type": "stream",
     "text": [
      "np.roll(x,(1,1),axis=(0,1))\n",
      "[[11  8  9 10]\n",
      " [ 3  0  1  2]\n",
      " [ 7  4  5  6]]\n"
     ]
    }
   ],
   "source": [
    "#两个轴分别控制\n",
    "x7 = np.roll(x,(1,1),axis=(0,1))\n",
    "print(\"np.roll(x,(1,1),axis=(0,1))\")\n",
    "print(x7)"
   ]
  },
  {
   "cell_type": "code",
   "execution_count": 16,
   "metadata": {},
   "outputs": [
    {
     "name": "stdout",
     "output_type": "stream",
     "text": [
      "np.roll(x,(1,1),axis=(1,0))\n",
      "[[11  8  9 10]\n",
      " [ 3  0  1  2]\n",
      " [ 7  4  5  6]]\n",
      "np.roll(x,(1,1),axis(0,0))\n",
      "[[ 4  5  6  7]\n",
      " [ 8  9 10 11]\n",
      " [ 0  1  2  3]]\n",
      "np.roll(x,(1,1),axis=(1,1))\n",
      "[[ 2  3  0  1]\n",
      " [ 6  7  4  5]\n",
      " [10 11  8  9]]\n"
     ]
    }
   ],
   "source": [
    "#略\n",
    "x72 = np.roll(x,(1,1),axis=(1,0))\n",
    "print(\"np.roll(x,(1,1),axis=(1,0))\")\n",
    "print(x72)\n",
    "x8 = np.roll(x,(1,1),axis=(0,0))\n",
    "print(\"np.roll(x,(1,1),axis(0,0))\")\n",
    "print(x8)\n",
    "x9 = np.roll(x,(1,1),axis=(1,1))\n",
    "print(\"np.roll(x,(1,1),axis=(1,1))\")\n",
    "print(x9)\n"
   ]
  },
  {
   "cell_type": "code",
   "execution_count": null,
   "metadata": {
    "collapsed": true
   },
   "outputs": [],
   "source": []
  }
 ],
 "metadata": {
  "kernelspec": {
   "display_name": "virtual py36",
   "language": "python",
   "name": "py36"
  },
  "language_info": {
   "codemirror_mode": {
    "name": "ipython",
    "version": 3
   },
   "file_extension": ".py",
   "mimetype": "text/x-python",
   "name": "python",
   "nbconvert_exporter": "python",
   "pygments_lexer": "ipython3",
   "version": "3.6.1"
  }
 },
 "nbformat": 4,
 "nbformat_minor": 2
}
