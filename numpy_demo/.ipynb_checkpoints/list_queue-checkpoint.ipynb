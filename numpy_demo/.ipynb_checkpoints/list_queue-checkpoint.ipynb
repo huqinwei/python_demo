{
 "cells": [
  {
   "cell_type": "markdown",
   "metadata": {},
   "source": [
    "# python3数据结构"
   ]
  },
  {
   "cell_type": "markdown",
   "metadata": {},
   "source": [
    "## list"
   ]
  },
  {
   "cell_type": "markdown",
   "metadata": {},
   "source": [
    "错误的使用方法：l1 = list(1,2,3)\n",
    "前者是多参，其实初始化是一个参数，传入tuple，作为初始化数值。"
   ]
  },
  {
   "cell_type": "code",
   "execution_count": 13,
   "metadata": {},
   "outputs": [
    {
     "name": "stdout",
     "output_type": "stream",
     "text": [
      "[1, 2, 3, 4]\n"
     ]
    }
   ],
   "source": [
    "l1 = list((1,2,3))\n",
    "l1.append(4)\n",
    "print(l1)"
   ]
  },
  {
   "cell_type": "markdown",
   "metadata": {},
   "source": [
    "奇怪的设定，下标5越界，但是第一种方法就可以，第二种就不行！！！！！"
   ]
  },
  {
   "cell_type": "code",
   "execution_count": 16,
   "metadata": {},
   "outputs": [
    {
     "name": "stdout",
     "output_type": "stream",
     "text": [
      "[1, 2, 3, 4, 5, 5]\n",
      "len is : 6\n",
      "[1, 2, 3, 4, 5, 5, 5]\n"
     ]
    }
   ],
   "source": [
    "print(l1)\n",
    "print('len is :',len(l1))\n",
    "l1[len(l1):] = [5]\n",
    "print(l1)\n",
    "#l1[len(l1)] = [6]#IndexError: list assignment index out of range\n",
    "#print(l1)"
   ]
  },
  {
   "cell_type": "markdown",
   "metadata": {},
   "source": [
    "用下标插入，插入到制定下标，其他后延。"
   ]
  },
  {
   "cell_type": "code",
   "execution_count": 19,
   "metadata": {},
   "outputs": [
    {
     "name": "stdout",
     "output_type": "stream",
     "text": [
      "[11, 11, 1, 1, 2, 3, 4, 5, 5, 5]\n"
     ]
    }
   ],
   "source": [
    "l1.insert(0,11)\n",
    "print(l1)"
   ]
  },
  {
   "cell_type": "markdown",
   "metadata": {},
   "source": [
    "插入新下标，下标出旧界也可以，刚好就是新增的那个下标。"
   ]
  },
  {
   "cell_type": "code",
   "execution_count": 23,
   "metadata": {},
   "outputs": [
    {
     "name": "stdout",
     "output_type": "stream",
     "text": [
      "len is : 14\n",
      "[11, 11, 1, 1, 2, 3, 4, 5, 5, 5, 6, 6, 100, 6, 6]\n",
      "[11, 11, 1, 1, 2, 3, 4, 5, 5, 5, 6, 6, 100, 6, 100, 6]\n"
     ]
    }
   ],
   "source": [
    "print('len is :',len(l1))\n",
    "l1.insert(len(l1),6)\n",
    "print(l1)\n",
    "l1.insert(len(l1) - 1, 100)\n",
    "print(l1)"
   ]
  },
  {
   "cell_type": "markdown",
   "metadata": {},
   "source": [
    "范围删除，全删也存在空列表，但是对象删除，就不存在了"
   ]
  },
  {
   "cell_type": "code",
   "execution_count": 26,
   "metadata": {},
   "outputs": [
    {
     "name": "stdout",
     "output_type": "stream",
     "text": [
      "[1, 2]\n",
      "[]\n"
     ]
    }
   ],
   "source": [
    "l1 = [1,2,3]\n",
    "del l1[2:]\n",
    "print(l1)\n",
    "del l1[:]\n",
    "print(l1)\n",
    "del l1\n",
    "#print(l1)#error:not define"
   ]
  },
  {
   "cell_type": "markdown",
   "metadata": {},
   "source": [
    "混合类型数据，混合类型计数器"
   ]
  },
  {
   "cell_type": "code",
   "execution_count": 28,
   "metadata": {},
   "outputs": [
    {
     "name": "stdout",
     "output_type": "stream",
     "text": [
      "count element: 2 1 0\n",
      "count element: 2 1 1\n"
     ]
    }
   ],
   "source": [
    "a = [66.25, 333, 333, 1, 1234.5]\n",
    "print('count element:', a.count(333), a.count(66.25), a.count('x'))\n",
    "a.append('x')\n",
    "print('count element:', a.count(333), a.count(66.25), a.count('x'))"
   ]
  },
  {
   "cell_type": "markdown",
   "metadata": {},
   "source": [
    "index()容错不够好，不存在的不让用，直接报错。\n",
    "remove()容错也不好，不存在的也报错。"
   ]
  },
  {
   "cell_type": "code",
   "execution_count": 34,
   "metadata": {},
   "outputs": [
    {
     "name": "stdout",
     "output_type": "stream",
     "text": [
      "[66.25, 333, -1, 333, 1, 1234.5, 333]\n",
      "1\n",
      "2\n",
      "return is : None\n",
      "[333, -1, 333, 1, 1234.5, 333]\n"
     ]
    }
   ],
   "source": [
    "a = [66.25, 333,333,1,1234.5]\n",
    "a.insert(2,-1)\n",
    "a.append(333)\n",
    "print(a)\n",
    "print(a.index(333))\n",
    "print(a.index(-1))\n",
    "#print(a.index(2540))#ValueError\n",
    "print('return is :', a.remove(66.25))\n",
    "print(a)\n",
    "#print(a.remove(66.25))#valueError"
   ]
  },
  {
   "cell_type": "code",
   "execution_count": 32,
   "metadata": {},
   "outputs": [
    {
     "name": "stdout",
     "output_type": "stream",
     "text": [
      "reverse() return: None\n",
      "[1234.5, 1, 333, 333, 66.25]\n",
      "sort() return: None\n",
      "[1, 66.25, 333, 333, 1234.5]\n"
     ]
    }
   ],
   "source": [
    "a = [66.25, 333,333,1,1234.5]\n",
    "print('reverse() return:',a.reverse())\n",
    "print(a)\n",
    "print('sort() return:',a.sort())\n",
    "print(a)"
   ]
  },
  {
   "cell_type": "markdown",
   "metadata": {},
   "source": [
    "list当作栈：基本操作了，leetcode用法更多\n",
    "pop同样不容错，空list不能pop，会报错。"
   ]
  },
  {
   "cell_type": "code",
   "execution_count": 44,
   "metadata": {},
   "outputs": [
    {
     "name": "stdout",
     "output_type": "stream",
     "text": [
      "stack: [3, 4, 5, 6, 7]\n",
      "stack pop returns: 7\n",
      "stack: [3, 4, 5, 6]\n",
      "stack pop returns: 6\n",
      "stack: [3, 4, 5]\n",
      "stack pop returns: 5\n",
      "stack: [3, 4]\n",
      "stack pop returns: 4\n",
      "stack: [3]\n",
      "stack pop returns: 3\n",
      "stack: []\n"
     ]
    }
   ],
   "source": [
    "stack = [3,4,5]\n",
    "stack.append(6)\n",
    "stack.append(7)\n",
    "print('stack:',stack)\n",
    "print('stack pop returns:',stack.pop())\n",
    "print('stack:',stack)\n",
    "print('stack pop returns:',stack.pop())\n",
    "print('stack:',stack)\n",
    "print('stack pop returns:',stack.pop())\n",
    "print('stack:',stack)\n",
    "print('stack pop returns:',stack.pop())\n",
    "print('stack:',stack)\n",
    "print('stack pop returns:',stack.pop())\n",
    "print('stack:',stack)\n",
    "# print('stack pop returns:',stack.pop())#IndexError: pop from empty list\n",
    "# print('stack:',stack)\n",
    "# print('stack pop returns:',stack.pop())\n",
    "# print('stack:',stack)"
   ]
  },
  {
   "cell_type": "markdown",
   "metadata": {},
   "source": [
    "## 将列表当作队列使用"
   ]
  },
  {
   "cell_type": "code",
   "execution_count": null,
   "metadata": {
    "collapsed": true
   },
   "outputs": [],
   "source": []
  },
  {
   "cell_type": "code",
   "execution_count": null,
   "metadata": {
    "collapsed": true
   },
   "outputs": [],
   "source": [
    "\n",
    "\n",
    "\n",
    "from collections import deque\n",
    "queue = deque(['Eric','John','Michael','Jackson'])\n",
    "queue.append('Terry')\n",
    "queue.append('Clark')\n",
    "print(queue)\n",
    "print('pop:',queue.popleft())\n",
    "print(queue)\n",
    "print('pop:',queue.popleft())\n",
    "print(queue)\n",
    "\n",
    "\n",
    "\n",
    "\n",
    "# 列表推导式\n",
    "# 列表推导式提供了从序列创建列表的简单途径。通常应用程序将一些操作应用于某个序列的每个元素，用其获得的结果作为生成新列表的元素，或者根据确定的判定条件创建子序列。\n",
    "#\n",
    "# 每个列表推导式都在 for 之后跟一个表达式，然后有零到多个 for 或 if 子句。返回结果是一个根据表达从其后的 for 和 if 上下文环境中生成出来的列表。如果希望表达式推导出一个元组，就必须使用括号。\n",
    "#\n",
    "# 这里我们将列表中每个数值乘三，获得一个新的列表：\n",
    "\n",
    "vec = [2,4,6]\n",
    "print([3*x for x in vec])\n",
    "print([3*x for x in vec if x > 3])\n",
    "print([3*x for x in vec if x < 2])\n",
    "print([[x,x**2]for x in vec])\n",
    "\n",
    "\n",
    "\n",
    "freshfruit = ['            banana', '           apple         ', 'pear          ']\n",
    "print([weapon.strip() for weapon in freshfruit])\n",
    "\n",
    "\n",
    "vec1 = [2,4,6]\n",
    "vec2 = [4,3,-9]\n",
    "print([x*y for x in vec1 for y in vec2])#这其实是双层循环，不是并列循环，x取一个值，y遍历一遍\n",
    "print([x+y for x in vec1 for y in vec2])\n",
    "print([vec1[i] * vec2[i] for i in range(len(vec1))])#这个倒是同步遍历了，其实也不安全，前提是等长。\n",
    "print([str(round(355/113, i)) for i in range(1,6)])\n",
    "\n",
    "\n",
    "\n",
    "\n",
    "#嵌套列表解析\n",
    "matrix = [\n",
    "    [1,2,3,4],\n",
    "    [5,6,7,8],\n",
    "    [9,10,11,12],\n",
    "]\n",
    "print(matrix)\n",
    "# matrix.reshape(4,3)#AttributeError: 'list' object has no attribute 'reshape'\n",
    "# print('reshape:',matrix)\n",
    "\n",
    "matrix2 = [[row[i] for row in matrix] for i in range(4)]\n",
    "print(matrix2)\n",
    "#外层循环是i，所以一个固定的i，对应所有的row，攒起来，就是每列第一个，组合成了第一行，每列第二个，组成了第二行。\n",
    "for row in matrix:\n",
    "    print(row)\n",
    "\n",
    "#土法子，先定义好，然后修改值\n",
    "matrix3 = [[0,0,0],[0,0,0],[0,0,0],[0,0,0],]\n",
    "for i in range(len(matrix[0])):\n",
    "    j = 0\n",
    "    for row in matrix:\n",
    "        print(row[i])\n",
    "        matrix3[i][j] = row[i]\n",
    "        j += 1\n",
    "print(matrix3)\n",
    "\n",
    "#这是一次组合好一个[]，然后append进去\n",
    "transposed = []\n",
    "for i in range(4):\n",
    "    transposed.append([row[i] for row in matrix])\n",
    "print(transposed)\n",
    "\n",
    "#这种更直观\n",
    "transposed = []\n",
    "for i in range(4):\n",
    "    transposed_row = []\n",
    "    for row in matrix:\n",
    "        transposed_row.append(row[i])\n",
    "    transposed.append(transposed_row)\n",
    "print(transposed)\n",
    "\n",
    "\n",
    "#del删元素的话，是用下标，而remove是用值\n",
    "a = [-1, 1, 66.25, 333, 333, 1234.5]\n",
    "print(a)\n",
    "del a[0]\n",
    "print(a)\n",
    "del a[-2:-1]\n",
    "print(a)\n",
    "del a[:]\n",
    "print(a)\n",
    "del a\n",
    "# print(a)#这个报错好像是这样的，他后边有东西要执行，尤其有打印print('hello')要执行，就报错，如果什么都没有，就不报错了\n",
    "b = 4#一个定义b的语句隔开，再来个打印就不报错了，神奇\n",
    "print('hello')\n",
    "\n",
    "t = 12345,54321,'helloheloo'\n",
    "print(t)\n",
    "print(t[0])\n",
    "u = t,(1,2,3,4,5)#nested\n",
    "print(u)\n",
    "\n",
    "\n",
    "\n",
    "# 集合\n",
    "# 集合是一个无序不重复元素的集。基本功能包括关系测试和消除重复元素。\n",
    "#\n",
    "# 可以用大括号({})创建集合。注意：如果要创建一个空集合，你必须用 set() 而不是 {} ；后者创建一个空的字典，下一节我们会介绍这个数据结构。\n",
    "#警告，大括号两种用途，默认给了字典！！!!!!!!!!!!!\n",
    "\n",
    "\n",
    "dict1 = {}\n",
    "print(type(dict1))\n",
    "\n",
    "basket = {'apple', 'orange', 'apple', 'pear', 'orange', 'banana'}\n",
    "print(type(basket))\n",
    "print(basket)\n",
    "print('orange' in basket)\n",
    "print('lalsjalksdja' in basket)\n",
    "\n",
    "a = set('abracadabra')\n",
    "b = set('alacazam')\n",
    "print(a)\n",
    "print(b)\n",
    "print(a-b)\n",
    "print(b-a)\n",
    "print(a|b)\n",
    "print(a&b)\n",
    "print(a^b)\n",
    "\n",
    "a = {x for x in 'abracadabra' if x not in 'abc'}\n",
    "print(a)\n",
    "\n",
    "\n",
    "\n",
    "\n",
    "#dictionary\n",
    "tel = {'jack':4008003333, 'sparow':'8008208820'}\n",
    "print(tel)\n",
    "# print(tel[0])#key error\n",
    "print(tel['jack'])\n",
    "tel['chowyunfat'] = 1300000\n",
    "print(tel)\n",
    "l1 = list(tel.keys())\n",
    "print(l1)\n",
    "print(sorted(l1))\n",
    "l2 = list(tel.values())\n",
    "print(l2)\n",
    "\n",
    "print('jack' in tel)\n",
    "print(tel['jack'] != None)\n",
    "# print(tel['jackaaa'])#KeyError: 'jackaaa'\n",
    "print(tel.get('jack'))\n",
    "print(tel.get('jackaaa'))\n",
    "print(tel.get('jackaaa')!=None)#这是另一种查看in的方式\n",
    "\n",
    "\n",
    "#这个用[]还是()好像无所谓，可能是list和tuple都只是载体，他内部拆解了，要求可迭代，至少长2\n",
    "d1 = dict([('a',444),('aasd',5324),('ny',343)])\n",
    "d2 = dict((('a',444),('aasd',5324),('ny',343)))\n",
    "# d3 = dict(('a',444),('aasd',5324),('ny',343))#expected at most 1 arguments,got 3\n",
    "# d3 = dict(('a',444))#ValueError: dictionary update sequence element #0 has length 1; 2 is required\n",
    "print('d1:',d1)\n",
    "print('d2:',d2)\n",
    "# print('d3:',d3)\n",
    "\n",
    "d4 = {x:x**2 for x in range(4)}\n",
    "d5 = {x:x**2 for x in (4,2,11)}\n",
    "print(d4)\n",
    "print('d5:',d5)\n",
    "\n",
    "\n",
    "\n",
    "\n",
    "\n",
    "# 遍历技巧\n",
    "\n",
    "# 在字典中遍历时，关键字和对应的值可以使用 items() 方法同时解读出来：\n",
    "knights = {'gallahad':'the pure', 'robin':'the brave'}\n",
    "for k,v in knights.items():\n",
    "    print(k,v)\n",
    "for k in knights:\n",
    "    print(k)\n",
    "for v in knights.values():\n",
    "    print(v)\n",
    "\n",
    "for i,v in enumerate(['tic','tac','toe']):\n",
    "    print(i,v)\n",
    "#用zip打包多个容器可以同时遍历,不限于2个,1个，3个，都支持\n",
    "questions = ['name','quest','favorite color']\n",
    "answers = ['lancelot','the holy grail', 'blue']\n",
    "tips = ['tip1','tip2','tip3']\n",
    "for q,in zip(questions):\n",
    "    print('what is your {0}? '.format(q))\n",
    "for q,a,t in zip(questions,answers,tips):\n",
    "    print('what is your {0}? It is {1}.the tips is {2}'.format(q,a,t))\n",
    "\n",
    "for i in range(1,10,2):\n",
    "    print(i)\n",
    "for i in reversed(range(1,10,2)):\n",
    "    print(i)\n",
    "print(range(1,10,2))\n",
    "print(reversed(range(1,10,2)))\n",
    "\n",
    "#sorted是一个技巧，不同于sort，sort直接改了原值，sorted是返回右值\n",
    "basket = ['apple','orange','apple','pear','orange','banana']\n",
    "print(basket)\n",
    "for f in (set(basket)):\n",
    "    print(f)\n",
    "for f in sorted(set(basket)):\n",
    "    print('sorted:',f)\n",
    "basket_set = set(basket)\n",
    "\n",
    "print('before sorted:',basket_set)\n",
    "for f in sorted(basket_set):\n",
    "    print('sorted:',f)\n",
    "print('after sorted:',basket_set)\n",
    "\n",
    "\n",
    "\n",
    "\n",
    "#悲剧的set不可以指定元素del，甚至都不能指定元素访问，只能查询啊？\n",
    "a = set('abracadabra')\n",
    "print('set a is:',a)\n",
    "# print(a[0])\n",
    "# del a[0]\n",
    "print(a.remove('r'))# remove()\t移除指定元素\n",
    "print(a)\n",
    "print(a.pop())# pop()\t随机移除元素\n",
    "print(a)\n",
    "a.add('i')# add()\t为集合添加元素\n",
    "print(a)\n",
    "\n",
    "\n",
    "# 集合内置方法完整列表\n",
    "# clear()\t移除集合中的所有元素\n",
    "# copy()\t拷贝一个集合\n",
    "# difference()\t返回多个集合的差集\n",
    "# difference_update()\t移除集合中的元素，该元素在指定的集合也存在。\n",
    "# discard()\t删除集合中指定的元素\n",
    "# intersection()\t返回集合的交集\n",
    "# intersection_update()\t删除集合中的元素，该元素在指定的集合中不存在。\n",
    "# isdisjoint()\t判断两个集合是否包含相同的元素，如果没有返回 True，否则返回 False。\n",
    "# issubset()\t判断指定集合是否为该方法参数集合的子集。\n",
    "# issuperset()\t判断该方法的参数集合是否为指定集合的子集\n",
    "# symmetric_difference()\t返回两个集合中不重复的元素集合。\n",
    "# symmetric_difference_update()\t移除当前集合中在另外一个指定集合相同的元素，并将另外一个指定集合中不同的元素插入到当前集合中。\n",
    "# union()\t返回两个集合的并集\n",
    "# update()\t给集合添加元素\n",
    "\n",
    "\n",
    "#dict是可以直接删的，可能和访问机制有关系，list和dict都有下标访问，set没有，不支持del\n",
    "tel = {'jack':4008003333, 'sparow':'8008208820'}\n",
    "print(tel)\n",
    "print(tel['jack'])\n",
    "del tel['jack']\n",
    "print(tel)\n",
    "\n",
    "\n",
    "\n",
    "\n",
    "\n",
    "\n"
   ]
  }
 ],
 "metadata": {
  "kernelspec": {
   "display_name": "virtual py36",
   "language": "python",
   "name": "py36"
  },
  "language_info": {
   "codemirror_mode": {
    "name": "ipython",
    "version": 3
   },
   "file_extension": ".py",
   "mimetype": "text/x-python",
   "name": "python",
   "nbconvert_exporter": "python",
   "pygments_lexer": "ipython3",
   "version": "3.6.1"
  }
 },
 "nbformat": 4,
 "nbformat_minor": 2
}
