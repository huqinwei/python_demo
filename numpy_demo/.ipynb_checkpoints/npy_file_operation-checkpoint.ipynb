{
 "cells": [
  {
   "cell_type": "markdown",
   "metadata": {},
   "source": [
    "# npy数据文件，也能存数据结构，还不想pickle那么麻烦需要转换"
   ]
  },
  {
   "cell_type": "code",
   "execution_count": 1,
   "metadata": {
    "collapsed": true
   },
   "outputs": [],
   "source": [
    "import numpy as np"
   ]
  },
  {
   "cell_type": "code",
   "execution_count": 2,
   "metadata": {
    "collapsed": true
   },
   "outputs": [],
   "source": [
    "np.save('temp/123',np.array([[1,2,3],[4,5,6]]))#default postfix .npy"
   ]
  },
  {
   "cell_type": "code",
   "execution_count": 7,
   "metadata": {},
   "outputs": [
    {
     "name": "stdout",
     "output_type": "stream",
     "text": [
      "[[1 2 3]\n",
      " [4 5 6]]\n"
     ]
    }
   ],
   "source": [
    "#a = np.load('temp/123')#error,default postfix is .npy,then the file is 123.npy\n",
    "a = np.load('temp/123.npy')\n",
    "print(a)"
   ]
  },
  {
   "cell_type": "markdown",
   "metadata": {},
   "source": [
    "## 字典形式npz？"
   ]
  },
  {
   "cell_type": "code",
   "execution_count": 8,
   "metadata": {
    "collapsed": true
   },
   "outputs": [],
   "source": [
    "a = np.array([[1,2,3],[4,5,6]])\n",
    "b = np.array([1,2])\n",
    "np.savez('temp2/123',a=a,b=b)#字典形式？"
   ]
  },
  {
   "cell_type": "markdown",
   "metadata": {},
   "source": [
    "这个close和del还是有些区别的。"
   ]
  },
  {
   "cell_type": "code",
   "execution_count": 15,
   "metadata": {},
   "outputs": [
    {
     "name": "stdout",
     "output_type": "stream",
     "text": [
      "<numpy.lib.npyio.NpzFile object at 0x7fb95895c438>\n",
      "[[1 2 3]\n",
      " [4 5 6]]\n",
      "[1 2]\n",
      "<numpy.lib.npyio.NpzFile object at 0x7fb95895c438>\n"
     ]
    }
   ],
   "source": [
    "#data = np.load('temp2/123')#savez's default postfix is npz\n",
    "data = np.load('temp2/123.npz')\n",
    "print(data)\n",
    "print(data['a'])\n",
    "print(data['b'])\n",
    "data.close()\n",
    "print(data)\n",
    "#print(data['a'])#AttributeError: 'NoneType' object has no attribute 'open'"
   ]
  },
  {
   "cell_type": "code",
   "execution_count": null,
   "metadata": {
    "collapsed": true
   },
   "outputs": [],
   "source": [
    "x = np.load('temp/123.npy',mmap_mode='r')\n",
    "print(x[0,:])"
   ]
  },
  {
   "cell_type": "code",
   "execution_count": 20,
   "metadata": {},
   "outputs": [
    {
     "name": "stdout",
     "output_type": "stream",
     "text": [
      "<numpy.lib.npyio.NpzFile object at 0x7fb95897c128>\n"
     ]
    }
   ],
   "source": [
    "y = np.load('temp2/123.npz',mmap_mode='r')\n",
    "#print(y[0,:])#TypeError: not all arguments converted during string formatting\n",
    "print(y)\n"
   ]
  },
  {
   "cell_type": "markdown",
   "metadata": {},
   "source": [
    "    mmap_mode : {None, 'r+', 'r', 'w+', 'c'}, optional\n",
    "        If not None, then memory-map the file, using the given mode (see\n",
    "        `numpy.memmap` for a detailed description of the modes).  A\n",
    "        memory-mapped array is kept on disk. However, it can be accessed\n",
    "        and sliced like any ndarray.  Memory mapping is especially useful\n",
    "        for accessing small fragments of large files without reading the\n",
    "        entire file into memory.\n",
    "如果不是“无”，则使用给定模式对文件进行内存映射（有关模式的详细描述，请参见“numpy.memmap”）。\n",
    "内存映射数组保存在磁盘上。但是，它可以像任何ndarray一样被访问和切片。内存映射对于在不将整个文件读取到内存的情况下访问大文件的小片段特别有用。"
   ]
  },
  {
   "cell_type": "code",
   "execution_count": null,
   "metadata": {
    "collapsed": true
   },
   "outputs": [],
   "source": []
  }
 ],
 "metadata": {
  "kernelspec": {
   "display_name": "virtual py36",
   "language": "python",
   "name": "py36"
  },
  "language_info": {
   "codemirror_mode": {
    "name": "ipython",
    "version": 3
   },
   "file_extension": ".py",
   "mimetype": "text/x-python",
   "name": "python",
   "nbconvert_exporter": "python",
   "pygments_lexer": "ipython3",
   "version": "3.6.1"
  }
 },
 "nbformat": 4,
 "nbformat_minor": 2
}
