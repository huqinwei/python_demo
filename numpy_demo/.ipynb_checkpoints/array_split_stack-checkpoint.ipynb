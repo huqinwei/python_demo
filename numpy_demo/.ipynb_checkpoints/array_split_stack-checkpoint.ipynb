{
 "cells": [
  {
   "cell_type": "markdown",
   "metadata": {},
   "source": []
  },
  {
   "cell_type": "code",
   "execution_count": 2,
   "metadata": {
    "collapsed": true
   },
   "outputs": [],
   "source": [
    "import numpy as np"
   ]
  },
  {
   "cell_type": "code",
   "execution_count": 3,
   "metadata": {},
   "outputs": [
    {
     "name": "stdout",
     "output_type": "stream",
     "text": [
      "A: [[ 0  1  2  3]\n",
      " [ 4  5  6  7]\n",
      " [ 8  9 10 11]]\n"
     ]
    }
   ],
   "source": [
    "A = np.arange(12).reshape(3,4)\n",
    "\n",
    "print(\"A:\",A)"
   ]
  },
  {
   "cell_type": "markdown",
   "metadata": {},
   "source": [
    "## 一共两轴，axis=1是在内部切割[0,1,2,3]被切成两份和三份，4个元素分三份这种自动切法应该是人所不愿意看到的，所以正常使用肯定不会有。当然，也可控，如下：\n",
    "\n",
    "多种接口：\n",
    "np.split不均衡的不让切，预防了不可预知的结果！！"
   ]
  },
  {
   "cell_type": "code",
   "execution_count": 23,
   "metadata": {},
   "outputs": [
    {
     "name": "stdout",
     "output_type": "stream",
     "text": [
      "array_split to 2:\n",
      " [array([[0, 1],\n",
      "       [4, 5],\n",
      "       [8, 9]]), array([[ 2,  3],\n",
      "       [ 6,  7],\n",
      "       [10, 11]])]\n",
      "array_split to 4:\n",
      " [array([[0],\n",
      "       [4],\n",
      "       [8]]), array([[1],\n",
      "       [5],\n",
      "       [9]]), array([[ 2],\n",
      "       [ 6],\n",
      "       [10]]), array([[ 3],\n",
      "       [ 7],\n",
      "       [11]])]\n"
     ]
    }
   ],
   "source": [
    "print('array_split to 2:\\n',np.split(A,2,axis = 1))#切成了2,2\n",
    "#ValueError: array split does not result in an equal division\n",
    "#print('array_split to 3:\\n',np.split(A,3,axis = 1))\n",
    "print('array_split to 4:\\n',np.split(A,4,axis = 1))"
   ]
  },
  {
   "cell_type": "markdown",
   "metadata": {},
   "source": [
    "### 可以指定切法，tuple指定的不是每部分的长度，是分割点下标"
   ]
  },
  {
   "cell_type": "code",
   "execution_count": 24,
   "metadata": {},
   "outputs": [
    {
     "name": "stdout",
     "output_type": "stream",
     "text": [
      "（1,2): [array([[0],\n",
      "       [4],\n",
      "       [8]]), array([[1],\n",
      "       [5],\n",
      "       [9]]), array([[ 2,  3],\n",
      "       [ 6,  7],\n",
      "       [10, 11]])]\n",
      "（1,3): [array([[0],\n",
      "       [4],\n",
      "       [8]]), array([[ 1,  2],\n",
      "       [ 5,  6],\n",
      "       [ 9, 10]]), array([[ 3],\n",
      "       [ 7],\n",
      "       [11]])]\n"
     ]
    }
   ],
   "source": [
    "print('（1,2):',np.split(A,(1,2),axis = 1))#其实切成了1,1,2\n",
    "# new_arrays = np.split(A,(1,2),axis=1)\n",
    "# print(new_arrays[0])\n",
    "# print(new_arrays[1])\n",
    "# print(new_arrays[2])\n",
    "#print(new_arrays[3])#out of range\n",
    "print('（1,3):',np.split(A,(1,3),axis = 1))"
   ]
  },
  {
   "cell_type": "markdown",
   "metadata": {},
   "source": [
    "### 那么如果切割点有重复或者递减，就出现空集，可以理解为从剩下的里边切割，但是下标要延续，那么自然就切到空集了。\n",
    "只不过打印显示有点奇特，还要显示shape之类的！！！！！！！！！！！"
   ]
  },
  {
   "cell_type": "code",
   "execution_count": 28,
   "metadata": {},
   "outputs": [
    {
     "name": "stdout",
     "output_type": "stream",
     "text": [
      "split to 1,2,1:\n",
      " [array([[0],\n",
      "       [4],\n",
      "       [8]]), array([[1],\n",
      "       [5],\n",
      "       [9]]), array([], shape=(3, 0), dtype=int64), array([[ 1,  2,  3],\n",
      "       [ 5,  6,  7],\n",
      "       [ 9, 10, 11]])]\n",
      "new_arrays[0]: [[0]\n",
      " [4]\n",
      " [8]]\n",
      "[[1]\n",
      " [5]\n",
      " [9]]\n",
      "new_arrays[2]: []\n"
     ]
    }
   ],
   "source": [
    "print('split to 1,2,1:\\n',np.split(A,(1,2,1),axis = 1))#打印显示有点奇特\n",
    "new_arrays = np.split(A,(1,2,1),axis=1)\n",
    "print('new_arrays[0]:',new_arrays[0])\n",
    "print(new_arrays[1])\n",
    "print('new_arrays[2]:',new_arrays[2])\n",
    "#print(new_arrays[3])#out of range"
   ]
  },
  {
   "cell_type": "markdown",
   "metadata": {},
   "source": [
    "## array_split 支持自动切不均等，不过感觉也不好。也支持用tuple指定，和前者效果一样。"
   ]
  },
  {
   "cell_type": "code",
   "execution_count": 31,
   "metadata": {},
   "outputs": [
    {
     "name": "stdout",
     "output_type": "stream",
     "text": [
      "array_split to 3:\n",
      " [array([[0, 1],\n",
      "       [4, 5],\n",
      "       [8, 9]]), array([[ 2],\n",
      "       [ 6],\n",
      "       [10]]), array([[ 3],\n",
      "       [ 7],\n",
      "       [11]])]\n",
      "array_split to 3:\n",
      " [array([[0],\n",
      "       [4],\n",
      "       [8]]), array([[ 1,  2],\n",
      "       [ 5,  6],\n",
      "       [ 9, 10]]), array([[ 3],\n",
      "       [ 7],\n",
      "       [11]])]\n"
     ]
    }
   ],
   "source": [
    "print('array_split to 3:\\n',np.array_split(A,3,axis=1))\n",
    "print('array_split to 3:\\n',np.array_split(A,(1,3),axis=1))"
   ]
  },
  {
   "cell_type": "code",
   "execution_count": null,
   "metadata": {
    "collapsed": true
   },
   "outputs": [],
   "source": [
    "直接指定vertical和horizontal：horizontal对应显示的水平方向。也就是axis=1，在内部切割。"
   ]
  },
  {
   "cell_type": "code",
   "execution_count": 33,
   "metadata": {},
   "outputs": [
    {
     "name": "stdout",
     "output_type": "stream",
     "text": [
      "[array([[0, 1, 2, 3]]), array([[4, 5, 6, 7]]), array([[ 8,  9, 10, 11]])]\n",
      "[array([[0, 1],\n",
      "       [4, 5],\n",
      "       [8, 9]]), array([[ 2,  3],\n",
      "       [ 6,  7],\n",
      "       [10, 11]])]\n"
     ]
    }
   ],
   "source": [
    "print(np.vsplit(A,3))\n",
    "print(np.hsplit(A,2))"
   ]
  },
  {
   "cell_type": "code",
   "execution_count": 35,
   "metadata": {},
   "outputs": [
    {
     "name": "stdout",
     "output_type": "stream",
     "text": [
      "[array([[0, 1, 2],\n",
      "       [3, 4, 5]]), array([[ 6,  7,  8],\n",
      "       [ 9, 10, 11]])]\n"
     ]
    }
   ],
   "source": [
    "B = np.arange(12).reshape(4,3)\n",
    "print(np.split(B,2,axis = 0))#从行的角度分"
   ]
  },
  {
   "cell_type": "code",
   "execution_count": null,
   "metadata": {
    "collapsed": true
   },
   "outputs": [],
   "source": []
  }
 ],
 "metadata": {
  "kernelspec": {
   "display_name": "virtual py36",
   "language": "python",
   "name": "py36"
  },
  "language_info": {
   "codemirror_mode": {
    "name": "ipython",
    "version": 3
   },
   "file_extension": ".py",
   "mimetype": "text/x-python",
   "name": "python",
   "nbconvert_exporter": "python",
   "pygments_lexer": "ipython3",
   "version": "3.6.1"
  }
 },
 "nbformat": 4,
 "nbformat_minor": 2
}
