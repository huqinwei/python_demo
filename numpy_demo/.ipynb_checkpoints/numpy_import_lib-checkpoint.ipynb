{
 "cells": [
  {
   "cell_type": "code",
   "execution_count": 2,
   "metadata": {},
   "outputs": [
    {
     "name": "stdout",
     "output_type": "stream",
     "text": [
      "numpy is a <class 'module'>\n",
      "<module 'numpy' from '/home/qw/anaconda3/envs/py36/lib/python3.6/site-packages/numpy/__init__.py'>\n",
      "it contains names such as.. ['warnings', 'where', 'who', 'zeros', 'zeros_like']\n",
      "numpy.random is a <class 'module'>\n",
      "it contains names such as.. ['vonmises', 'wald', 'warnings', 'weibull', 'zipf']\n",
      "<class 'type'>\n",
      "array: [5 3 2 3 2 5 1 3 5]\n",
      "array: [0 5 2 3 5 2 1 4 1]\n"
     ]
    }
   ],
   "source": [
    "import numpy\n",
    "print(\"numpy is a\", type(numpy))\n",
    "print(numpy)\n",
    "# print(\"it contains names such as..\",dir(numpy)[:])\n",
    "print(\"it contains names such as..\",dir(numpy)[-5:])\n",
    "# print(\"it contains names such as..\",dir(numpy)[-15:])\n",
    "print(\"numpy.random is a\", type(numpy.random))\n",
    "print(\"it contains names such as..\",dir(numpy.random)[-5:])\n",
    "# print(\"it contains names such as..\",dir(numpy.random)[-15:])\n",
    "\n",
    "\n"
   ]
  },
  {
   "cell_type": "code",
   "execution_count": 3,
   "metadata": {},
   "outputs": [
    {
     "name": "stdout",
     "output_type": "stream",
     "text": [
      "<class 'type'>\n",
      "array: [5 2 4 5 3 1 4 4 3]\n",
      "array: [4 0 1 4 1 1 5 4 4]\n"
     ]
    }
   ],
   "source": [
    "\n",
    "print(type(numpy.ndarray))\n",
    "array = numpy.random.randint(low = 1,high = 6,size = 9)\n",
    "print(\"array:\",array)\n",
    "array = numpy.random.randint(low = 6,size = 9)\n",
    "print(\"array:\",array)"
   ]
  },
  {
   "cell_type": "code",
   "execution_count": null,
   "metadata": {
    "collapsed": true
   },
   "outputs": [],
   "source": []
  }
 ],
 "metadata": {
  "kernelspec": {
   "display_name": "virtual py36",
   "language": "python",
   "name": "py36"
  },
  "language_info": {
   "codemirror_mode": {
    "name": "ipython",
    "version": 3
   },
   "file_extension": ".py",
   "mimetype": "text/x-python",
   "name": "python",
   "nbconvert_exporter": "python",
   "pygments_lexer": "ipython3",
   "version": "3.6.1"
  }
 },
 "nbformat": 4,
 "nbformat_minor": 2
}
