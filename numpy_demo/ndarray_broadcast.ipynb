{
 "cells": [
  {
   "cell_type": "code",
   "execution_count": 1,
   "metadata": {
    "collapsed": true
   },
   "outputs": [],
   "source": [
    "import numpy as np"
   ]
  },
  {
   "cell_type": "markdown",
   "metadata": {},
   "source": [
    "b：给每个元素内部扩展了一维\n",
    "c：在外部扩展了一维\n",
    "维度从0到N分别是最外层的中括号和最内层的中括号"
   ]
  },
  {
   "cell_type": "code",
   "execution_count": 7,
   "metadata": {},
   "outputs": [
    {
     "name": "stdout",
     "output_type": "stream",
     "text": [
      "a: [ 0 10 20 30]\n",
      "b: [[ 0]\n",
      " [10]\n",
      " [20]\n",
      " [30]]\n",
      "c: [[ 0 10 20 30]]\n"
     ]
    }
   ],
   "source": [
    "a = np.arange(0,40,10)\n",
    "print('a:',a)\n",
    "b = np.arange(0,40,10)[:,np.newaxis]\n",
    "print('b:',b)\n",
    "c = np.arange(0,40,10)[np.newaxis,:]\n",
    "print('c:',c)"
   ]
  },
  {
   "cell_type": "markdown",
   "metadata": {},
   "source": [
    "## tile操作：想扩充维度，必须用tuple(3,1)，如果只用一个3,就是同维度下复制了三份，当然，如果你真用乘法a*3，因为是针对ndarray，这里是对里边的数字做广播乘法"
   ]
  },
  {
   "cell_type": "code",
   "execution_count": 20,
   "metadata": {},
   "outputs": [
    {
     "name": "stdout",
     "output_type": "stream",
     "text": [
      "(4,)\n",
      "[ 0 10 20 30]\n",
      "(3, 4)\n",
      "[[ 0 10 20 30]\n",
      " [ 0 10 20 30]\n",
      " [ 0 10 20 30]]\n",
      "(12,)\n",
      "[ 0 10 20 30  0 10 20 30  0 10 20 30]\n",
      "(4,)\n",
      "[ 0 30 60 90]\n"
     ]
    }
   ],
   "source": [
    "a = np.arange(0,40,10)\n",
    "print(a.shape)\n",
    "print(a)\n",
    "b = np.tile(a,(3,1))\n",
    "print(b.shape)\n",
    "print(b)\n",
    "c = np.tile(a,3)\n",
    "print(c.shape)\n",
    "print(c)\n",
    "d = a * 3\n",
    "print(d.shape)\n",
    "print(d)\n",
    "#print(a.T)\n",
    "#help(np.tile)"
   ]
  },
  {
   "cell_type": "markdown",
   "metadata": {},
   "source": [
    "广播加法"
   ]
  },
  {
   "cell_type": "code",
   "execution_count": 26,
   "metadata": {},
   "outputs": [
    {
     "name": "stdout",
     "output_type": "stream",
     "text": [
      "[[ 0]\n",
      " [10]\n",
      " [20]\n",
      " [30]]\n",
      "(4, 1)\n",
      "[0 1 2]\n",
      "(3,)\n",
      "[[ 0  1  2]\n",
      " [10 11 12]\n",
      " [20 21 22]\n",
      " [30 31 32]]\n",
      "(4, 3)\n"
     ]
    }
   ],
   "source": [
    "a = np.arange(0,40,10)[:,np.newaxis]\n",
    "b = np.array([0, 1, 2])\n",
    "print(a)\n",
    "print(a.shape)\n",
    "print(b)\n",
    "print(b.shape)\n",
    "c = a + b\n",
    "print(c)\n",
    "print(c.shape)\n"
   ]
  },
  {
   "cell_type": "code",
   "execution_count": null,
   "metadata": {
    "collapsed": true
   },
   "outputs": [],
   "source": []
  },
  {
   "cell_type": "code",
   "execution_count": null,
   "metadata": {
    "collapsed": true
   },
   "outputs": [],
   "source": []
  }
 ],
 "metadata": {
  "kernelspec": {
   "display_name": "virtual py36",
   "language": "python",
   "name": "py36"
  },
  "language_info": {
   "codemirror_mode": {
    "name": "ipython",
    "version": 3
   },
   "file_extension": ".py",
   "mimetype": "text/x-python",
   "name": "python",
   "nbconvert_exporter": "python",
   "pygments_lexer": "ipython3",
   "version": "3.6.1"
  }
 },
 "nbformat": 4,
 "nbformat_minor": 2
}
