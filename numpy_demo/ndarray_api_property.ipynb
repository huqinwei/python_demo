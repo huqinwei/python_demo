{
 "cells": [
  {
   "cell_type": "code",
   "execution_count": null,
   "metadata": {
    "collapsed": true
   },
   "outputs": [],
   "source": []
  },
  {
   "cell_type": "code",
   "execution_count": 2,
   "metadata": {
    "collapsed": true
   },
   "outputs": [],
   "source": [
    "import numpy as np\n",
    "\n"
   ]
  },
  {
   "cell_type": "code",
   "execution_count": 28,
   "metadata": {},
   "outputs": [
    {
     "name": "stdout",
     "output_type": "stream",
     "text": [
      "[[ 0  1  2  3]\n",
      " [ 4  5  6  7]\n",
      " [ 8  9 10 11]]\n",
      "[[ 1.  1.  1.]\n",
      " [ 1.  1.  1.]]\n",
      "[[  0.00000000e+000   4.94065646e-324]\n",
      " [  9.88131292e-324   1.48219694e-323]\n",
      " [  1.97626258e-323   2.47032823e-323]]\n"
     ]
    }
   ],
   "source": [
    "ar = np.arange(0,12).reshape(3,4)\n",
    "print(ar)\n",
    "o = np.ones((2,3),dtype=np.float16)\n",
    "print(o)\n",
    "e = np.empty((3,2))\n",
    "print(e)"
   ]
  },
  {
   "cell_type": "code",
   "execution_count": 17,
   "metadata": {},
   "outputs": [
    {
     "name": "stdout",
     "output_type": "stream",
     "text": [
      "np.eye(3):\n",
      " [[ 1.  0.  0.]\n",
      " [ 0.  1.  0.]\n",
      " [ 0.  0.  1.]]\n"
     ]
    }
   ],
   "source": [
    "\n",
    "\n",
    "\n",
    "#print(np.zeros((3,4)))\n",
    "#print np.ones((3,4))\n",
    "#print(\"np.twos((3,4)):\",np.twos((3,4)))#error no api\n",
    "print(\"np.eye(3):\\n\",np.eye(3))"
   ]
  },
  {
   "cell_type": "code",
   "execution_count": 7,
   "metadata": {},
   "outputs": [
    {
     "name": "stdout",
     "output_type": "stream",
     "text": [
      "np.zeros((3,4,5)):\n",
      " [[[ 0.  0.  0.  0.]\n",
      "  [ 0.  0.  0.  0.]\n",
      "  [ 0.  0.  0.  0.]]\n",
      "\n",
      " [[ 0.  0.  0.  0.]\n",
      "  [ 0.  0.  0.  0.]\n",
      "  [ 0.  0.  0.  0.]]]\n"
     ]
    }
   ],
   "source": [
    "print(\"np.zeros((3,4,5)):\\n\",np.zeros((2,3,4)))"
   ]
  },
  {
   "cell_type": "code",
   "execution_count": 18,
   "metadata": {},
   "outputs": [
    {
     "name": "stdout",
     "output_type": "stream",
     "text": [
      "a:\n",
      " [[[0 0]\n",
      "  [0 0]]\n",
      "\n",
      " [[0 0]\n",
      "  [0 0]]]\n",
      "a.ndim: 3\n",
      "a.shape: (2, 2, 2)\n",
      "a.size: 8\n",
      "a.dtype: int32\n",
      "a.itemsize: 4\n"
     ]
    }
   ],
   "source": [
    "a = np.zeros((2,2,2),dtype = np.int32)\n",
    "print(\"a:\\n\",a)\n",
    "print(\"a.ndim:\",a.ndim)\n",
    "print(\"a.shape:\",a.shape)\n",
    "print(\"a.size:\",a.size)\n",
    "print(\"a.dtype:\",a.dtype)\n",
    "print(\"a.itemsize:\",a.itemsize)"
   ]
  },
  {
   "cell_type": "markdown",
   "metadata": {
    "collapsed": true
   },
   "source": [
    "## zeros_like()\n",
    "应该是用了参数x的shape，然后生成了全0的ndarray"
   ]
  },
  {
   "cell_type": "code",
   "execution_count": 25,
   "metadata": {},
   "outputs": [
    {
     "name": "stdout",
     "output_type": "stream",
     "text": [
      "x is  [[0 1 2]\n",
      " [3 4 5]]\n",
      "x2 is  [ 0.  1.  2.]\n",
      "[[0 0 0]\n",
      " [0 0 0]]\n",
      "[ 0.  0.  0.]\n",
      "[0 0]\n",
      "[0 0]\n"
     ]
    }
   ],
   "source": [
    "x = np.arange(6).reshape(2,3)\n",
    "x2 = np.arange(3, dtype = float)\n",
    "print('x is ',x)\n",
    "print('x2 is ',x2)\n",
    "print(np.zeros_like(x))\n",
    "print(np.zeros_like(x2))\n",
    "print(np.zeros_like((2,3)))#但是你不能直接传参一个shape，结果不符合预期。\n",
    "print(np.zeros_like([3,3]))"
   ]
  },
  {
   "cell_type": "markdown",
   "metadata": {},
   "source": [
    "## 原长度同样是9,5点4段和6点5段取前4段的区别\n",
    "### 间隔从9/4=2.25变成9/5=1.8，最终的覆盖区间也缩水了一个1.8"
   ]
  },
  {
   "cell_type": "code",
   "execution_count": 32,
   "metadata": {},
   "outputs": [
    {
     "name": "stdout",
     "output_type": "stream",
     "text": [
      "[  1.     3.25   5.5    7.75  10.  ]\n",
      "[ 1.   2.8  4.6  6.4  8.2]\n",
      "<class 'numpy.ndarray'>\n"
     ]
    }
   ],
   "source": [
    "lin = np.linspace(1,10,5)\n",
    "print(lin)\n",
    "lin = np.linspace(1,10,5,endpoint=False)\n",
    "print(lin)\n",
    "print(type(lin))"
   ]
  },
  {
   "cell_type": "markdown",
   "metadata": {},
   "source": [
    "# diff是算相邻元素的差值的\n",
    "但是可以看到，3*4的数组只有3*3的差值，因为这是要指定轴向的,不是flatten的。\n",
    "#Calculate the n-th discrete difference along given axis."
   ]
  },
  {
   "cell_type": "code",
   "execution_count": 46,
   "metadata": {},
   "outputs": [
    {
     "name": "stdout",
     "output_type": "stream",
     "text": [
      "A: [[ 0  1  2  3]\n",
      " [ 4  5  6  7]\n",
      " [ 8  9 10 11]]\n",
      "diff:\n",
      " [[1 1 1]\n",
      " [1 1 1]\n",
      " [1 1 1]]\n",
      "diff:\n",
      " [[4 4 4 4]\n",
      " [4 4 4 4]]\n"
     ]
    }
   ],
   "source": [
    "A = np.arange(12).reshape(3,4)\n",
    "#A = np.arange(0,24,2).reshape(3,4)\n",
    "print(\"A:\",A)\n",
    "print('diff:\\n',np.diff(A))\n",
    "print('diff:\\n',np.diff(A,axis=0))\n",
    "#错误写法，不支持\n",
    "#print('diff:\\n',np.diff(A,axis=0,1)\n",
    "#print('diff:\\n',np.diff(A,axis=(0,1))\n"
   ]
  },
  {
   "cell_type": "code",
   "execution_count": 47,
   "metadata": {},
   "outputs": [
    {
     "name": "stdout",
     "output_type": "stream",
     "text": [
      "[[ 0  4  8]\n",
      " [ 1  5  9]\n",
      " [ 2  6 10]\n",
      " [ 3  7 11]]\n",
      "[[ 0  4  8]\n",
      " [ 1  5  9]\n",
      " [ 2  6 10]\n",
      " [ 3  7 11]]\n",
      "[[5 5 5 5]\n",
      " [5 5 6 7]\n",
      " [8 9 9 9]]\n",
      "(array([0, 0, 0, 1, 1, 1, 1, 2, 2, 2, 2]), array([1, 2, 3, 0, 1, 2, 3, 0, 1, 2, 3]))\n"
     ]
    }
   ],
   "source": [
    "print(A.T)\n",
    "print(np.transpose(A))\n",
    "print(np.clip(A,5,9))\n",
    "print(np.nonzero(A))"
   ]
  },
  {
   "cell_type": "code",
   "execution_count": null,
   "metadata": {
    "collapsed": true
   },
   "outputs": [],
   "source": []
  },
  {
   "cell_type": "markdown",
   "metadata": {},
   "source": [
    "# exp e的n次方。实现softmax"
   ]
  },
  {
   "cell_type": "code",
   "execution_count": 71,
   "metadata": {},
   "outputs": [
    {
     "name": "stdout",
     "output_type": "stream",
     "text": [
      "[1 1 1]\n",
      "scores: [0 0 0]\n",
      "scores2: [1 1 1]\n"
     ]
    }
   ],
   "source": [
    "scores = np.array([123,456,789])\n",
    "scores = np.array([25,51,49])\n",
    "scores = np.array([1,1,1])#这个比较好观察，均衡的，概率都是0.3333\n",
    "scores2 = scores.copy()\n",
    "print(scores)\n",
    "scores -= np.max(scores)\n",
    "\n",
    "print('scores:',scores)\n",
    "print('scores2:',scores2)"
   ]
  },
  {
   "cell_type": "code",
   "execution_count": 72,
   "metadata": {},
   "outputs": [
    {
     "name": "stdout",
     "output_type": "stream",
     "text": [
      "p: [ 0.33333333  0.33333333  0.33333333]\n"
     ]
    }
   ],
   "source": [
    "#softmax\n",
    "p = np.exp(scores)/np.sum(np.exp(scores))\n",
    "#p2 = np.exp(scores2)/np.sum(np.exp(scores2))\n",
    "print('p:',p)\n",
    "#print('p2:',p2)"
   ]
  },
  {
   "cell_type": "code",
   "execution_count": 67,
   "metadata": {},
   "outputs": [
    {
     "name": "stdout",
     "output_type": "stream",
     "text": [
      "0.0\n",
      "3.72007597602e-44\n",
      "4.53999297625e-05\n",
      "0.367879441171\n",
      "1.0\n",
      "2.71828182846\n",
      "22026.4657948\n",
      "2.68811714182e+43\n"
     ]
    }
   ],
   "source": [
    "print(np.exp(-1000))\n",
    "print(np.exp(-100))\n",
    "print(np.exp(-10))\n",
    "print(np.exp(-1))\n",
    "print(np.exp(0))\n",
    "print(np.exp(1))\n",
    "print(np.exp(10))\n",
    "print(np.exp(100))"
   ]
  },
  {
   "cell_type": "code",
   "execution_count": null,
   "metadata": {
    "collapsed": true
   },
   "outputs": [],
   "source": []
  },
  {
   "cell_type": "code",
   "execution_count": null,
   "metadata": {
    "collapsed": true
   },
   "outputs": [],
   "source": []
  },
  {
   "cell_type": "code",
   "execution_count": null,
   "metadata": {
    "collapsed": true
   },
   "outputs": [],
   "source": []
  }
 ],
 "metadata": {
  "kernelspec": {
   "display_name": "virtual py36",
   "language": "python",
   "name": "py36"
  },
  "language_info": {
   "codemirror_mode": {
    "name": "ipython",
    "version": 3
   },
   "file_extension": ".py",
   "mimetype": "text/x-python",
   "name": "python",
   "nbconvert_exporter": "python",
   "pygments_lexer": "ipython3",
   "version": "3.6.1"
  }
 },
 "nbformat": 4,
 "nbformat_minor": 2
}
