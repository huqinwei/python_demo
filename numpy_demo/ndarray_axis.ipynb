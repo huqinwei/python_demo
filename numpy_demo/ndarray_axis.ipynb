{
 "cells": [
  {
   "cell_type": "code",
   "execution_count": null,
   "metadata": {
    "collapsed": true
   },
   "outputs": [],
   "source": []
  },
  {
   "cell_type": "code",
   "execution_count": 1,
   "metadata": {},
   "outputs": [
    {
     "name": "stdout",
     "output_type": "stream",
     "text": [
      "[[[1 2 3 2]\n",
      "  [1 2 3 1]\n",
      "  [2 3 4 1]]\n",
      "\n",
      " [[1 0 2 0]\n",
      "  [2 1 2 0]\n",
      "  [2 1 1 1]]]\n",
      "a dim: 3\n",
      "a shape: (2, 3, 4)\n"
     ]
    }
   ],
   "source": [
    "import numpy as np\n",
    "\n",
    "a = np.array([[[1,2,3,2],[1,2,3,1],[2,3,4,1]],[[1,0,2,0],[2,1,2,0],[2,1,1,1]]])\n",
    "print(a)\n",
    "print('a dim:',a.ndim)\n",
    "print('a shape:',a.shape)"
   ]
  },
  {
   "cell_type": "markdown",
   "metadata": {},
   "source": [
    "### 0是最外层括号\n",
    "换句话说，np.sum用哪个axis，就等于消除了哪个axis对应的维度，虽然新的数组中可能同样数字还存在，比如，“axis=0”肯定活到最后。"
   ]
  },
  {
   "cell_type": "code",
   "execution_count": 7,
   "metadata": {},
   "outputs": [
    {
     "name": "stdout",
     "output_type": "stream",
     "text": [
      "a's shape is:\n",
      " (2, 3, 4)\n",
      "sum in axis0:\n",
      " [[2 2 5 2]\n",
      " [3 3 5 1]\n",
      " [4 4 5 2]]\n",
      "sum'shape in axis0:\n",
      " (3, 4)\n"
     ]
    }
   ],
   "source": [
    "print('a\\'s shape is:\\n',a.shape)\n",
    "print('sum in axis0:\\n',np.sum(a,axis = 0))\n",
    "print('sum\\'shape in axis0:\\n',np.sum(a,axis = 0).shape)"
   ]
  },
  {
   "cell_type": "code",
   "execution_count": 8,
   "metadata": {},
   "outputs": [
    {
     "name": "stdout",
     "output_type": "stream",
     "text": [
      "a's shape is:\n",
      " (2, 3, 4)\n",
      "sum in axis0:\n",
      " [[ 4  7 10  4]\n",
      " [ 5  2  5  1]]\n",
      "sum'shape in axis0:\n",
      " (2, 4)\n"
     ]
    }
   ],
   "source": [
    "print('a\\'s shape is:\\n',a.shape)\n",
    "print('sum in axis1:\\n',np.sum(a,axis = 1))\n",
    "print('sum\\'shape in axis1:\\n',np.sum(a,axis = 1).shape)"
   ]
  },
  {
   "cell_type": "code",
   "execution_count": 9,
   "metadata": {},
   "outputs": [
    {
     "name": "stdout",
     "output_type": "stream",
     "text": [
      "a's shape is:\n",
      " (2, 3, 4)\n",
      "sum in axis0:\n",
      " [[ 8  7 10]\n",
      " [ 3  5  5]]\n",
      "sum'shape in axis2:\n",
      " (2, 3)\n"
     ]
    }
   ],
   "source": [
    "print('a\\'s shape is:\\n',a.shape)\n",
    "print('sum in axis0:\\n',np.sum(a,axis = 2))\n",
    "print('sum\\'shape in axis2:\\n',np.sum(a,axis = 2).shape)"
   ]
  },
  {
   "cell_type": "code",
   "execution_count": 14,
   "metadata": {},
   "outputs": [
    {
     "name": "stdout",
     "output_type": "stream",
     "text": [
      "sum,axis-none:\n",
      " 38\n",
      "sum of axis-none's shape:\n",
      " ()\n"
     ]
    }
   ],
   "source": [
    "print('sum,axis-none:\\n',np.sum(a))\n",
    "print('sum of axis-none\\'s shape:\\n',np.sum(a,axis=None).shape)"
   ]
  },
  {
   "cell_type": "code",
   "execution_count": 15,
   "metadata": {},
   "outputs": [
    {
     "name": "stdout",
     "output_type": "stream",
     "text": [
      "sum,axis (0,1,2):\n",
      " 38\n",
      "axis (0,1,2) shape:\n",
      " ()\n"
     ]
    }
   ],
   "source": [
    "#axis全选等于axis none\n",
    "print('sum,axis (0,1,2):\\n',np.sum(a, axis=(0,1,2)))\n",
    "print('axis (0,1,2) shape:\\n',np.sum(a,axis=(0,1,2)).shape)"
   ]
  },
  {
   "cell_type": "code",
   "execution_count": 16,
   "metadata": {},
   "outputs": [
    {
     "name": "stdout",
     "output_type": "stream",
     "text": [
      "sum,axis (1,2):\n",
      " [25 13]\n",
      "axis (1,2) shape:\n",
      " (2,)\n",
      "sum,axis (0,1):\n",
      " [ 9  9 15  5]\n",
      "axis (0,1) shape:\n",
      " (4,)\n"
     ]
    }
   ],
   "source": [
    "#两个axis，等于保留了没选的那个维度，1,2等于把内部都合并了，就剩2个。\n",
    "print('sum,axis (1,2):\\n',np.sum(a, axis=(1,2)))\n",
    "print('axis (1,2) shape:\\n',np.sum(a,axis=(1,2)).shape)\n",
    "\n",
    "#这个是只流了内部的维度，外层合并进来\n",
    "print('sum,axis (0,1):\\n',np.sum(a, axis=(0,1)))\n",
    "print('axis (0,1) shape:\\n',np.sum(a,axis=(0,1)).shape)\n"
   ]
  },
  {
   "cell_type": "markdown",
   "metadata": {
    "collapsed": true
   },
   "source": [
    "# 扩充维度\n",
    "None等效于newaxis"
   ]
  },
  {
   "cell_type": "code",
   "execution_count": 18,
   "metadata": {},
   "outputs": [
    {
     "name": "stdout",
     "output_type": "stream",
     "text": [
      "[1 2 3]\n",
      "[[1]\n",
      " [2]\n",
      " [3]]\n",
      "[[1]\n",
      " [2]\n",
      " [3]]\n",
      "[[1 2 3]]\n",
      "True\n"
     ]
    }
   ],
   "source": [
    "a = np.array([1,2,3])\n",
    "print(a)\n",
    "print(a[:,np.newaxis])\n",
    "print(a[:,None])\n",
    "print(a[None,:])\n",
    "print(None == np.newaxis)\n"
   ]
  },
  {
   "cell_type": "code",
   "execution_count": null,
   "metadata": {
    "collapsed": true
   },
   "outputs": [],
   "source": []
  }
 ],
 "metadata": {
  "kernelspec": {
   "display_name": "virtual py36",
   "language": "python",
   "name": "py36"
  },
  "language_info": {
   "codemirror_mode": {
    "name": "ipython",
    "version": 3
   },
   "file_extension": ".py",
   "mimetype": "text/x-python",
   "name": "python",
   "nbconvert_exporter": "python",
   "pygments_lexer": "ipython3",
   "version": "3.6.1"
  }
 },
 "nbformat": 4,
 "nbformat_minor": 2
}
