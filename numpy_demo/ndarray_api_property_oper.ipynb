{
 "cells": [
  {
   "cell_type": "code",
   "execution_count": null,
   "metadata": {
    "collapsed": true
   },
   "outputs": [],
   "source": []
  },
  {
   "cell_type": "code",
   "execution_count": 2,
   "metadata": {
    "collapsed": true
   },
   "outputs": [],
   "source": [
    "import numpy as np\n",
    "\n"
   ]
  },
  {
   "cell_type": "code",
   "execution_count": 28,
   "metadata": {},
   "outputs": [
    {
     "name": "stdout",
     "output_type": "stream",
     "text": [
      "[[ 0  1  2  3]\n",
      " [ 4  5  6  7]\n",
      " [ 8  9 10 11]]\n",
      "[[ 1.  1.  1.]\n",
      " [ 1.  1.  1.]]\n",
      "[[  0.00000000e+000   4.94065646e-324]\n",
      " [  9.88131292e-324   1.48219694e-323]\n",
      " [  1.97626258e-323   2.47032823e-323]]\n"
     ]
    }
   ],
   "source": [
    "ar = np.arange(0,12).reshape(3,4)\n",
    "print(ar)\n",
    "o = np.ones((2,3),dtype=np.float16)\n",
    "print(o)\n",
    "e = np.empty((3,2))\n",
    "print(e)"
   ]
  },
  {
   "cell_type": "code",
   "execution_count": 17,
   "metadata": {},
   "outputs": [
    {
     "name": "stdout",
     "output_type": "stream",
     "text": [
      "np.eye(3):\n",
      " [[ 1.  0.  0.]\n",
      " [ 0.  1.  0.]\n",
      " [ 0.  0.  1.]]\n"
     ]
    }
   ],
   "source": [
    "\n",
    "\n",
    "\n",
    "#print(np.zeros((3,4)))\n",
    "#print np.ones((3,4))\n",
    "#print(\"np.twos((3,4)):\",np.twos((3,4)))#error no api\n",
    "print(\"np.eye(3):\\n\",np.eye(3))"
   ]
  },
  {
   "cell_type": "code",
   "execution_count": 7,
   "metadata": {},
   "outputs": [
    {
     "name": "stdout",
     "output_type": "stream",
     "text": [
      "np.zeros((3,4,5)):\n",
      " [[[ 0.  0.  0.  0.]\n",
      "  [ 0.  0.  0.  0.]\n",
      "  [ 0.  0.  0.  0.]]\n",
      "\n",
      " [[ 0.  0.  0.  0.]\n",
      "  [ 0.  0.  0.  0.]\n",
      "  [ 0.  0.  0.  0.]]]\n"
     ]
    }
   ],
   "source": [
    "print(\"np.zeros((3,4,5)):\\n\",np.zeros((2,3,4)))"
   ]
  },
  {
   "cell_type": "code",
   "execution_count": 18,
   "metadata": {},
   "outputs": [
    {
     "name": "stdout",
     "output_type": "stream",
     "text": [
      "a:\n",
      " [[[0 0]\n",
      "  [0 0]]\n",
      "\n",
      " [[0 0]\n",
      "  [0 0]]]\n",
      "a.ndim: 3\n",
      "a.shape: (2, 2, 2)\n",
      "a.size: 8\n",
      "a.dtype: int32\n",
      "a.itemsize: 4\n"
     ]
    }
   ],
   "source": [
    "a = np.zeros((2,2,2),dtype = np.int32)\n",
    "print(\"a:\\n\",a)\n",
    "print(\"a.ndim:\",a.ndim)\n",
    "print(\"a.shape:\",a.shape)\n",
    "print(\"a.size:\",a.size)\n",
    "print(\"a.dtype:\",a.dtype)\n",
    "print(\"a.itemsize:\",a.itemsize)"
   ]
  },
  {
   "cell_type": "markdown",
   "metadata": {
    "collapsed": true
   },
   "source": [
    "## zeros_like()\n",
    "应该是用了参数x的shape，然后生成了全0的ndarray"
   ]
  },
  {
   "cell_type": "code",
   "execution_count": 25,
   "metadata": {},
   "outputs": [
    {
     "name": "stdout",
     "output_type": "stream",
     "text": [
      "x is  [[0 1 2]\n",
      " [3 4 5]]\n",
      "x2 is  [ 0.  1.  2.]\n",
      "[[0 0 0]\n",
      " [0 0 0]]\n",
      "[ 0.  0.  0.]\n",
      "[0 0]\n",
      "[0 0]\n"
     ]
    }
   ],
   "source": [
    "x = np.arange(6).reshape(2,3)\n",
    "x2 = np.arange(3, dtype = float)\n",
    "print('x is ',x)\n",
    "print('x2 is ',x2)\n",
    "print(np.zeros_like(x))\n",
    "print(np.zeros_like(x2))\n",
    "print(np.zeros_like((2,3)))#但是你不能直接传参一个shape，结果不符合预期。\n",
    "print(np.zeros_like([3,3]))"
   ]
  },
  {
   "cell_type": "markdown",
   "metadata": {},
   "source": [
    "## 原长度同样是9,5点4段和6点5段取前4段的区别\n",
    "### 间隔从9/4=2.25变成9/5=1.8，最终的覆盖区间也缩水了一个1.8"
   ]
  },
  {
   "cell_type": "code",
   "execution_count": 32,
   "metadata": {},
   "outputs": [
    {
     "name": "stdout",
     "output_type": "stream",
     "text": [
      "[  1.     3.25   5.5    7.75  10.  ]\n",
      "[ 1.   2.8  4.6  6.4  8.2]\n",
      "<class 'numpy.ndarray'>\n"
     ]
    }
   ],
   "source": [
    "lin = np.linspace(1,10,5)\n",
    "print(lin)\n",
    "lin = np.linspace(1,10,5,endpoint=False)\n",
    "print(lin)\n",
    "print(type(lin))"
   ]
  },
  {
   "cell_type": "markdown",
   "metadata": {},
   "source": [
    "# diff是算相邻元素的差值的\n",
    "但是可以看到，3*4的数组只有3*3的差值，因为这是要指定轴向的,不是flatten的。\n",
    "#Calculate the n-th discrete difference along given axis."
   ]
  },
  {
   "cell_type": "code",
   "execution_count": 46,
   "metadata": {},
   "outputs": [
    {
     "name": "stdout",
     "output_type": "stream",
     "text": [
      "A: [[ 0  1  2  3]\n",
      " [ 4  5  6  7]\n",
      " [ 8  9 10 11]]\n",
      "diff:\n",
      " [[1 1 1]\n",
      " [1 1 1]\n",
      " [1 1 1]]\n",
      "diff:\n",
      " [[4 4 4 4]\n",
      " [4 4 4 4]]\n"
     ]
    }
   ],
   "source": [
    "A = np.arange(12).reshape(3,4)\n",
    "#A = np.arange(0,24,2).reshape(3,4)\n",
    "print(\"A:\",A)\n",
    "print('diff:\\n',np.diff(A))\n",
    "print('diff:\\n',np.diff(A,axis=0))\n",
    "#错误写法，不支持\n",
    "#print('diff:\\n',np.diff(A,axis=0,1)\n",
    "#print('diff:\\n',np.diff(A,axis=(0,1))\n"
   ]
  },
  {
   "cell_type": "code",
   "execution_count": 47,
   "metadata": {},
   "outputs": [
    {
     "name": "stdout",
     "output_type": "stream",
     "text": [
      "[[ 0  4  8]\n",
      " [ 1  5  9]\n",
      " [ 2  6 10]\n",
      " [ 3  7 11]]\n",
      "[[ 0  4  8]\n",
      " [ 1  5  9]\n",
      " [ 2  6 10]\n",
      " [ 3  7 11]]\n",
      "[[5 5 5 5]\n",
      " [5 5 6 7]\n",
      " [8 9 9 9]]\n",
      "(array([0, 0, 0, 1, 1, 1, 1, 2, 2, 2, 2]), array([1, 2, 3, 0, 1, 2, 3, 0, 1, 2, 3]))\n"
     ]
    }
   ],
   "source": [
    "print(A.T)\n",
    "print(np.transpose(A))\n",
    "print(np.clip(A,5,9))\n",
    "print(np.nonzero(A))"
   ]
  },
  {
   "cell_type": "markdown",
   "metadata": {},
   "source": [
    "# 加减乘除，三角函数"
   ]
  },
  {
   "cell_type": "code",
   "execution_count": 52,
   "metadata": {
    "collapsed": true
   },
   "outputs": [],
   "source": [
    "import math"
   ]
  },
  {
   "cell_type": "code",
   "execution_count": 56,
   "metadata": {},
   "outputs": [
    {
     "name": "stdout",
     "output_type": "stream",
     "text": [
      "[10 20 30 40] [0 1 2 3]\n",
      "[0 1 4 9]\n",
      "[-5.44021111  9.12945251 -9.88031624  7.4511316 ]\n",
      "[-8.39071529  4.08082062  1.5425145  -6.66938062]\n",
      "[3.141592653589793]\n",
      "[  1.22464680e-15]\n"
     ]
    }
   ],
   "source": [
    "a = np.array([10,20,30,40])\n",
    "b = np.arange(4)\n",
    "print(a,b)\n",
    "print(b**2)\n",
    "print(10*np.sin(a))\n",
    "print(10*np.cos(a))\n",
    "a = [math.pi]\n",
    "print(a)\n",
    "print(10*np.sin(a))"
   ]
  },
  {
   "cell_type": "code",
   "execution_count": 60,
   "metadata": {},
   "outputs": [
    {
     "name": "stdout",
     "output_type": "stream",
     "text": [
      "a: [[1 1]\n",
      " [0 1]]\n",
      "b: [[0 1]\n",
      " [2 3]]\n",
      "a*b: [[0 1]\n",
      " [0 3]]\n",
      "dot: [[2 4]\n",
      " [2 3]]\n",
      "[[2 4]\n",
      " [2 3]]\n",
      "[[0 1]\n",
      " [2 5]]\n"
     ]
    }
   ],
   "source": [
    "a = np.array([[1,1],[0,1]])\n",
    "b = np.arange(4).reshape((2,2))\n",
    "print('a:',a)\n",
    "print('b:',b)\n",
    "print('a*b:',a*b)\n",
    "print('dot:',np.dot(a,b))#2*2的，dot也还是2*2的\n",
    "print(a.dot(b))#不同写法\n",
    "print(b.dot(a))#左右颠倒"
   ]
  },
  {
   "cell_type": "code",
   "execution_count": 61,
   "metadata": {},
   "outputs": [
    {
     "name": "stdout",
     "output_type": "stream",
     "text": [
      "[[ 0.36746842  0.39948856  0.32944245  0.54274446]\n",
      " [ 0.73491647  0.40828899  0.74229828  0.77712287]]\n",
      "sum: 4.30177050507\n",
      "axis=1: [ 1.63914389  2.66262661]\n",
      "min: 0.329442451777\n",
      "axis=0: [ 0.36746842  0.39948856  0.32944245  0.54274446]\n",
      "max: 0.777122867036\n",
      "axis=1 [ 0.54274446  0.77712287]\n",
      "0.537721313134\n"
     ]
    }
   ],
   "source": [
    "a = np.random.random((2,4))\n",
    "#a = np.random.random((2,4),seed = 12)\n",
    "print(a)\n",
    "print('sum:',np.sum(a))\n",
    "print('axis=1:',np.sum(a,axis=1))\n",
    "print('min:',np.min(a))\n",
    "print('axis=0:',np.min(a,axis=0))\n",
    "print('max:',np.max(a))\n",
    "print('axis=1',np.max(a,axis=1))\n",
    "print(np.mean(a))"
   ]
  },
  {
   "cell_type": "code",
   "execution_count": null,
   "metadata": {
    "collapsed": true
   },
   "outputs": [],
   "source": []
  }
 ],
 "metadata": {
  "kernelspec": {
   "display_name": "virtual py36",
   "language": "python",
   "name": "py36"
  },
  "language_info": {
   "codemirror_mode": {
    "name": "ipython",
    "version": 3
   },
   "file_extension": ".py",
   "mimetype": "text/x-python",
   "name": "python",
   "nbconvert_exporter": "python",
   "pygments_lexer": "ipython3",
   "version": "3.6.1"
  }
 },
 "nbformat": 4,
 "nbformat_minor": 2
}
