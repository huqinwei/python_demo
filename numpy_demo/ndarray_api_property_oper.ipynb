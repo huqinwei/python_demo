{
 "cells": [
  {
   "cell_type": "code",
   "execution_count": null,
   "metadata": {
    "collapsed": true
   },
   "outputs": [],
   "source": []
  },
  {
   "cell_type": "code",
   "execution_count": 2,
   "metadata": {
    "collapsed": true
   },
   "outputs": [],
   "source": [
    "import numpy as np\n",
    "\n"
   ]
  },
  {
   "cell_type": "code",
   "execution_count": 28,
   "metadata": {},
   "outputs": [
    {
     "name": "stdout",
     "output_type": "stream",
     "text": [
      "[[ 0  1  2  3]\n",
      " [ 4  5  6  7]\n",
      " [ 8  9 10 11]]\n",
      "[[ 1.  1.  1.]\n",
      " [ 1.  1.  1.]]\n",
      "[[  0.00000000e+000   4.94065646e-324]\n",
      " [  9.88131292e-324   1.48219694e-323]\n",
      " [  1.97626258e-323   2.47032823e-323]]\n"
     ]
    }
   ],
   "source": [
    "ar = np.arange(0,12).reshape(3,4)\n",
    "print(ar)\n",
    "o = np.ones((2,3),dtype=np.float16)\n",
    "print(o)\n",
    "e = np.empty((3,2))\n",
    "print(e)"
   ]
  },
  {
   "cell_type": "code",
   "execution_count": 17,
   "metadata": {},
   "outputs": [
    {
     "name": "stdout",
     "output_type": "stream",
     "text": [
      "np.eye(3):\n",
      " [[ 1.  0.  0.]\n",
      " [ 0.  1.  0.]\n",
      " [ 0.  0.  1.]]\n"
     ]
    }
   ],
   "source": [
    "\n",
    "\n",
    "\n",
    "#print(np.zeros((3,4)))\n",
    "#print np.ones((3,4))\n",
    "#print(\"np.twos((3,4)):\",np.twos((3,4)))#error no api\n",
    "print(\"np.eye(3):\\n\",np.eye(3))"
   ]
  },
  {
   "cell_type": "code",
   "execution_count": 7,
   "metadata": {},
   "outputs": [
    {
     "name": "stdout",
     "output_type": "stream",
     "text": [
      "np.zeros((3,4,5)):\n",
      " [[[ 0.  0.  0.  0.]\n",
      "  [ 0.  0.  0.  0.]\n",
      "  [ 0.  0.  0.  0.]]\n",
      "\n",
      " [[ 0.  0.  0.  0.]\n",
      "  [ 0.  0.  0.  0.]\n",
      "  [ 0.  0.  0.  0.]]]\n"
     ]
    }
   ],
   "source": [
    "print(\"np.zeros((3,4,5)):\\n\",np.zeros((2,3,4)))"
   ]
  },
  {
   "cell_type": "code",
   "execution_count": 18,
   "metadata": {},
   "outputs": [
    {
     "name": "stdout",
     "output_type": "stream",
     "text": [
      "a:\n",
      " [[[0 0]\n",
      "  [0 0]]\n",
      "\n",
      " [[0 0]\n",
      "  [0 0]]]\n",
      "a.ndim: 3\n",
      "a.shape: (2, 2, 2)\n",
      "a.size: 8\n",
      "a.dtype: int32\n",
      "a.itemsize: 4\n"
     ]
    }
   ],
   "source": [
    "a = np.zeros((2,2,2),dtype = np.int32)\n",
    "print(\"a:\\n\",a)\n",
    "print(\"a.ndim:\",a.ndim)\n",
    "print(\"a.shape:\",a.shape)\n",
    "print(\"a.size:\",a.size)\n",
    "print(\"a.dtype:\",a.dtype)\n",
    "print(\"a.itemsize:\",a.itemsize)"
   ]
  },
  {
   "cell_type": "markdown",
   "metadata": {
    "collapsed": true
   },
   "source": [
    "## zeros_like()\n",
    "应该是用了参数x的shape，然后生成了全0的ndarray"
   ]
  },
  {
   "cell_type": "code",
   "execution_count": 25,
   "metadata": {},
   "outputs": [
    {
     "name": "stdout",
     "output_type": "stream",
     "text": [
      "x is  [[0 1 2]\n",
      " [3 4 5]]\n",
      "x2 is  [ 0.  1.  2.]\n",
      "[[0 0 0]\n",
      " [0 0 0]]\n",
      "[ 0.  0.  0.]\n",
      "[0 0]\n",
      "[0 0]\n"
     ]
    }
   ],
   "source": [
    "x = np.arange(6).reshape(2,3)\n",
    "x2 = np.arange(3, dtype = float)\n",
    "print('x is ',x)\n",
    "print('x2 is ',x2)\n",
    "print(np.zeros_like(x))\n",
    "print(np.zeros_like(x2))\n",
    "print(np.zeros_like((2,3)))#但是你不能直接传参一个shape，结果不符合预期。\n",
    "print(np.zeros_like([3,3]))"
   ]
  },
  {
   "cell_type": "markdown",
   "metadata": {},
   "source": [
    "## 原长度同样是9,5点4段和6点5段取前4段的区别\n",
    "### 间隔从9/4=2.25变成9/5=1.8，最终的覆盖区间也缩水了一个1.8"
   ]
  },
  {
   "cell_type": "code",
   "execution_count": 32,
   "metadata": {},
   "outputs": [
    {
     "name": "stdout",
     "output_type": "stream",
     "text": [
      "[  1.     3.25   5.5    7.75  10.  ]\n",
      "[ 1.   2.8  4.6  6.4  8.2]\n",
      "<class 'numpy.ndarray'>\n"
     ]
    }
   ],
   "source": [
    "lin = np.linspace(1,10,5)\n",
    "print(lin)\n",
    "lin = np.linspace(1,10,5,endpoint=False)\n",
    "print(lin)\n",
    "print(type(lin))"
   ]
  },
  {
   "cell_type": "markdown",
   "metadata": {},
   "source": [
    "# diff是算相邻元素的差值的\n",
    "但是可以看到，3*4的数组只有3*3的差值，因为这是要指定轴向的,不是flatten的。\n",
    "#Calculate the n-th discrete difference along given axis."
   ]
  },
  {
   "cell_type": "code",
   "execution_count": 46,
   "metadata": {},
   "outputs": [
    {
     "name": "stdout",
     "output_type": "stream",
     "text": [
      "A: [[ 0  1  2  3]\n",
      " [ 4  5  6  7]\n",
      " [ 8  9 10 11]]\n",
      "diff:\n",
      " [[1 1 1]\n",
      " [1 1 1]\n",
      " [1 1 1]]\n",
      "diff:\n",
      " [[4 4 4 4]\n",
      " [4 4 4 4]]\n"
     ]
    }
   ],
   "source": [
    "A = np.arange(12).reshape(3,4)\n",
    "#A = np.arange(0,24,2).reshape(3,4)\n",
    "print(\"A:\",A)\n",
    "print('diff:\\n',np.diff(A))\n",
    "print('diff:\\n',np.diff(A,axis=0))\n",
    "#错误写法，不支持\n",
    "#print('diff:\\n',np.diff(A,axis=0,1)\n",
    "#print('diff:\\n',np.diff(A,axis=(0,1))\n"
   ]
  },
  {
   "cell_type": "code",
   "execution_count": 47,
   "metadata": {},
   "outputs": [
    {
     "name": "stdout",
     "output_type": "stream",
     "text": [
      "[[ 0  4  8]\n",
      " [ 1  5  9]\n",
      " [ 2  6 10]\n",
      " [ 3  7 11]]\n",
      "[[ 0  4  8]\n",
      " [ 1  5  9]\n",
      " [ 2  6 10]\n",
      " [ 3  7 11]]\n",
      "[[5 5 5 5]\n",
      " [5 5 6 7]\n",
      " [8 9 9 9]]\n",
      "(array([0, 0, 0, 1, 1, 1, 1, 2, 2, 2, 2]), array([1, 2, 3, 0, 1, 2, 3, 0, 1, 2, 3]))\n"
     ]
    }
   ],
   "source": [
    "print(A.T)\n",
    "print(np.transpose(A))\n",
    "print(np.clip(A,5,9))\n",
    "print(np.nonzero(A))"
   ]
  },
  {
   "cell_type": "markdown",
   "metadata": {},
   "source": [
    "# 加减乘除，三角函数"
   ]
  },
  {
   "cell_type": "code",
   "execution_count": 52,
   "metadata": {
    "collapsed": true
   },
   "outputs": [],
   "source": [
    "import math"
   ]
  },
  {
   "cell_type": "code",
   "execution_count": 56,
   "metadata": {},
   "outputs": [
    {
     "name": "stdout",
     "output_type": "stream",
     "text": [
      "[10 20 30 40] [0 1 2 3]\n",
      "[0 1 4 9]\n",
      "[-5.44021111  9.12945251 -9.88031624  7.4511316 ]\n",
      "[-8.39071529  4.08082062  1.5425145  -6.66938062]\n",
      "[3.141592653589793]\n",
      "[  1.22464680e-15]\n"
     ]
    }
   ],
   "source": [
    "a = np.array([10,20,30,40])\n",
    "b = np.arange(4)\n",
    "print(a,b)\n",
    "print(b**2)\n",
    "print(10*np.sin(a))\n",
    "print(10*np.cos(a))\n",
    "a = [math.pi]\n",
    "print(a)\n",
    "print(10*np.sin(a))"
   ]
  },
  {
   "cell_type": "code",
   "execution_count": 60,
   "metadata": {},
   "outputs": [
    {
     "name": "stdout",
     "output_type": "stream",
     "text": [
      "a: [[1 1]\n",
      " [0 1]]\n",
      "b: [[0 1]\n",
      " [2 3]]\n",
      "a*b: [[0 1]\n",
      " [0 3]]\n",
      "dot: [[2 4]\n",
      " [2 3]]\n",
      "[[2 4]\n",
      " [2 3]]\n",
      "[[0 1]\n",
      " [2 5]]\n"
     ]
    }
   ],
   "source": [
    "a = np.array([[1,1],[0,1]])\n",
    "b = np.arange(4).reshape((2,2))\n",
    "print('a:',a)\n",
    "print('b:',b)\n",
    "print('a*b:',a*b)\n",
    "print('dot:',np.dot(a,b))#2*2的，dot也还是2*2的\n",
    "print(a.dot(b))#不同写法\n",
    "print(b.dot(a))#左右颠倒"
   ]
  },
  {
   "cell_type": "code",
   "execution_count": 61,
   "metadata": {},
   "outputs": [
    {
     "name": "stdout",
     "output_type": "stream",
     "text": [
      "[[ 0.36746842  0.39948856  0.32944245  0.54274446]\n",
      " [ 0.73491647  0.40828899  0.74229828  0.77712287]]\n",
      "sum: 4.30177050507\n",
      "axis=1: [ 1.63914389  2.66262661]\n",
      "min: 0.329442451777\n",
      "axis=0: [ 0.36746842  0.39948856  0.32944245  0.54274446]\n",
      "max: 0.777122867036\n",
      "axis=1 [ 0.54274446  0.77712287]\n",
      "0.537721313134\n"
     ]
    }
   ],
   "source": [
    "a = np.random.random((2,4))\n",
    "#a = np.random.random((2,4),seed = 12)\n",
    "print(a)\n",
    "print('sum:',np.sum(a))\n",
    "print('axis=1:',np.sum(a,axis=1))\n",
    "print('min:',np.min(a))\n",
    "print('axis=0:',np.min(a,axis=0))\n",
    "print('max:',np.max(a))\n",
    "print('axis=1',np.max(a,axis=1))\n",
    "print(np.mean(a))"
   ]
  },
  {
   "cell_type": "markdown",
   "metadata": {
    "collapsed": true
   },
   "source": []
  },
  {
   "cell_type": "code",
   "execution_count": null,
   "metadata": {
    "collapsed": true
   },
   "outputs": [],
   "source": []
  },
  {
   "cell_type": "code",
   "execution_count": null,
   "metadata": {
    "collapsed": true
   },
   "outputs": [],
   "source": []
  },
  {
   "cell_type": "markdown",
   "metadata": {},
   "source": [
    "# exp e的n次方。实现softmax"
   ]
  },
  {
   "cell_type": "code",
   "execution_count": null,
   "metadata": {
    "collapsed": true
   },
   "outputs": [],
   "source": [
    "scores = np.array([123,456,789])\n",
    "scores = np.array([25,51,49])\n",
    "scores = np.array([1,1,1])#这个比较好观察，均衡的，概率都是0.3333\n",
    "scores2 = scores.copy()\n",
    "print(scores)\n",
    "scores -= np.max(scores)\n",
    "\n",
    "print('scores:',scores)\n",
    "print('scores2:',scores2)"
   ]
  },
  {
   "cell_type": "code",
   "execution_count": null,
   "metadata": {
    "collapsed": true
   },
   "outputs": [],
   "source": [
    "#softmax\n",
    "p = np.exp(scores)/np.sum(np.exp(scores))\n",
    "#p2 = np.exp(scores2)/np.sum(np.exp(scores2))\n",
    "print('p:',p)\n",
    "#print('p2:',p2)"
   ]
  },
  {
   "cell_type": "code",
   "execution_count": null,
   "metadata": {
    "collapsed": true
   },
   "outputs": [],
   "source": [
    "print(np.exp(-1000))\n",
    "print(np.exp(-100))\n",
    "print(np.exp(-10))\n",
    "print(np.exp(-1))\n",
    "print(np.exp(0))\n",
    "print(np.exp(1))\n",
    "print(np.exp(10))\n",
    "print(np.exp(100))"
   ]
  },
  {
   "cell_type": "code",
   "execution_count": null,
   "metadata": {
    "collapsed": true
   },
   "outputs": [],
   "source": []
  },
  {
   "cell_type": "markdown",
   "metadata": {
    "collapsed": true
   },
   "source": [
    "# argmin argmax argsort average cumsum median"
   ]
  },
  {
   "cell_type": "code",
   "execution_count": 81,
   "metadata": {},
   "outputs": [
    {
     "name": "stdout",
     "output_type": "stream",
     "text": [
      "[[10  5]\n",
      " [30  5]]\n",
      "1\n",
      "1\n",
      "2\n"
     ]
    }
   ],
   "source": [
    "A = np.arange(2,14).reshape((3,4))\n",
    "A = np.array([[10,5],[30,5]])\n",
    "print(A)\n",
    "print(np.argmin(A))#返回最小元素的下标\n",
    "print(A.argmin())\n",
    "print(A.argmax())\n"
   ]
  },
  {
   "cell_type": "code",
   "execution_count": 82,
   "metadata": {},
   "outputs": [
    {
     "name": "stdout",
     "output_type": "stream",
     "text": [
      "12.5\n",
      "50\n"
     ]
    }
   ],
   "source": [
    "print(np.average(A))\n",
    "print(np.sum(A))"
   ]
  },
  {
   "cell_type": "code",
   "execution_count": 85,
   "metadata": {},
   "outputs": [
    {
     "name": "stdout",
     "output_type": "stream",
     "text": [
      "7.5\n",
      "5.0\n"
     ]
    }
   ],
   "source": [
    "#中位数，如果奇数个元素，取中间那个，偶数个，取中间两个的平均值。\n",
    "A = np.array([[10,5],[30,5]])\n",
    "print(np.median(A))\n",
    "A = np.array([[1,5,8]])\n",
    "print(np.median(A))"
   ]
  },
  {
   "cell_type": "code",
   "execution_count": 86,
   "metadata": {},
   "outputs": [
    {
     "name": "stdout",
     "output_type": "stream",
     "text": [
      "[ 1  6 14]\n"
     ]
    }
   ],
   "source": [
    "#累加，1,1+5,1+5+8\n",
    "print(np.cumsum(A))"
   ]
  },
  {
   "cell_type": "code",
   "execution_count": 95,
   "metadata": {},
   "outputs": [
    {
     "name": "stdout",
     "output_type": "stream",
     "text": [
      "flatten: [ 2  3  4  5  6  7  8  9 10 11 12 13]\n",
      "a.flat: <numpy.flatiter object at 0x14055d0>\n",
      "type of flat: <class 'numpy.flatiter'>\n",
      "flat iteration: 2\n",
      "flat iteration: 3\n",
      "flat iteration: 4\n",
      "flat iteration: 5\n",
      "flat iteration: 6\n",
      "flat iteration: 7\n",
      "flat iteration: 8\n",
      "flat iteration: 9\n",
      "flat iteration: 10\n",
      "flat iteration: 11\n",
      "flat iteration: 12\n",
      "flat iteration: 13\n"
     ]
    }
   ],
   "source": [
    "print('flatten:',A.flatten())\n",
    "print('a.flat:',A.flat)\n",
    "print('type of flat:',type(A.flat))#numpy.flatiter\n",
    "for item in A.flat:#能访问到iter的要遍历的数值，而不只是这个iter对象。\n",
    "\tprint('flat iteration:',item)"
   ]
  },
  {
   "cell_type": "code",
   "execution_count": 107,
   "metadata": {},
   "outputs": [
    {
     "name": "stdout",
     "output_type": "stream",
     "text": [
      "stepping: [ 3  0  7 -1  9  5]\n",
      "reverse stepping: [ 5  9 -1  7  0  3]\n",
      "i: [3 1 0 5 2 4]\n",
      "i reversed: [4 2 5 0 1 3]\n",
      "-i: [-3 -1  0 -5 -2 -4]\n",
      "-1 0 3 5 7 9 \n",
      "x[i]): [-1  0  3  5  7  9]\n",
      "x[-i]): [-1  5  3  0  9  7]\n"
     ]
    }
   ],
   "source": [
    "#排序对应的下标\n",
    "x = np.array([3, 0, 7, -1, 9, 5])\n",
    "i = x.argsort()\n",
    "print('stepping:',x[::1])\n",
    "print('reverse stepping:',x[::-1])\n",
    "print('i:',i)\n",
    "print('i reversed:',i[::-1])#没有reverse选项，可以直接反过来。# i = x.argsort(reverse=True)\n",
    "print('-i:',-i)#这个不行\n",
    "\n",
    "for index_ in i:\n",
    "    print(x[index_],end = ' ')\n",
    "print()\n",
    "print('x[i]):',x[i])\n",
    "print('x[-i]):',x[-i])#cannot range reversely!!!!!!!!!!!!!!!!!负数的含义就变了，-1是倒数第一个。\n",
    "\n"
   ]
  },
  {
   "cell_type": "code",
   "execution_count": 114,
   "metadata": {},
   "outputs": [
    {
     "name": "stdout",
     "output_type": "stream",
     "text": [
      "index: [1 0 5 2 4]\n",
      "index: [4 2 5 0 1]\n",
      "[-1  0  3  5  7  9]\n"
     ]
    }
   ],
   "source": [
    "#排序，取top-k，的，下标。不过是升序，想更像top-k的话换个顺序。\n",
    "print('index:', x.argsort()[-5:])\n",
    "print('index:', x.argsort()[-5:][::-1])#下标4对应9,最大，下标2对应7,第二大，降序的top-k。\n"
   ]
  },
  {
   "cell_type": "code",
   "execution_count": 122,
   "metadata": {},
   "outputs": [
    {
     "name": "stdout",
     "output_type": "stream",
     "text": [
      "[-1  0  3  5  7  9]\n"
     ]
    }
   ],
   "source": [
    "#index再读回具体的数值\n",
    "print(x[x.argsort()[-7:]])#upsent order of x"
   ]
  },
  {
   "cell_type": "code",
   "execution_count": 130,
   "metadata": {},
   "outputs": [
    {
     "name": "stdout",
     "output_type": "stream",
     "text": [
      "x: -1 x: 0 x: 3 x: 5 x: 7 x: 9 \n",
      "x: 9 x: 7 x: 5 x: 3 x: 0 x: -1 "
     ]
    }
   ],
   "source": [
    "index_list = x.argsort()[-7:]#upsent order of x\n",
    "for i_ in index_list:\n",
    "    print('x:', x[i_],end = ' ')\n",
    "print()\n",
    "index_list = x.argsort()[-7:][::-1]  # descent order of x\n",
    "for i_ in index_list:\n",
    "    print('x:', x[i_], end = ' ')"
   ]
  },
  {
   "cell_type": "code",
   "execution_count": 127,
   "metadata": {},
   "outputs": [
    {
     "name": "stdout",
     "output_type": "stream",
     "text": [
      "[ 3  0  7 -1  9  5]\n",
      "wrong demo: [5 1 3 4 0 2]\n",
      "[1 0 5 2 4]\n",
      "[5 1 3 4 0 2]\n"
     ]
    }
   ],
   "source": [
    "#我胡乱写的，虽然能运行，但是没意义\n",
    "x = np.array([3, 0, 7, -1, 9, 5])\n",
    "print(x)\n",
    "print('wrong demo:', x.argsort()[x.argsort()[-6:]])\n",
    "#拆解\n",
    "print(x.argsort()[-5:])#升序，后5个，6个不好对比，这样就排除-1,取了top-5\n",
    "#print([x.argsort()[-5:]])#外套list，其实没意义，组合才有意义\n",
    "print(x.argsort()[x.argsort()[-6:]])#组合起来是取top-5下标，用下标再去处理下标，所以没意义。\n",
    "#print(x.argsort()x.argsort()[-6:])#所以方括号还是要的"
   ]
  },
  {
   "cell_type": "code",
   "execution_count": null,
   "metadata": {
    "collapsed": true
   },
   "outputs": [],
   "source": []
  },
  {
   "cell_type": "code",
   "execution_count": null,
   "metadata": {
    "collapsed": true
   },
   "outputs": [],
   "source": []
  },
  {
   "cell_type": "code",
   "execution_count": 98,
   "metadata": {},
   "outputs": [
    {
     "name": "stdout",
     "output_type": "stream",
     "text": [
      "Help on function argsort in module numpy.core.fromnumeric:\n",
      "\n",
      "argsort(a, axis=-1, kind='quicksort', order=None)\n",
      "    Returns the indices that would sort an array.\n",
      "    \n",
      "    Perform an indirect sort along the given axis using the algorithm specified\n",
      "    by the `kind` keyword. It returns an array of indices of the same shape as\n",
      "    `a` that index data along the given axis in sorted order.\n",
      "    \n",
      "    Parameters\n",
      "    ----------\n",
      "    a : array_like\n",
      "        Array to sort.\n",
      "    axis : int or None, optional\n",
      "        Axis along which to sort.  The default is -1 (the last axis). If None,\n",
      "        the flattened array is used.\n",
      "    kind : {'quicksort', 'mergesort', 'heapsort'}, optional\n",
      "        Sorting algorithm.\n",
      "    order : str or list of str, optional\n",
      "        When `a` is an array with fields defined, this argument specifies\n",
      "        which fields to compare first, second, etc.  A single field can\n",
      "        be specified as a string, and not all fields need be specified,\n",
      "        but unspecified fields will still be used, in the order in which\n",
      "        they come up in the dtype, to break ties.\n",
      "    \n",
      "    Returns\n",
      "    -------\n",
      "    index_array : ndarray, int\n",
      "        Array of indices that sort `a` along the specified axis.\n",
      "        If `a` is one-dimensional, ``a[index_array]`` yields a sorted `a`.\n",
      "    \n",
      "    See Also\n",
      "    --------\n",
      "    sort : Describes sorting algorithms used.\n",
      "    lexsort : Indirect stable sort with multiple keys.\n",
      "    ndarray.sort : Inplace sort.\n",
      "    argpartition : Indirect partial sort.\n",
      "    \n",
      "    Notes\n",
      "    -----\n",
      "    See `sort` for notes on the different sorting algorithms.\n",
      "    \n",
      "    As of NumPy 1.4.0 `argsort` works with real/complex arrays containing\n",
      "    nan values. The enhanced sort order is documented in `sort`.\n",
      "    \n",
      "    Examples\n",
      "    --------\n",
      "    One dimensional array:\n",
      "    \n",
      "    >>> x = np.array([3, 1, 2])\n",
      "    >>> np.argsort(x)\n",
      "    array([1, 2, 0])\n",
      "    \n",
      "    Two-dimensional array:\n",
      "    \n",
      "    >>> x = np.array([[0, 3], [2, 2]])\n",
      "    >>> x\n",
      "    array([[0, 3],\n",
      "           [2, 2]])\n",
      "    \n",
      "    >>> np.argsort(x, axis=0)\n",
      "    array([[0, 1],\n",
      "           [1, 0]])\n",
      "    \n",
      "    >>> np.argsort(x, axis=1)\n",
      "    array([[0, 1],\n",
      "           [0, 1]])\n",
      "    \n",
      "    Sorting with keys:\n",
      "    \n",
      "    >>> x = np.array([(1, 0), (0, 1)], dtype=[('x', '<i4'), ('y', '<i4')])\n",
      "    >>> x\n",
      "    array([(1, 0), (0, 1)],\n",
      "          dtype=[('x', '<i4'), ('y', '<i4')])\n",
      "    \n",
      "    >>> np.argsort(x, order=('x','y'))\n",
      "    array([1, 0])\n",
      "    \n",
      "    >>> np.argsort(x, order=('y','x'))\n",
      "    array([0, 1])\n",
      "\n"
     ]
    }
   ],
   "source": [
    "help(np.argsort)"
   ]
  },
  {
   "cell_type": "markdown",
   "metadata": {},
   "source": [
    "# 行列迭代访问"
   ]
  },
  {
   "cell_type": "code",
   "execution_count": 92,
   "metadata": {},
   "outputs": [
    {
     "name": "stdout",
     "output_type": "stream",
     "text": [
      "[[ 2  3  4  5]\n",
      " [ 6  7  8  9]\n",
      " [10 11 12 13]]\n",
      "row iteration: [2 3 4 5]\n",
      "row iteration: [6 7 8 9]\n",
      "row iteration: [10 11 12 13]\n",
      "fake column iteration: [2 3 4 5]\n",
      "fake column iteration: [6 7 8 9]\n",
      "fake column iteration: [10 11 12 13]\n",
      "column iteration: [ 2  6 10]\n",
      "column iteration: [ 3  7 11]\n",
      "column iteration: [ 4  8 12]\n",
      "column iteration: [ 5  9 13]\n"
     ]
    }
   ],
   "source": [
    "A = np.arange(2,14).reshape((3,4))\n",
    "print(A)\n",
    "for row in A:\n",
    "    print('row iteration:',row)\n",
    "for column in A:#其实和row一样，这只是二维数组的最外围，只是个name，for循环的特性，早期我不知道。\n",
    "\tprint('fake column iteration:',column)\n",
    "for real_column in A.T:#这才是直觉上的那个列\n",
    "    print('column iteration:',real_column)"
   ]
  },
  {
   "cell_type": "code",
   "execution_count": null,
   "metadata": {
    "collapsed": true
   },
   "outputs": [],
   "source": []
  }
 ],
 "metadata": {
  "kernelspec": {
   "display_name": "virtual py36",
   "language": "python",
   "name": "py36"
  },
  "language_info": {
   "codemirror_mode": {
    "name": "ipython",
    "version": 3
   },
   "file_extension": ".py",
   "mimetype": "text/x-python",
   "name": "python",
   "nbconvert_exporter": "python",
   "pygments_lexer": "ipython3",
   "version": "3.6.1"
  }
 },
 "nbformat": 4,
 "nbformat_minor": 2
}
