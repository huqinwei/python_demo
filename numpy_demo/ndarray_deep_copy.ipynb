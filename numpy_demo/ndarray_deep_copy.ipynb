{
 "cells": [
  {
   "cell_type": "markdown",
   "metadata": {},
   "source": [
    "关于ndarray的deepcopy"
   ]
  },
  {
   "cell_type": "code",
   "execution_count": 1,
   "metadata": {
    "collapsed": true
   },
   "outputs": [],
   "source": [
    "import numpy as np\n",
    "import copy"
   ]
  },
  {
   "cell_type": "code",
   "execution_count": 4,
   "metadata": {},
   "outputs": [
    {
     "name": "stdout",
     "output_type": "stream",
     "text": [
      "[[ 2  3  4  5]\n",
      " [ 6  7  8  9]\n",
      " [10 11 12 13]]\n",
      "<class 'numpy.ndarray'>\n"
     ]
    }
   ],
   "source": [
    "a = np.arange(2,14).reshape(3,4)\n",
    "print(a)\n",
    "print(type(a))"
   ]
  },
  {
   "cell_type": "markdown",
   "metadata": {},
   "source": [
    "## 嵌套list，内部算指针，复制指针不复制内容。"
   ]
  },
  {
   "cell_type": "code",
   "execution_count": 6,
   "metadata": {},
   "outputs": [
    {
     "name": "stdout",
     "output_type": "stream",
     "text": [
      "<class 'list'>\n",
      "<class 'int'>\n",
      "<class 'int'>\n",
      "<class 'list'>\n"
     ]
    }
   ],
   "source": [
    "a = [1,2,[3,4]]\n",
    "print(type(a))\n",
    "print(type(a[0]))\n",
    "print(type(a[1]))\n",
    "print(type(a[2]))"
   ]
  },
  {
   "cell_type": "markdown",
   "metadata": {},
   "source": [
    "## b随a变，c too，d不同"
   ]
  },
  {
   "cell_type": "code",
   "execution_count": 7,
   "metadata": {},
   "outputs": [
    {
     "name": "stdout",
     "output_type": "stream",
     "text": [
      "a: [100, 2, [300, 4]]\n",
      "b(assign): [100, 2, [300, 4]]\n",
      "c(copy:different memory,same value, pointer the same): [1, 2, [300, 4]]\n",
      "d(deepcopy): [1, 2, [3, 4]]\n"
     ]
    }
   ],
   "source": [
    "b = a\n",
    "c = copy.copy(a)\n",
    "d = copy.deepcopy(a)\n",
    "a[0] = 100\n",
    "a[2][0] = 300\n",
    "print('a:',a)\n",
    "print('b(assign):',b)\n",
    "print('c(copy:different memory,same value, pointer the same):',c)\n",
    "print('d(deepcopy):',d)"
   ]
  },
  {
   "cell_type": "markdown",
   "metadata": {},
   "source": [
    "## 无论多少层，deepcopy都完整复制。\n"
   ]
  },
  {
   "cell_type": "code",
   "execution_count": 8,
   "metadata": {},
   "outputs": [
    {
     "name": "stdout",
     "output_type": "stream",
     "text": [
      "[1, 2, [3, [999, 5]]]\n",
      "[1, 2, [3, [4, 5]]]\n"
     ]
    }
   ],
   "source": [
    "a = [1,2,[3,[4,5]]]\n",
    "e = copy.deepcopy(a)\n",
    "a[2][1][0] = 999\n",
    "print(a)\n",
    "print(e)\n"
   ]
  },
  {
   "cell_type": "code",
   "execution_count": null,
   "metadata": {
    "collapsed": true
   },
   "outputs": [],
   "source": []
  },
  {
   "cell_type": "markdown",
   "metadata": {},
   "source": [
    "## 另一个例子，基本都一样"
   ]
  },
  {
   "cell_type": "code",
   "execution_count": 1,
   "metadata": {},
   "outputs": [
    {
     "name": "stdout",
     "output_type": "stream",
     "text": [
      "a: [[ 0  1  2  3]\n",
      " [ 4  5  6  7]\n",
      " [ 8  9 10 11]]\n",
      "change a\n",
      "a:\n",
      " [[ 9  9 99  9]\n",
      " [ 8  8  8  8]\n",
      " [ 7  6  5  4]]\n",
      "shallow copy--b:\n",
      " [[ 9  9 99  9]\n",
      " [ 8  8  8  8]\n",
      " [ 7  6  5  4]]\n",
      "shallow copy--c:\n",
      " [[ 9  9 99  9]\n",
      " [ 8  8  8  8]\n",
      " [ 7  6  5  4]]\n",
      "shallow shallow copy--d:\n",
      " [[ 9  9 99  9]\n",
      " [ 8  8  8  8]\n",
      " [ 7  6  5  4]]\n",
      "deep copy--e:\n",
      " [[ 0  1  2  3]\n",
      " [ 4  5  6  7]\n",
      " [ 8  9 10 11]]\n",
      "another deep copy--f:\n",
      " [[ 0  1  2  3]\n",
      " [ 4  5  6  7]\n",
      " [ 8  9 10 11]]\n"
     ]
    }
   ],
   "source": [
    "import numpy as np\n",
    "import copy\n",
    "\n",
    "a = np.arange(12).reshape(3,4)\n",
    "print(\"a:\",a)\n",
    "b = a\n",
    "c = a\n",
    "d = b\n",
    "\n",
    "e = a.copy()\n",
    "f = copy.copy(a)\n",
    "\n",
    "a[0] = 9\n",
    "a[1][:] = 8\n",
    "a[2,:] = 7\n",
    "#a[2,:] = 7,6,5 not allowed\n",
    "a[2,:] = 7,6,5,4\n",
    "a[0][2] = 99\n",
    "print('change a')\n",
    "print(\"a:\\n\",a)\n",
    "print('shallow copy--b:\\n',b)\n",
    "print('shallow copy--c:\\n',c)\n",
    "print('shallow shallow copy--d:\\n',d)\n",
    "\n",
    "print(\"deep copy--e:\\n\",e)\n",
    "print(\"another deep copy--f:\\n\",f)"
   ]
  },
  {
   "cell_type": "code",
   "execution_count": null,
   "metadata": {
    "collapsed": true
   },
   "outputs": [],
   "source": []
  },
  {
   "cell_type": "code",
   "execution_count": null,
   "metadata": {
    "collapsed": true
   },
   "outputs": [],
   "source": []
  }
 ],
 "metadata": {
  "kernelspec": {
   "display_name": "virtual py36",
   "language": "python",
   "name": "py36"
  },
  "language_info": {
   "codemirror_mode": {
    "name": "ipython",
    "version": 3
   },
   "file_extension": ".py",
   "mimetype": "text/x-python",
   "name": "python",
   "nbconvert_exporter": "python",
   "pygments_lexer": "ipython3",
   "version": "3.6.1"
  }
 },
 "nbformat": 4,
 "nbformat_minor": 2
}
