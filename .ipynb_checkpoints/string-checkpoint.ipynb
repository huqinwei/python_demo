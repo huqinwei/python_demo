{
 "cells": [
  {
   "cell_type": "markdown",
   "metadata": {},
   "source": [
    "# Python3 字符串"
   ]
  },
  {
   "cell_type": "code",
   "execution_count": 4,
   "metadata": {
    "collapsed": true
   },
   "outputs": [],
   "source": [
    "var1 = 'Hello World!'\n",
    "var2 = 'qinwei'"
   ]
  },
  {
   "cell_type": "code",
   "execution_count": 6,
   "metadata": {},
   "outputs": [
    {
     "name": "stdout",
     "output_type": "stream",
     "text": [
      "llo World\n"
     ]
    }
   ],
   "source": [
    "#访问控制，同list\n",
    "print(var1[2:-1])\n",
    "print(var1[:6])\n",
    "print(var1[:6]+'qinwei!')"
   ]
  },
  {
   "cell_type": "markdown",
   "metadata": {},
   "source": [
    "# Python转义字符"
   ]
  },
  {
   "cell_type": "code",
   "execution_count": 10,
   "metadata": {},
   "outputs": [
    {
     "name": "stdout",
     "output_type": "stream",
     "text": [
      "a\tb\n",
      "c\u000b",
      "d\n",
      "aaa\bccc\n",
      "\u0007\n",
      "aaaa\\ebbbb\n",
      "aaaa\n",
      "bbbb\n",
      "##########\n",
      "return:aaaa\r",
      "bbbb\n",
      "return:aaaa\r",
      "b\n",
      "return:aaaa\r\n",
      "october\\o10\n",
      "\\other\n"
     ]
    }
   ],
   "source": [
    "print('a\\tb')\n",
    "print('c\\vd')#纵向制表符\n",
    "print('aaa\\bccc')#backspace\n",
    "print('\\a')#\t响铃\n",
    "print('aaaa\\ebbbb')#\t转义!不存在了？\n",
    "print('aaaa\\nbbbb')\n",
    "print('##########')\n",
    "print('return:aaaa\\rbbbb')#回车\n",
    "print('return:aaaa\\rb')#回车\n",
    "print('return:aaaa\\r')#回车#看来回车的含义，只要输入一个字符，之前的就都抹掉，不输入就没事。\n",
    "print('october\\o10')\n",
    "# print(\"hex\\x10\")\n",
    "a = 10\n",
    "# print(\"hex\\x\",a)#SyntaxError: (unicode error) 'unicodeescape' codec can't decode bytes in position 3-4: truncated \\xXX escape\n",
    "print('\\other')"
   ]
  },
  {
   "cell_type": "markdown",
   "metadata": {},
   "source": [
    "# Python字符串运算符"
   ]
  },
  {
   "cell_type": "code",
   "execution_count": 11,
   "metadata": {},
   "outputs": [
    {
     "name": "stdout",
     "output_type": "stream",
     "text": [
      "HelloPython\n",
      "HelloHello\n",
      "True\n",
      "False\n",
      "True\n",
      "\\n\n",
      "\\n\\b\\t\n"
     ]
    }
   ],
   "source": [
    "a = 'Hello'\n",
    "b = 'Python'\n",
    "print(a+b)\n",
    "# print(a-b)#unsupported operand\n",
    "print(a*2)\n",
    "print('H' in a)\n",
    "print('b' in a)\n",
    "print('b' not in a)\n",
    "# r/R\t原始字符串 - 原始字符串：所有的字符串都是直接按照字面的意思来使用，没有转义特殊或不能打印的字符。 原始字符串除在字符串的第一个引号前加上字母 r（可以大小写）以外，与普通字符串有着几乎完全相同的语法。\n",
    "print( r'\\n' )\n",
    "print( R'\\n\\b\\t' )\n"
   ]
  },
  {
   "cell_type": "markdown",
   "metadata": {},
   "source": [
    "# Python字符串格式化\n",
    "format、等等吧，稍后不全"
   ]
  },
  {
   "cell_type": "code",
   "execution_count": 12,
   "metadata": {},
   "outputs": [
    {
     "name": "stdout",
     "output_type": "stream",
     "text": [
      "Im 100 old\n"
     ]
    }
   ],
   "source": [
    "print('Im %d old'%(100))"
   ]
  },
  {
   "cell_type": "code",
   "execution_count": null,
   "metadata": {
    "collapsed": true
   },
   "outputs": [],
   "source": []
  },
  {
   "cell_type": "markdown",
   "metadata": {},
   "source": [
    "# Python三引号\n",
    "python三引号允许一个字符串跨多行，字符串中可以包含换行符、制表符以及其他特殊字符。\n"
   ]
  },
  {
   "cell_type": "code",
   "execution_count": 14,
   "metadata": {},
   "outputs": [
    {
     "name": "stdout",
     "output_type": "stream",
     "text": [
      "hello\n",
      "world\n",
      "hahaha\n"
     ]
    }
   ],
   "source": [
    "#不只是用来写注释\n",
    "str1 ='''hello\n",
    "world\n",
    "hahaha'''\n",
    "print(str1)"
   ]
  },
  {
   "cell_type": "code",
   "execution_count": 16,
   "metadata": {},
   "outputs": [
    {
     "ename": "SyntaxError",
     "evalue": "EOL while scanning string literal (<ipython-input-16-1306a8c7eefe>, line 3)",
     "output_type": "error",
     "traceback": [
      "\u001b[0;36m  File \u001b[0;32m\"<ipython-input-16-1306a8c7eefe>\"\u001b[0;36m, line \u001b[0;32m3\u001b[0m\n\u001b[0;31m    str2 = 'hello\u001b[0m\n\u001b[0m                 ^\u001b[0m\n\u001b[0;31mSyntaxError\u001b[0m\u001b[0;31m:\u001b[0m EOL while scanning string literal\n"
     ]
    }
   ],
   "source": [
    "#不然的话，这两种写法，一个不能打印成换行的样子，一个根本语法错误\n",
    "str2 = 'hello' \\\n",
    "       'world'\n",
    "# str2 = 'hello\n",
    "# world'\n",
    "print(str2)"
   ]
  },
  {
   "cell_type": "code",
   "execution_count": 17,
   "metadata": {},
   "outputs": [
    {
     "name": "stdout",
     "output_type": "stream",
     "text": [
      "在Python3中，所有的字字符串都是Unicode字符串。\n",
      "在Python3中，所有的字字符串都是Unicode字符串。\n"
     ]
    }
   ],
   "source": [
    "#SyntaxError: Non-ASCII character '\\xe5' in file python_str_unicode.py on line 1, but no encoding declared; see http://python.org/dev/peps/pep-0263/ for details\n",
    "str_python3 = '在Python3中，所有的字字符串都是Unicode字符串。'\n",
    "print(str_python3)\n",
    "str_unicode = u'在Python3中，所有的字字符串都是Unicode字符串。'\n",
    "print(str_unicode)"
   ]
  },
  {
   "cell_type": "markdown",
   "metadata": {},
   "source": [
    "# string的==判断，主要是说内容，不是id。"
   ]
  },
  {
   "cell_type": "code",
   "execution_count": 23,
   "metadata": {},
   "outputs": [
    {
     "name": "stdout",
     "output_type": "stream",
     "text": [
      "True\n",
      "True\n",
      "type: <class 'str'>\n",
      "139841988572696\n",
      "139841988573848\n",
      "139841988573848\n"
     ]
    }
   ],
   "source": [
    "x = 'Pluto is a planet'\n",
    "y = \"Pluto is a planet\"\n",
    "y_ref = y\n",
    "print(x == y)\n",
    "z = \"Pluto's a planet!\"\n",
    "z2 = 'Pluto\\'s a planet!'\n",
    "print(z2==z)\n",
    "\n",
    "print(\"type:\",type(z))\n",
    "print(id(x))\n",
    "print(id(y))\n",
    "print(id(y_ref))"
   ]
  },
  {
   "cell_type": "code",
   "execution_count": null,
   "metadata": {
    "collapsed": true
   },
   "outputs": [],
   "source": [
    "\n",
    "\n"
   ]
  },
  {
   "cell_type": "markdown",
   "metadata": {},
   "source": [
    "## 转换成int\\float等"
   ]
  },
  {
   "cell_type": "code",
   "execution_count": 24,
   "metadata": {},
   "outputs": [
    {
     "name": "stdout",
     "output_type": "stream",
     "text": [
      "<class 'int'>\n",
      "10\n"
     ]
    }
   ],
   "source": [
    "str = \"10\"\n",
    "intn = int(str)\n",
    "#intn = str\n",
    "print(type(intn))\n",
    "print(intn)"
   ]
  },
  {
   "cell_type": "code",
   "execution_count": 27,
   "metadata": {},
   "outputs": [
    {
     "name": "stdout",
     "output_type": "stream",
     "text": [
      "<class 'float'>\n",
      "10.0\n",
      "<class 'float'>\n",
      "10.4\n"
     ]
    }
   ],
   "source": [
    "str = \"10\"\n",
    "float_f = float(str)\n",
    "print(type(float_f))\n",
    "print(float_f)\n",
    "str = \"10.4\"\n",
    "float_f = float(str)\n",
    "print(type(float_f))\n",
    "print(float_f)"
   ]
  },
  {
   "cell_type": "code",
   "execution_count": null,
   "metadata": {
    "collapsed": true
   },
   "outputs": [],
   "source": []
  },
  {
   "cell_type": "code",
   "execution_count": null,
   "metadata": {
    "collapsed": true
   },
   "outputs": [],
   "source": []
  },
  {
   "cell_type": "markdown",
   "metadata": {},
   "source": [
    "# Python 的字符串内建函数"
   ]
  },
  {
   "cell_type": "code",
   "execution_count": null,
   "metadata": {
    "collapsed": true
   },
   "outputs": [],
   "source": [
    "# Python 的字符串常用内建函数如下：\n",
    "#\n",
    "# 序号\t方法及描述\n",
    "# 1\n",
    "# capitalize()\n",
    "# 将字符串的第一个字符转换为大写\n",
    "#\n",
    "# 2\n",
    "# center(width, fillchar)\n",
    "#\n",
    "#\n",
    "# 返回一个指定的宽度 width 居中的字符串，fillchar 为填充的字符，默认为空格。\n",
    "# 3\n",
    "# count(str, beg= 0,end=len(string))\n",
    "#\n",
    "#\n",
    "# 返回 str 在 string 里面出现的次数，如果 beg 或者 end 指定则返回指定范围内 str 出现的次数\n",
    "# 4\n",
    "# bytes.decode(encoding=\"utf-8\", errors=\"strict\")\n",
    "#\n",
    "#\n",
    "# Python3 中没有 decode 方法，但我们可以使用 bytes 对象的 decode() 方法来解码给定的 bytes 对象，这个 bytes 对象可以由 str.encode() 来编码返回。\n",
    "# 5\n",
    "# encode(encoding='UTF-8',errors='strict')\n",
    "#\n",
    "#\n",
    "# 以 encoding 指定的编码格式编码字符串，如果出错默认报一个ValueError 的异常，除非 errors 指定的是'ignore'或者'replace'\n",
    "# 6\n",
    "# endswith(suffix, beg=0, end=len(string))\n",
    "# 检查字符串是否以 obj 结束，如果beg 或者 end 指定则检查指定的范围内是否以 obj 结束，如果是，返回 True,否则返回 False.\n",
    "#\n",
    "# 7\n",
    "# expandtabs(tabsize=8)\n",
    "#\n",
    "#\n",
    "# 把字符串 string 中的 tab 符号转为空格，tab 符号默认的空格数是 8 。\n",
    "# 8\n",
    "# find(str, beg=0 end=len(string))\n",
    "#\n",
    "#\n",
    "# 检测 str 是否包含在字符串中，如果指定范围 beg 和 end ，则检查是否包含在指定范围内，如果包含返回开始的索引值，否则返回-1\n",
    "# 9\n",
    "# index(str, beg=0, end=len(string))\n",
    "#\n",
    "#\n",
    "# 跟find()方法一样，只不过如果str不在字符串中会报一个异常.\n",
    "# 10\n",
    "# isalnum()\n",
    "#\n",
    "#\n",
    "# 如果字符串至少有一个字符并且所有字符都是字母或数字则返 回 True,否则返回 False\n",
    "# 11\n",
    "# isalpha()\n",
    "#\n",
    "#\n",
    "# 如果字符串至少有一个字符并且所有字符都是字母则返回 True, 否则返回 False\n",
    "# 12\n",
    "# isdigit()\n",
    "#\n",
    "#\n",
    "# 如果字符串只包含数字则返回 True 否则返回 False..\n",
    "# 13\n",
    "# islower()\n",
    "#\n",
    "#\n",
    "# 如果字符串中包含至少一个区分大小写的字符，并且所有这些(区分大小写的)字符都是小写，则返回 True，否则返回 False\n",
    "# 14\n",
    "# isnumeric()\n",
    "#\n",
    "#\n",
    "# 如果字符串中只包含数字字符，则返回 True，否则返回 False\n",
    "# 15\n",
    "# isspace()\n",
    "#\n",
    "#\n",
    "# 如果字符串中只包含空白，则返回 True，否则返回 False.\n",
    "# 16\n",
    "# istitle()\n",
    "#\n",
    "#\n",
    "# 如果字符串是标题化的(见 title())则返回 True，否则返回 False\n",
    "# 17\n",
    "# isupper()\n",
    "#\n",
    "#\n",
    "# 如果字符串中包含至少一个区分大小写的字符，并且所有这些(区分大小写的)字符都是大写，则返回 True，否则返回 False\n",
    "# 18\n",
    "# join(seq)\n",
    "#\n",
    "#\n",
    "# 以指定字符串作为分隔符，将 seq 中所有的元素(的字符串表示)合并为一个新的字符串\n",
    "# 19\n",
    "# len(string)\n",
    "#\n",
    "#\n",
    "# 返回字符串长度\n",
    "# 20\n",
    "# ljust(width[, fillchar])\n",
    "#\n",
    "#\n",
    "# 返回一个原字符串左对齐,并使用 fillchar 填充至长度 width 的新字符串，fillchar 默认为空格。\n",
    "# 21\n",
    "# lower()\n",
    "#\n",
    "#\n",
    "# 转换字符串中所有大写字符为小写.\n",
    "# 22\n",
    "# lstrip()\n",
    "#\n",
    "#\n",
    "# 截掉字符串左边的空格或指定字符。\n",
    "# 23\n",
    "# maketrans()\n",
    "#\n",
    "#\n",
    "# 创建字符映射的转换表，对于接受两个参数的最简单的调用方式，第一个参数是字符串，表示需要转换的字符，第二个参数也是字符串表示转换的目标。\n",
    "# 24\n",
    "# max(str)\n",
    "#\n",
    "#\n",
    "# 返回字符串 str 中最大的字母。\n",
    "# 25\n",
    "# min(str)\n",
    "#\n",
    "#\n",
    "# 返回字符串 str 中最小的字母。\n",
    "# 26\n",
    "# replace(old, new [, max])\n",
    "#\n",
    "#\n",
    "# 把 将字符串中的 str1 替换成 str2,如果 max 指定，则替换不超过 max 次。\n",
    "# 27\n",
    "# rfind(str, beg=0,end=len(string))\n",
    "#\n",
    "#\n",
    "# 类似于 find()函数，不过是从右边开始查找.\n",
    "# 28\n",
    "# rindex( str, beg=0, end=len(string))\n",
    "#\n",
    "#\n",
    "# 类似于 index()，不过是从右边开始.\n",
    "# 29\n",
    "# rjust(width,[, fillchar])\n",
    "#\n",
    "#\n",
    "# 返回一个原字符串右对齐,并使用fillchar(默认空格）填充至长度 width 的新字符串\n",
    "# 30\n",
    "# rstrip()\n",
    "#\n",
    "#\n",
    "# 删除字符串字符串末尾的空格.\n",
    "# 31\n",
    "# split(str=\"\", num=string.count(str))\n",
    "#\n",
    "#\n",
    "# num=string.count(str)) 以 str 为分隔符截取字符串，如果 num 有指定值，则仅截取 num 个子字符串\n",
    "# 32\n",
    "# splitlines([keepends])\n",
    "#\n",
    "#\n",
    "# 按照行('\\r', '\\r\\n', \\n')分隔，返回一个包含各行作为元素的列表，如果参数 keepends 为 False，不包含换行符，如果为 True，则保留换行符。\n",
    "# 33\n",
    "# startswith(substr, beg=0,end=len(string))\n",
    "#\n",
    "#\n",
    "# 检查字符串是否是以指定子字符串 substr 开头，是则返回 True，否则返回 False。如果beg 和 end 指定值，则在指定范围内检查。\n",
    "# 34\n",
    "# strip([chars])\n",
    "#\n",
    "#\n",
    "# 在字符串上执行 lstrip()和 rstrip()\n",
    "# 35\n",
    "# swapcase()\n",
    "#\n",
    "#\n",
    "# 将字符串中大写转换为小写，小写转换为大写\n",
    "# 36\n",
    "# title()\n",
    "#\n",
    "#\n",
    "# 返回\"标题化\"的字符串,就是说所有单词都是以大写开始，其余字母均为小写(见 istitle())\n",
    "# 37\n",
    "# translate(table, deletechars=\"\")\n",
    "#\n",
    "#\n",
    "# 根据 str 给出的表(包含 256 个字符)转换 string 的字符, 要过滤掉的字符放到 deletechars 参数中\n",
    "# 38\n",
    "# upper()\n",
    "#\n",
    "#\n",
    "# 转换字符串中的小写字母为大写\n",
    "# 39\n",
    "# zfill (width)\n",
    "#\n",
    "#\n",
    "# 返回长度为 width 的字符串，原字符串右对齐，前面填充0\n",
    "# 40\n",
    "# isdecimal()\n",
    "#\n",
    "#\n",
    "# 检查字符串是否只包含十进制字符，如果是返回 true，否则返回 false。\n",
    "\n",
    "\n"
   ]
  }
 ],
 "metadata": {
  "kernelspec": {
   "display_name": "virtual py36",
   "language": "python",
   "name": "py36"
  },
  "language_info": {
   "codemirror_mode": {
    "name": "ipython",
    "version": 3
   },
   "file_extension": ".py",
   "mimetype": "text/x-python",
   "name": "python",
   "nbconvert_exporter": "python",
   "pygments_lexer": "ipython3",
   "version": "3.6.1"
  }
 },
 "nbformat": 4,
 "nbformat_minor": 2
}
