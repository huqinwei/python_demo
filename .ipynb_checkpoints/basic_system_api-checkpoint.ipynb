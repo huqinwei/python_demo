{
 "cells": [
  {
   "cell_type": "code",
   "execution_count": null,
   "metadata": {
    "collapsed": true
   },
   "outputs": [],
   "source": []
  },
  {
   "cell_type": "markdown",
   "metadata": {},
   "source": [
    "# 性能度量\n",
    "Timer.timeit()用法：\n",
    "好像就是算时间的，里边是语句，为什么分两个字符串，不清楚\n",
    "可能一句表达式是一个字符串,顺序是从右向左???不是，每一个参数不同，不是变参!!!!!!!!!!!"
   ]
  },
  {
   "cell_type": "code",
   "execution_count": 38,
   "metadata": {},
   "outputs": [
    {
     "name": "stdout",
     "output_type": "stream",
     "text": [
      "0.0641486160166096\n",
      "0.04939826898043975\n"
     ]
    }
   ],
   "source": [
    "from timeit import Timer\n",
    "#对比两种赋值方式的效率\n",
    "print(Timer('t=a;a=b;b=t','a=1;b=2').timeit())\n",
    "print(Timer('a,b=b,a','a=1;b=2').timeit())\n",
    "# print(Timer('a,b=b,a').timeit())UnboundLocalError: local variable 'b' referenced before assignment\n",
    "# print(Timer('a=1;b=2','a,b=b,a').timeit())#UnboundLocalError: local variable 'b' referenced before assignment\n",
    "\n",
    "# print(Timer('t = b','b=a','a=c','c = 5').timeit())    exec(code, global_ns, local_ns)           TypeError: exec() globals must be a dict, not str\n",
    "# print(Timer('t=b','b=5','b=4').timeit())#TypeError: 'str' object is not callable\n",
    "# print(Timer(code='t=b',global_ns='b=5',local_ns='b=4').timeit())TypeError: __init__() got an unexpected keyword argument 'global_ns'\n",
    "# print(Timer(code='t=b',local_ns='b=4').timeit())TypeError: __init__() got an unexpected keyword argument 'local_ns'\n",
    "# print(Timer(code='t=b').timeit())TypeError: __init__() got an unexpected keyword argument 'code'\n",
    "#help(Timer)"
   ]
  },
  {
   "cell_type": "markdown",
   "metadata": {},
   "source": [
    "# 时间接口"
   ]
  },
  {
   "cell_type": "code",
   "execution_count": null,
   "metadata": {
    "collapsed": true
   },
   "outputs": [],
   "source": [
    "from time import time\n",
    "t = time()\n",
    "print(t,\"seconds since the Epoch\")\n",
    "start = time()\n",
    "for i in range(10000):\n",
    "    a = 8\n",
    "end = time()\n",
    "print('consume time:',end-start)"
   ]
  },
  {
   "cell_type": "markdown",
   "metadata": {},
   "source": [
    "# datetime 获取系统时间"
   ]
  },
  {
   "cell_type": "code",
   "execution_count": 19,
   "metadata": {},
   "outputs": [
    {
     "name": "stdout",
     "output_type": "stream",
     "text": [
      "2019-01-26\n",
      "2008-12-12\n",
      "01-26-19,26 Jan 2019 is a Saturday on the 26 day of January.\n",
      "1987-11-22\n",
      "<class 'datetime.timedelta'>\n",
      "11388\n",
      "11388 days, 0:00:00\n"
     ]
    }
   ],
   "source": [
    "from datetime import date\n",
    "now = date.today()\n",
    "print(now)\n",
    "yesterday = date(2008,12,12)\n",
    "print(yesterday)\n",
    "print(now.strftime('%m-%d-%y,%d %b %Y is a %A on the %d day of %B.'))\n",
    "\n",
    "birthday = date(1987,11,22)\n",
    "#birthday = date(1987,11,33)#ValueError: day is out of range for month\n",
    "print(birthday)\n",
    "age = now - birthday\n",
    "print(type(age))\n",
    "print(age.days)#只有days，microseconds，seconds，没有month之类的\n",
    "print(age)\n"
   ]
  },
  {
   "cell_type": "code",
   "execution_count": 22,
   "metadata": {
    "collapsed": true
   },
   "outputs": [],
   "source": [
    "# import datetime\n",
    "# help(datetime.timedelta)"
   ]
  },
  {
   "cell_type": "markdown",
   "metadata": {},
   "source": [
    "# unpacking"
   ]
  },
  {
   "cell_type": "code",
   "execution_count": 52,
   "metadata": {},
   "outputs": [
    {
     "name": "stdout",
     "output_type": "stream",
     "text": [
      "1 = one = I; 2 = two = II; 3 = three = III; 4 = four = IV; \n",
      "1 = one = I;2 = two = II;3 = three = III;4 = four = IV;('one', 1, 'I')\n",
      "<class 'tuple'>\n",
      "('two', 2, 'II')\n",
      "<class 'tuple'>\n",
      "('three', 3, 'III')\n",
      "<class 'tuple'>\n",
      "('four', 4, 'IV')\n",
      "<class 'tuple'>\n"
     ]
    }
   ],
   "source": [
    "\n",
    "nums = [\n",
    "    ('one', 1, 'I'),\n",
    "    ('two', 2, 'II'),\n",
    "    ('three', 3, 'III'),\n",
    "    ('four', 4, 'IV'),\n",
    "]\n",
    "#遍历打印，这种直接就把nums的元素unpack了,必须一一对应\n",
    "for word, integer, roman_numeral in nums:\n",
    "    print(integer, word, roman_numeral, sep=' = ', end='; ')\n",
    "print()\n",
    "#for word, integer, roman_numeral,b in nums:#ValueError: not enough values to unpack (expected 4, got 3)\n",
    "#for word, integer in nums:#ValueError: too many values to unpack (expected 2)\n",
    "\n",
    "#另一种方式遍历访问所有元素，其实就是把迭代器访问到的元素封装为tuple拿出。其实这是更常规的用法\n",
    "for tup in nums:\n",
    "    #print(type(tup))\n",
    "    word = tup[0]\n",
    "    integer = tup[1]\n",
    "    roman_numeral = tup[2]\n",
    "    print(integer,word,roman_numeral,sep=' = ',end = ';')\n",
    "for i in nums:\n",
    "    print(i)\n",
    "    print(type(i))"
   ]
  },
  {
   "cell_type": "markdown",
   "metadata": {},
   "source": [
    "# 数据压缩"
   ]
  },
  {
   "cell_type": "code",
   "execution_count": 6,
   "metadata": {},
   "outputs": [
    {
     "name": "stdout",
     "output_type": "stream",
     "text": [
      "b'witch which has which witches wrist watch' <class 'bytes'> 41\n",
      "37\n",
      "after compress: b'x\\x9c+\\xcf,I\\xceP(\\xcf\\xc8\\x04\\x92\\x19\\x89\\xc5PV9H4\\x15\\xc8+\\xca,.Q(O\\x04\\xf2\\x00D?\\x0f\\x89'\n",
      "after decompress: b'witch which has which witches wrist watch'\n",
      "41\n",
      "226805979\n"
     ]
    }
   ],
   "source": [
    "import zlib\n",
    "s = b'witch which has which witches wrist watch'\n",
    "print((s),type(s),len(s))\n",
    "t = zlib.compress(s)\n",
    "print(len(t))\n",
    "print('after compress:',t)\n",
    "de = zlib.decompress(t)\n",
    "print('after decompress:',de)\n",
    "print(len(de))\n",
    "print(zlib.crc32(s))"
   ]
  },
  {
   "cell_type": "markdown",
   "metadata": {},
   "source": [
    "# zip\n",
    "zip操作的返回是zip，如果用来给list初始化，会被拆解成多个tuple。"
   ]
  },
  {
   "cell_type": "code",
   "execution_count": 64,
   "metadata": {},
   "outputs": [
    {
     "name": "stdout",
     "output_type": "stream",
     "text": [
      "<class 'zip'>\n"
     ]
    }
   ],
   "source": [
    "a = [1,2,3]\n",
    "b = [4,5,6]\n",
    "c = [7,8,9,10]\n",
    "print(type(zip(a,b)))\n",
    "#print(len(zip(a,b)))TypeError: object of type 'zip' has no len()"
   ]
  },
  {
   "cell_type": "code",
   "execution_count": 57,
   "metadata": {},
   "outputs": [
    {
     "name": "stdout",
     "output_type": "stream",
     "text": [
      "[(1, 4), (2, 5), (3, 6)]\n",
      "(1, 4)\n",
      "<class 'tuple'>\n"
     ]
    }
   ],
   "source": [
    "#给list()传入zip来初始化，list中每个元素实际是一个tuple，是zip的a和b的对应元素共同组成的\n",
    "list1 = list(zip(a,b))\n",
    "print(list1)\n",
    "print(list1[0])\n",
    "print(type(list1[0]))"
   ]
  },
  {
   "cell_type": "code",
   "execution_count": 58,
   "metadata": {},
   "outputs": [
    {
     "name": "stdout",
     "output_type": "stream",
     "text": [
      "[(1, 7), (2, 8), (3, 9)]\n",
      "[(7, 1), (8, 2), (9, 3)]\n"
     ]
    }
   ],
   "source": [
    "#对照组：c的数据更多，但是被消除了，以短的为准\n",
    "list1 = list(zip(a,c))#给list()传入zip来初始化\n",
    "print(list1)\n",
    "list1 = list(zip(c,a))#给list()传入zip来初始化\n",
    "print(list1)\n",
    "list1 = list(zip(a,b,c))#给list()传入zip来初始化\n",
    "print(list1)"
   ]
  },
  {
   "cell_type": "code",
   "execution_count": 59,
   "metadata": {},
   "outputs": [
    {
     "name": "stdout",
     "output_type": "stream",
     "text": [
      "[(1, 4, 7), (2, 5, 8), (3, 6, 9)]\n"
     ]
    }
   ],
   "source": []
  },
  {
   "cell_type": "code",
   "execution_count": 60,
   "metadata": {},
   "outputs": [
    {
     "name": "stdout",
     "output_type": "stream",
     "text": [
      "1 4\n",
      "2 5\n",
      "3 6\n"
     ]
    }
   ],
   "source": [
    "for i,j in zip(a,b):\n",
    "\tprint(i,j)"
   ]
  },
  {
   "cell_type": "code",
   "execution_count": 61,
   "metadata": {},
   "outputs": [
    {
     "name": "stdout",
     "output_type": "stream",
     "text": [
      "[(1, 1, 4, 1), (2, 2, 5, 2), (3, 3, 6, 3)]\n"
     ]
    }
   ],
   "source": [
    "list2 = list(zip(a,a,b,a))#重复使用\n",
    "print(list2)"
   ]
  },
  {
   "cell_type": "code",
   "execution_count": 62,
   "metadata": {},
   "outputs": [
    {
     "ename": "AttributeError",
     "evalue": "'list' object has no attribute 'zip'",
     "output_type": "error",
     "traceback": [
      "\u001b[0;31m---------------------------------------------------------------------------\u001b[0m",
      "\u001b[0;31mAttributeError\u001b[0m                            Traceback (most recent call last)",
      "\u001b[0;32m<ipython-input-62-6835abe31a8e>\u001b[0m in \u001b[0;36m<module>\u001b[0;34m()\u001b[0m\n\u001b[0;32m----> 1\u001b[0;31m \u001b[0mlist5\u001b[0m\u001b[0;34m=\u001b[0m \u001b[0mlist\u001b[0m\u001b[0;34m(\u001b[0m\u001b[0ma\u001b[0m\u001b[0;34m.\u001b[0m\u001b[0mzip\u001b[0m\u001b[0;34m(\u001b[0m\u001b[0mc\u001b[0m\u001b[0;34m)\u001b[0m\u001b[0;34m)\u001b[0m\u001b[0;34m\u001b[0m\u001b[0m\n\u001b[0m\u001b[1;32m      2\u001b[0m \u001b[0mprint\u001b[0m\u001b[0;34m(\u001b[0m\u001b[0mlist5\u001b[0m\u001b[0;34m)\u001b[0m\u001b[0;34m\u001b[0m\u001b[0m\n",
      "\u001b[0;31mAttributeError\u001b[0m: 'list' object has no attribute 'zip'"
     ]
    }
   ],
   "source": [
    "# list5= list(a.zip(c))#AttributeError: 'list' object has no attribute 'zip'\n",
    "# print(list5)"
   ]
  },
  {
   "cell_type": "code",
   "execution_count": null,
   "metadata": {
    "collapsed": true
   },
   "outputs": [],
   "source": []
  },
  {
   "cell_type": "markdown",
   "metadata": {},
   "source": [
    "# Python3 标准库概览"
   ]
  },
  {
   "cell_type": "code",
   "execution_count": 28,
   "metadata": {},
   "outputs": [
    {
     "name": "stdout",
     "output_type": "stream",
     "text": [
      "/home/qw/Documents/python_test_has_updated_to_git\n",
      "['waitid_result', 'waitpid', 'walk', 'write', 'writev']\n"
     ]
    }
   ],
   "source": [
    "import os\n",
    "print(os.getcwd())\n",
    "# os.system('mkdir new_dir')\n",
    "# os.chdir('/root')\n",
    "# print(os.getcwd())\n",
    "\n",
    "print(dir(os)[-5:])\n",
    "#print(help(os))"
   ]
  },
  {
   "cell_type": "code",
   "execution_count": 23,
   "metadata": {},
   "outputs": [
    {
     "name": "stdout",
     "output_type": "stream",
     "text": [
      "sys.argv: ['/home/qw/anaconda3/envs/py36/lib/python3.6/site-packages/ipykernel_launcher.py', '-f', '/run/user/1000/jupyter/kernel-c51579e7-14af-46e8-90a5-c3f20a11078c.json']\n"
     ]
    }
   ],
   "source": [
    "import sys\n",
    "print('sys.argv:',sys.argv)\n",
    "# sys.stderr.write('Warning, log file not found starting a new one\\n')"
   ]
  },
  {
   "cell_type": "code",
   "execution_count": 24,
   "metadata": {},
   "outputs": [
    {
     "name": "stdout",
     "output_type": "stream",
     "text": [
      "['argument2.py', 'argparse.py', 'tensorflow_test.py', 'argument.py', 'lambda.py', 'pandas_demo1.py', 'char_operation.py', 'list_comprehensions.py', 'python_str_unicode.py', 'plt_contour.py', 'os_path_join.py', 'python_m.py', 'unpacking.py', 'as_integer_ratio.py', 'standard_lib.py', 'zip.py']\n"
     ]
    }
   ],
   "source": [
    "import glob\n",
    "print(glob.glob('*.py'))"
   ]
  },
  {
   "cell_type": "code",
   "execution_count": 29,
   "metadata": {},
   "outputs": [
    {
     "name": "stdout",
     "output_type": "stream",
     "text": [
      "['foot', 'fell', 'fastest']\n",
      "cat in the hat\n",
      "tea for two\n"
     ]
    }
   ],
   "source": [
    "import re\n",
    "print(re.findall(r'\\bf[a-z]*','which foot or hand fell fastest'))\n",
    "print(re.sub(r'(\\b[a-z]+) \\1',r'\\1','cat in the the hat'))\n",
    "print('tea for too'.replace('too','two'))"
   ]
  },
  {
   "cell_type": "code",
   "execution_count": 30,
   "metadata": {},
   "outputs": [
    {
     "data": {
      "text/plain": [
       "TestResults(failed=0, attempted=0)"
      ]
     },
     "execution_count": 30,
     "metadata": {},
     "output_type": "execute_result"
    }
   ],
   "source": [
    "import doctest\n",
    "doctest.testmod()\n"
   ]
  },
  {
   "cell_type": "markdown",
   "metadata": {},
   "source": [
    "# urllib"
   ]
  },
  {
   "cell_type": "code",
   "execution_count": 53,
   "metadata": {},
   "outputs": [],
   "source": [
    "# #处理get请求，不传data，则为get请求\n",
    "#\n",
    "import urllib\n",
    "from urllib.request import urlopen\n",
    "from urllib.parse import urlencode\n",
    "\n",
    "url='http://www.baidu.com'\n",
    "data={\"username\":\"admin\",\"password\":123456}\n",
    "req_data=urlencode(data)#将字典类型的请求数据转变为url编码\n",
    "res=urlopen(url+'?'+req_data)#通过urlopen方法访问拼接好的url\n",
    "res=res.read().decode()#read()方法是读取返回数据内容，decode是转换返回数据的bytes格式为str\n",
    "\n",
    "#print(res)\n",
    "# #处理post请求,如果传了data，则为post请求\n",
    "#\n",
    "# import urllib\n",
    "# from urllib.request import Request\n",
    "# from urllib.parse import urlencode\n",
    "#\n",
    "# url='http://www.xxx.com/login'\n",
    "# data={\"username\":\"admin\",\"password\":123456}\n",
    "# data=urlencode(data)#将字典类型的请求数据转变为url编码\n",
    "# data=data.encode('ascii')#将url编码类型的请求数据转变为bytes类型\n",
    "# req_data=Request(url,data)#将url和请求数据处理为一个Request对象，供urlopen调用\n",
    "# with urlopen(req_data) as res:\n",
    "#     res=res.read().decode()#read()方法是读取返回数据内容，decode是转换返回数据的bytes格式为str\n",
    "#\n",
    "# print(res)\n"
   ]
  },
  {
   "cell_type": "markdown",
   "metadata": {
    "collapsed": true
   },
   "source": []
  },
  {
   "cell_type": "code",
   "execution_count": null,
   "metadata": {
    "collapsed": true
   },
   "outputs": [],
   "source": []
  },
  {
   "cell_type": "code",
   "execution_count": null,
   "metadata": {
    "collapsed": true
   },
   "outputs": [],
   "source": []
  },
  {
   "cell_type": "code",
   "execution_count": null,
   "metadata": {
    "collapsed": true
   },
   "outputs": [],
   "source": []
  }
 ],
 "metadata": {
  "kernelspec": {
   "display_name": "virtual py36",
   "language": "python",
   "name": "py36"
  },
  "language_info": {
   "codemirror_mode": {
    "name": "ipython",
    "version": 3
   },
   "file_extension": ".py",
   "mimetype": "text/x-python",
   "name": "python",
   "nbconvert_exporter": "python",
   "pygments_lexer": "ipython3",
   "version": "3.6.1"
  }
 },
 "nbformat": 4,
 "nbformat_minor": 2
}
