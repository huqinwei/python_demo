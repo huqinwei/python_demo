{
 "cells": [
  {
   "cell_type": "markdown",
   "metadata": {},
   "source": [
    "# 关于global的各种细节\n"
   ]
  },
  {
   "cell_type": "markdown",
   "metadata": {},
   "source": [
    "## 常规的，只在global声明"
   ]
  },
  {
   "cell_type": "code",
   "execution_count": 10,
   "metadata": {},
   "outputs": [
    {
     "name": "stdout",
     "output_type": "stream",
     "text": [
      "global id is  139752415914592\n",
      "in function f：\n",
      "\tvalue is  6\n",
      "\tand id is  139752415914592\n",
      "final id is 139752415914592\n",
      "final value: 6\n"
     ]
    }
   ],
   "source": [
    "#demo1\n",
    "a = 6\n",
    "print('global id is ',id(a))\n",
    "\n",
    "def f():\n",
    "    print('in function f：\\n\\tvalue is ',a)\n",
    "    print('\\tand id is ',id(a))\n",
    "\n",
    "f()\n",
    "print('final id is',id(a))\n",
    "print('final value:', a)"
   ]
  },
  {
   "cell_type": "markdown",
   "metadata": {},
   "source": [
    "## demo2顺序矛盾，只要有局部“声明or定义”操作，就不能在这声明之前引用，哪怕global已经定义过"
   ]
  },
  {
   "cell_type": "code",
   "execution_count": 11,
   "metadata": {},
   "outputs": [
    {
     "name": "stdout",
     "output_type": "stream",
     "text": [
      "global id is  139752415914592\n"
     ]
    },
    {
     "ename": "UnboundLocalError",
     "evalue": "local variable 'a' referenced before assignment",
     "output_type": "error",
     "traceback": [
      "\u001b[0;31m---------------------------------------------------------------------------\u001b[0m",
      "\u001b[0;31mUnboundLocalError\u001b[0m                         Traceback (most recent call last)",
      "\u001b[0;32m<ipython-input-11-1009c7fa76c1>\u001b[0m in \u001b[0;36m<module>\u001b[0;34m()\u001b[0m\n\u001b[1;32m     11\u001b[0m     \u001b[0mprint\u001b[0m\u001b[0;34m(\u001b[0m\u001b[0;34m'\\tand id is '\u001b[0m\u001b[0;34m,\u001b[0m\u001b[0mid\u001b[0m\u001b[0;34m(\u001b[0m\u001b[0ma\u001b[0m\u001b[0;34m)\u001b[0m\u001b[0;34m)\u001b[0m\u001b[0;34m\u001b[0m\u001b[0m\n\u001b[1;32m     12\u001b[0m \u001b[0;34m\u001b[0m\u001b[0m\n\u001b[0;32m---> 13\u001b[0;31m \u001b[0mf\u001b[0m\u001b[0;34m(\u001b[0m\u001b[0;34m)\u001b[0m\u001b[0;34m\u001b[0m\u001b[0m\n\u001b[0m\u001b[1;32m     14\u001b[0m \u001b[0mprint\u001b[0m\u001b[0;34m(\u001b[0m\u001b[0;34m'final id is'\u001b[0m\u001b[0;34m,\u001b[0m\u001b[0mid\u001b[0m\u001b[0;34m(\u001b[0m\u001b[0ma\u001b[0m\u001b[0;34m)\u001b[0m\u001b[0;34m)\u001b[0m\u001b[0;34m\u001b[0m\u001b[0m\n\u001b[1;32m     15\u001b[0m \u001b[0mprint\u001b[0m\u001b[0;34m(\u001b[0m\u001b[0;34m'final value:'\u001b[0m\u001b[0;34m,\u001b[0m \u001b[0ma\u001b[0m\u001b[0;34m)\u001b[0m\u001b[0;34m\u001b[0m\u001b[0m\n",
      "\u001b[0;32m<ipython-input-11-1009c7fa76c1>\u001b[0m in \u001b[0;36mf\u001b[0;34m()\u001b[0m\n\u001b[1;32m      5\u001b[0m \u001b[0;34m\u001b[0m\u001b[0m\n\u001b[1;32m      6\u001b[0m \u001b[0;32mdef\u001b[0m \u001b[0mf\u001b[0m\u001b[0;34m(\u001b[0m\u001b[0;34m)\u001b[0m\u001b[0;34m:\u001b[0m\u001b[0;34m\u001b[0m\u001b[0m\n\u001b[0;32m----> 7\u001b[0;31m     \u001b[0mprint\u001b[0m\u001b[0;34m(\u001b[0m\u001b[0;34m'in function f：\\n\\tvalue is '\u001b[0m\u001b[0;34m,\u001b[0m\u001b[0ma\u001b[0m\u001b[0;34m)\u001b[0m\u001b[0;34m\u001b[0m\u001b[0m\n\u001b[0m\u001b[1;32m      8\u001b[0m     \u001b[0mprint\u001b[0m\u001b[0;34m(\u001b[0m\u001b[0;34m'\\tand id is '\u001b[0m\u001b[0;34m,\u001b[0m\u001b[0mid\u001b[0m\u001b[0;34m(\u001b[0m\u001b[0ma\u001b[0m\u001b[0;34m)\u001b[0m\u001b[0;34m)\u001b[0m\u001b[0;34m\u001b[0m\u001b[0m\n\u001b[1;32m      9\u001b[0m     \u001b[0ma\u001b[0m \u001b[0;34m=\u001b[0m \u001b[0;36m3\u001b[0m\u001b[0;31m#wrong position\u001b[0m\u001b[0;34m\u001b[0m\u001b[0m\n",
      "\u001b[0;31mUnboundLocalError\u001b[0m: local variable 'a' referenced before assignment"
     ]
    }
   ],
   "source": [
    "a = 6\n",
    "print('global id is ',id(a))\n",
    "\n",
    "def f():\n",
    "    print('in function f：\\n\\tvalue is ',a)\n",
    "    print('\\tand id is ',id(a))\n",
    "    a = 3#UnboundLocalError: local variable 'a' referenced before assignment\n",
    "    print('after assign：\\n\\tvalue is ',a)\n",
    "    print('\\tand id is ',id(a))\n",
    "\n",
    "f()\n",
    "print('final id is',id(a))\n",
    "print('final value:', a)\n"
   ]
  },
  {
   "cell_type": "markdown",
   "metadata": {},
   "source": [
    "## demo3：调整顺序，先进行局部定义，id也随之改变，外部不受影响"
   ]
  },
  {
   "cell_type": "code",
   "execution_count": 12,
   "metadata": {},
   "outputs": [
    {
     "name": "stdout",
     "output_type": "stream",
     "text": [
      "global id is  139752415914592\n",
      "after assign：\n",
      "\tvalue is  3\n",
      "\tand id is  139752415914496\n",
      "final id is 139752415914592\n",
      "final value: 6\n"
     ]
    }
   ],
   "source": [
    "a = 6\n",
    "print('global id is ',id(a))\n",
    "\n",
    "def f():\n",
    "    a = 3#UnboundLocalError: local variable 'a' referenced before assignment\n",
    "    print('after assign：\\n\\tvalue is ',a)\n",
    "    print('\\tand id is ',id(a))\n",
    "\n",
    "f()\n",
    "print('final id is',id(a))\n",
    "print('final value:', a)"
   ]
  },
  {
   "cell_type": "markdown",
   "metadata": {},
   "source": [
    "## demo4：错误用法，in local scope:用global声明a也不能先引用,我记得好像可以的！！！！！！！！！"
   ]
  },
  {
   "cell_type": "code",
   "execution_count": 13,
   "metadata": {},
   "outputs": [
    {
     "name": "stdout",
     "output_type": "stream",
     "text": [
      "global id is  139752415914592\n"
     ]
    },
    {
     "ename": "SyntaxError",
     "evalue": "name 'a' is used prior to global declaration (<ipython-input-13-251ce4290c85>, line 7)",
     "output_type": "error",
     "traceback": [
      "\u001b[0;36m  File \u001b[0;32m\"<ipython-input-13-251ce4290c85>\"\u001b[0;36m, line \u001b[0;32m7\u001b[0m\n\u001b[0;31m    global a#UnboundLocalError: local variable 'a' referenced before assignment\u001b[0m\n\u001b[0m    ^\u001b[0m\n\u001b[0;31mSyntaxError\u001b[0m\u001b[0;31m:\u001b[0m name 'a' is used prior to global declaration\n"
     ]
    }
   ],
   "source": [
    "a = 6\n",
    "print('global id is ',id(a))\n",
    "\n",
    "def f():\n",
    "    print('in function f：\\n\\tvalue is ',a)\n",
    "    print('\\tand id is ',id(a))\n",
    "    global a#UnboundLocalError: local variable 'a' referenced before assignment\n",
    "    print('after assign：\\n\\tvalue is ',a)\n",
    "    print('\\tand id is ',id(a))\n",
    "\n",
    "f()\n",
    "print('final id is',id(a))\n",
    "print('final value:', a)\n"
   ]
  },
  {
   "cell_type": "markdown",
   "metadata": {},
   "source": [
    "## demo5：in local scope:assign before global declare"
   ]
  },
  {
   "cell_type": "code",
   "execution_count": 23,
   "metadata": {},
   "outputs": [
    {
     "name": "stdout",
     "output_type": "stream",
     "text": [
      "global id is  139752415914592\n"
     ]
    },
    {
     "ename": "SyntaxError",
     "evalue": "name 'a' is used prior to global declaration (<ipython-input-23-87f8134560ec>, line 8)",
     "output_type": "error",
     "traceback": [
      "\u001b[0;36m  File \u001b[0;32m\"<ipython-input-23-87f8134560ec>\"\u001b[0;36m, line \u001b[0;32m8\u001b[0m\n\u001b[0;31m    global a#UnboundLocalError: local variable 'a' referenced before assignment\u001b[0m\n\u001b[0m    ^\u001b[0m\n\u001b[0;31mSyntaxError\u001b[0m\u001b[0;31m:\u001b[0m name 'a' is used prior to global declaration\n"
     ]
    }
   ],
   "source": [
    "a = 6\n",
    "print('global id is ',id(a))\n",
    "\n",
    "def f():\n",
    "    a = 1\n",
    "    print('in function f：\\n\\tvalue is ',a)\n",
    "    print('\\tand id is ',id(a))\n",
    "    global a#UnboundLocalError: local variable 'a' referenced before assignment\n",
    "    print('after assign：\\n\\tvalue is ',a)\n",
    "    print('\\tand id is ',id(a))\n",
    "\n",
    "f()\n",
    "print('final id is',id(a))\n",
    "print('final value:', a)\n"
   ]
  },
  {
   "cell_type": "markdown",
   "metadata": {},
   "source": [
    "## 常规用法：用普通声明只覆盖local范围，返回global，a不变"
   ]
  },
  {
   "cell_type": "code",
   "execution_count": 22,
   "metadata": {},
   "outputs": [
    {
     "name": "stdout",
     "output_type": "stream",
     "text": [
      "global id is  139752415914592\n",
      "in function f：\n",
      "\tvalue is  1\n",
      "\tand id is  139752415914432\n",
      "after assign：\n",
      "\tvalue is  2\n",
      "\tand id is  139752415914464\n",
      "final id is 139752415914592\n",
      "final value: 6\n"
     ]
    }
   ],
   "source": [
    "#demo6\n",
    "#just assign in local\n",
    "a = 6\n",
    "print('global id is ',id(a))\n",
    "\n",
    "def f():\n",
    "    a = 1\n",
    "    print('in function f：\\n\\tvalue is ',a)\n",
    "    print('\\tand id is ',id(a))\n",
    "    a = 2\n",
    "    print('after assign：\\n\\tvalue is ',a)\n",
    "    print('\\tand id is ',id(a))\n",
    "\n",
    "f()\n",
    "print('final id is',id(a))\n",
    "print('final value:', a)"
   ]
  },
  {
   "cell_type": "markdown",
   "metadata": {},
   "source": [
    "# 作用域链\n",
    " "
   ]
  },
  {
   "cell_type": "code",
   "execution_count": 25,
   "metadata": {},
   "outputs": [
    {
     "name": "stdout",
     "output_type": "stream",
     "text": [
      "Snor\n",
      "final name: lzl\n"
     ]
    }
   ],
   "source": [
    "\n",
    "name = \"lzl\"\n",
    "def f1():\n",
    "    name = \"Eric\"\n",
    "    def f2():\n",
    "        name = \"Snor\"\n",
    "        print(name)\n",
    "    f2()\n",
    "f1()\n",
    "print('final name:',name)"
   ]
  },
  {
   "cell_type": "code",
   "execution_count": 26,
   "metadata": {},
   "outputs": [
    {
     "name": "stdout",
     "output_type": "stream",
     "text": [
      "9\n"
     ]
    }
   ],
   "source": []
  },
  {
   "cell_type": "markdown",
   "metadata": {},
   "source": [
    "## 局部作用域:函数的局部和if的局部含义不同（注意重名变量先重启kernel）"
   ]
  },
  {
   "cell_type": "code",
   "execution_count": null,
   "metadata": {
    "collapsed": true
   },
   "outputs": [],
   "source": [
    "#块级作用域\n",
    "for i in range(10):\n",
    "    age = i\n",
    "print(age)"
   ]
  },
  {
   "cell_type": "code",
   "execution_count": null,
   "metadata": {
    "collapsed": true
   },
   "outputs": [],
   "source": [
    "# 局部作用域：这个不执行，当然没意义\n",
    "def  func():\n",
    "    name = \"lzl\"\n",
    " print(name)"
   ]
  },
  {
   "cell_type": "code",
   "execution_count": 4,
   "metadata": {},
   "outputs": [
    {
     "ename": "NameError",
     "evalue": "name 'name' is not defined",
     "output_type": "error",
     "traceback": [
      "\u001b[0;31m---------------------------------------------------------------------------\u001b[0m",
      "\u001b[0;31mNameError\u001b[0m                                 Traceback (most recent call last)",
      "\u001b[0;32m<ipython-input-4-a01b893cd1b5>\u001b[0m in \u001b[0;36m<module>\u001b[0;34m()\u001b[0m\n\u001b[1;32m      6\u001b[0m \u001b[0;34m\u001b[0m\u001b[0m\n\u001b[1;32m      7\u001b[0m \u001b[0mfunc\u001b[0m\u001b[0;34m(\u001b[0m\u001b[0;34m)\u001b[0m          \u001b[0;31m#执行函数\u001b[0m\u001b[0;34m\u001b[0m\u001b[0m\n\u001b[0;32m----> 8\u001b[0;31m \u001b[0mprint\u001b[0m\u001b[0;34m(\u001b[0m\u001b[0mname\u001b[0m\u001b[0;34m)\u001b[0m\u001b[0;34m\u001b[0m\u001b[0m\n\u001b[0m",
      "\u001b[0;31mNameError\u001b[0m: name 'name' is not defined"
     ]
    }
   ],
   "source": [
    "#局部作用域：这个执行了，但是仍然受限于局部作用域\n",
    " \n",
    "def  func():\n",
    "    name = \"lzl\"\n",
    " \n",
    "func()          #执行函数\n",
    "print(name)"
   ]
  },
  {
   "cell_type": "markdown",
   "metadata": {},
   "source": [
    "## 终极版作用域：这是作用域链，向上逐层找?并不是！！！！直接找global"
   ]
  },
  {
   "cell_type": "code",
   "execution_count": 2,
   "metadata": {},
   "outputs": [
    {
     "name": "stdout",
     "output_type": "stream",
     "text": [
      "name: hqw\n",
      "name2: hqw\n"
     ]
    }
   ],
   "source": [
    "\n",
    " \n",
    "name = \"hqw\"\n",
    "name2 = 'hqw'\n",
    " \n",
    "def f1():\n",
    "    print('name:',name)\n",
    "    print('name2:',name2)\n",
    " \n",
    "def f2():\n",
    "    name = \"eric\"\n",
    "    f1()\n",
    " \n",
    "f2()"
   ]
  },
  {
   "cell_type": "markdown",
   "metadata": {},
   "source": [
    "### 等效分解示例"
   ]
  },
  {
   "cell_type": "code",
   "execution_count": 3,
   "metadata": {},
   "outputs": [
    {
     "name": "stdout",
     "output_type": "stream",
     "text": [
      "qqq\n"
     ]
    }
   ],
   "source": [
    "name = \"qqq\"\n",
    " \n",
    "def f1():\n",
    "    print(name)\n",
    " \n",
    "def f2():\n",
    "    name = \"eric\"\n",
    "    return f1\n",
    " \n",
    "ret = f2()\n",
    "ret()"
   ]
  },
  {
   "cell_type": "code",
   "execution_count": null,
   "metadata": {
    "collapsed": true
   },
   "outputs": [],
   "source": [
    "\n",
    "# 变量作用域\n",
    "# Python 中，程序的变量并不是在哪个位置都可以访问的，访问权限决定于这个变量是在哪里赋值的。\n",
    "#\n",
    "# 变量的作用域决定了在哪一部分程序可以访问哪个特定的变量名称。Python的作用域一共有4种，分别是：\n",
    "#\n",
    "# L （Local） 局部作用域\n",
    "# E （Enclosing） 闭包函数外的函数中\n",
    "# G （Global） 全局作用域\n",
    "# B （Built-in） 内建作用域\n",
    "# 以 L –> E –> G –>B 的规则查找，即：在局部找不到，便会去局部外的局部找（例如闭包），再找不到就会去全局找，再者去内建中找。\n",
    "\n",
    "x = int(2.9)#B\n",
    "g_count = 0#G\n",
    "def outer():\n",
    "    o_count = 1#E          这个好像不是固定的，可以多层吧，总之是最近的那个？\n",
    "    def inner():\n",
    "        i_count = 2#L\n",
    "\n",
    "#Python 中只有模块（module），类（class）以及函数（def、lambda）才会引入新的作用域，其它的代码块（如 if/elif/else/、try/except、for/while等）是不会引入新的作用域的，也就是说这些语句内定义的变量，外部也可以访问，如下代码：\n",
    "\n",
    "if True:\n",
    "    msg = 'im groot'\n",
    "print(msg)\n",
    "\n",
    "def test():\n",
    "    msg2 = 'im batman'\n",
    "# print(msg2)#NameError: name 'msg2' is not defined\n",
    "\n",
    "total = 0\n",
    "def sum(arg1,arg2):\n",
    "    total = arg1+arg2\n",
    "    print('in func:',total)\n",
    "    return total\n",
    "sum(10,20)\n",
    "print('out:',total)\n",
    "total = sum(10,20)\n",
    "print('out:',total)\n",
    "\n",
    "\n",
    "\n",
    "# global 和 nonlocal关键字\n",
    "# 当内部作用域想修改外部作用域的变量时，就要用到global和nonlocal关键字了。\n",
    "#原来这个操作也不是不可以有\n",
    "#其实就是让内部直接用global了\n",
    "\n",
    "num = 1\n",
    "\n",
    "def fun1():\n",
    "    global num\n",
    "    print('inner,before change:',id(num),num)\n",
    "    num = 123\n",
    "    print('inner,after:',id(num),num)\n",
    "fun1()\n",
    "print('outter:',id(num),num)\n",
    "\n",
    "#对照组，不改变外部\n",
    "num=1\n",
    "def fun2(num):\n",
    "    print('inner,before change:',id(num),num)\n",
    "    num = 123\n",
    "    print('inner,after:',id(num),num)\n",
    "fun2(num)\n",
    "print('outter:',id(num),num)\n",
    "\n",
    "\n",
    "\n",
    "#如果要修改嵌套作用域（enclosing 作用域，外层非全局作用域）中的变量则需要 nonlocal 关键字了\n",
    "\n",
    "def outer():\n",
    "    num = 10\n",
    "    def inner():\n",
    "        nonlocal num\n",
    "        num = 100\n",
    "        print('inner:',num)\n",
    "    inner()\n",
    "    print('outer:',num)\n",
    "outer()\n",
    "#对照组，不改变外部\n",
    "def outer2():\n",
    "    num = 10\n",
    "    def inner():\n",
    "        num = 100\n",
    "        print('inner:',num)\n",
    "    inner()\n",
    "    print('outer:',num)\n",
    "outer2()\n",
    "\n",
    "\n",
    "\n",
    "a = 10\n",
    "def test():\n",
    "    a = a + 1#这两个一个报错，一个虽然没报错，执行也不正常\n",
    "    # a += 1\n",
    "    print(a)\n",
    "def test2(a):#对照组\n",
    "    a = a + 1\n",
    "    # a += 1\n",
    "    print(a)\n",
    "# test()\n",
    "test2(4)\n",
    "\n",
    "\n",
    "\n",
    "\n"
   ]
  },
  {
   "cell_type": "code",
   "execution_count": null,
   "metadata": {
    "collapsed": true
   },
   "outputs": [],
   "source": []
  },
  {
   "cell_type": "code",
   "execution_count": null,
   "metadata": {
    "collapsed": true
   },
   "outputs": [],
   "source": []
  },
  {
   "cell_type": "code",
   "execution_count": null,
   "metadata": {
    "collapsed": true
   },
   "outputs": [],
   "source": []
  },
  {
   "cell_type": "markdown",
   "metadata": {},
   "source": []
  }
 ],
 "metadata": {
  "kernelspec": {
   "display_name": "virtual py36",
   "language": "python",
   "name": "py36"
  },
  "language_info": {
   "codemirror_mode": {
    "name": "ipython",
    "version": 3
   },
   "file_extension": ".py",
   "mimetype": "text/x-python",
   "name": "python",
   "nbconvert_exporter": "python",
   "pygments_lexer": "ipython3",
   "version": "3.6.1"
  }
 },
 "nbformat": 4,
 "nbformat_minor": 2
}
