{
 "cells": [
  {
   "cell_type": "markdown",
   "metadata": {},
   "source": [
    "# 文件接口的使用"
   ]
  },
  {
   "cell_type": "code",
   "execution_count": 1,
   "metadata": {
    "collapsed": true
   },
   "outputs": [],
   "source": [
    "with open('3lines','w') as file:\n",
    "    file.write('first line\\nsecond line\\n final line\\n')"
   ]
  },
  {
   "cell_type": "code",
   "execution_count": 2,
   "metadata": {},
   "outputs": [
    {
     "name": "stdout",
     "output_type": "stream",
     "text": [
      "first line\n",
      "second line\n",
      " final line\n",
      "\n"
     ]
    }
   ],
   "source": [
    "with open('3lines', 'r') as file:\n",
    "    print(file.read())"
   ]
  },
  {
   "cell_type": "code",
   "execution_count": 3,
   "metadata": {},
   "outputs": [
    {
     "name": "stdout",
     "output_type": "stream",
     "text": [
      "['first line\\n', 'second line\\n', ' final line\\n']\n"
     ]
    }
   ],
   "source": [
    "with open('3lines', 'r') as file:\n",
    "    print(file.readlines())"
   ]
  },
  {
   "cell_type": "code",
   "execution_count": 5,
   "metadata": {},
   "outputs": [
    {
     "name": "stdout",
     "output_type": "stream",
     "text": [
      "['first line\\n', 'second line\\n', ' final line\\n']\n",
      "<class 'str'>\n"
     ]
    }
   ],
   "source": [
    "with open('3lines', 'r') as file:\n",
    "    print(file.readlines())\n",
    "    print(type(file.readline()))"
   ]
  },
  {
   "cell_type": "code",
   "execution_count": 6,
   "metadata": {
    "collapsed": true
   },
   "outputs": [],
   "source": [
    "with open('3lines','a') as file:\n",
    "    file.write('fourth line\\n')"
   ]
  },
  {
   "cell_type": "markdown",
   "metadata": {},
   "source": [
    "## 另一种写法，不用with，其实差不多，"
   ]
  },
  {
   "cell_type": "code",
   "execution_count": 10,
   "metadata": {},
   "outputs": [
    {
     "name": "stdout",
     "output_type": "stream",
     "text": [
      "ret is  11\n",
      "f is  <_io.TextIOWrapper name='this_is_a_file' mode='w' encoding='UTF-8'>\n"
     ]
    }
   ],
   "source": [
    "f = open('this_is_a_file', 'w')\n",
    "ret = f.write('hello files')#返回写入字符数量\n",
    "print('ret is ',ret)\n",
    "print('f is ',f)\n",
    "f.close()\n",
    "#f.write('hello')#ValueError: I/O operation on closed file."
   ]
  },
  {
   "cell_type": "code",
   "execution_count": 12,
   "metadata": {},
   "outputs": [
    {
     "name": "stdout",
     "output_type": "stream",
     "text": [
      "hello files\n",
      "\n"
     ]
    }
   ],
   "source": [
    "f = open('this_is_a_file','r')\n",
    "line1 = f.read()\n",
    "print(line1)"
   ]
  },
  {
   "cell_type": "code",
   "execution_count": 14,
   "metadata": {},
   "outputs": [
    {
     "name": "stdout",
     "output_type": "stream",
     "text": [
      "hell\n",
      "o \n",
      "fi\n"
     ]
    }
   ],
   "source": [
    "#读入指定数量字符，并且是读完就清掉的，再读是后边的。\n",
    "f = open('this_is_a_file','r')\n",
    "print(f.read(4))\n",
    "print(f.read(2))\n",
    "print(f.read(2))"
   ]
  },
  {
   "cell_type": "code",
   "execution_count": 16,
   "metadata": {},
   "outputs": [
    {
     "data": {
      "text/plain": [
       "['hello files']"
      ]
     },
     "execution_count": 16,
     "metadata": {},
     "output_type": "execute_result"
    }
   ],
   "source": [
    "f = open('this_is_a_file','r')\n",
    "#f.readline()\n",
    "f.readlines()"
   ]
  },
  {
   "cell_type": "markdown",
   "metadata": {},
   "source": [
    "## 如果要写入一些不是字符串的东西, 那么将需要先进行转换:"
   ]
  },
  {
   "cell_type": "code",
   "execution_count": 23,
   "metadata": {},
   "outputs": [
    {
     "name": "stdout",
     "output_type": "stream",
     "text": [
      "('wqqm', 4)\n"
     ]
    }
   ],
   "source": [
    "# 打开一个文件\n",
    "f = open(\"write_some_structure.txt\", \"w\")\n",
    "value = ('wqqm', 4)\n",
    "s = str(value)#将tuple转车工呢字符串形式\n",
    "print(s)\n",
    "f.write(s)\n",
    "\n",
    "value = {'wqqm': 4}#TypeError: write() argument must be str, not dict\n",
    "s = str(value)\n",
    "f.write(s)#\n",
    "f.close()\n"
   ]
  },
  {
   "cell_type": "code",
   "execution_count": null,
   "metadata": {
    "collapsed": true
   },
   "outputs": [],
   "source": []
  },
  {
   "cell_type": "code",
   "execution_count": null,
   "metadata": {
    "collapsed": true
   },
   "outputs": [],
   "source": []
  }
 ],
 "metadata": {
  "kernelspec": {
   "display_name": "virtual py36",
   "language": "python",
   "name": "py36"
  },
  "language_info": {
   "codemirror_mode": {
    "name": "ipython",
    "version": 3
   },
   "file_extension": ".py",
   "mimetype": "text/x-python",
   "name": "python",
   "nbconvert_exporter": "python",
   "pygments_lexer": "ipython3",
   "version": "3.6.1"
  }
 },
 "nbformat": 4,
 "nbformat_minor": 2
}
