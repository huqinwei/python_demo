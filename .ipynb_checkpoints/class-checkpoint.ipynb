{
 "cells": [
  {
   "cell_type": "code",
   "execution_count": null,
   "metadata": {
    "collapsed": true
   },
   "outputs": [],
   "source": []
  },
  {
   "cell_type": "code",
   "execution_count": null,
   "metadata": {
    "collapsed": true
   },
   "outputs": [],
   "source": []
  },
  {
   "cell_type": "code",
   "execution_count": 8,
   "metadata": {},
   "outputs": [
    {
     "name": "stdout",
     "output_type": "stream",
     "text": [
      "type of ref cat is  <class 'type'>\n",
      "dog\n",
      "dog\n",
      "<class '__main__.animal'>\n",
      "human\n",
      "human\n"
     ]
    }
   ],
   "source": [
    "class animal:\n",
    "\n",
    "    live_position = 'land'\n",
    "    def what_am_i(self):\n",
    "#\t\tprint(name)#error\n",
    "        return self.__name\n",
    "    def what_am_i2(self,b):\n",
    "        return self.__name\n",
    "#\tdef animal(stri):\n",
    "#\t\tself.name = stri\n",
    "    def __init__(self,string):\n",
    "        self.__name = string\n",
    "    #private这个声明放什么位置都不影响！吧？\n",
    "    __name = 'dog'\n",
    "\n",
    "cat = animal\n",
    "print('type of ref cat is ',type(cat))#cat是个引用，不是对象，后边的调用等于直接静态访问。\n",
    "print(animal.what_am_i(cat))\n",
    "#print(cat.what_am_i())\n",
    "print(cat.what_am_i2(cat,'ss'))\n",
    "\n",
    "hum = animal('human')\n",
    "print(type(hum))\n",
    "print(animal.what_am_i(hum))\n",
    "print(hum.what_am_i())\n",
    "#print(hum.__name)#AttributeError: 'animal' object has no attribute '__name'\n"
   ]
  },
  {
   "cell_type": "code",
   "execution_count": null,
   "metadata": {
    "collapsed": true
   },
   "outputs": [],
   "source": []
  },
  {
   "cell_type": "code",
   "execution_count": null,
   "metadata": {
    "collapsed": true
   },
   "outputs": [],
   "source": []
  }
 ],
 "metadata": {
  "kernelspec": {
   "display_name": "virtual py36",
   "language": "python",
   "name": "py36"
  },
  "language_info": {
   "codemirror_mode": {
    "name": "ipython",
    "version": 3
   },
   "file_extension": ".py",
   "mimetype": "text/x-python",
   "name": "python",
   "nbconvert_exporter": "python",
   "pygments_lexer": "ipython3",
   "version": "3.6.1"
  }
 },
 "nbformat": 4,
 "nbformat_minor": 2
}
