{
 "cells": [
  {
   "cell_type": "markdown",
   "metadata": {},
   "source": [
    "# 循环控制"
   ]
  },
  {
   "cell_type": "code",
   "execution_count": 4,
   "metadata": {},
   "outputs": [
    {
     "name": "stdout",
     "output_type": "stream",
     "text": [
      "l is  [5, 222, 33, 124, 54, 1, 3]\n",
      "type(l) is  <class 'list'>\n",
      "l is  [1, 54, 3, 124, 222, 33, 5]\n",
      "type(l) is  <class 'list'>\n",
      "[1]\n",
      "[1, 54]\n",
      "[1, 54, 3]\n",
      "[1, 54, 3, 124]\n",
      "[1, 54, 3, 124, 222]\n",
      "[1, 54, 3, 124, 222, 33]\n",
      "[1, 54, 3, 124, 222, 33, 5]\n"
     ]
    }
   ],
   "source": [
    "#heapq并不改变list类型\n",
    "import heapq\n",
    "l = [5,222,33,124,54,1,3]\n",
    "print('l is ',l)\n",
    "print('type(l) is ',type(l))\n",
    "heapq.heapify(l)\n",
    "print('l is ',l)\n",
    "print('type(l) is ',type(l))\n",
    "\n",
    "\n",
    "l2 = []\n",
    "for i in range(len(l)):\n",
    "    heapq.heappush(l2,l[i])\n",
    "    print(l2)"
   ]
  },
  {
   "cell_type": "code",
   "execution_count": null,
   "metadata": {
    "collapsed": true
   },
   "outputs": [],
   "source": []
  },
  {
   "cell_type": "markdown",
   "metadata": {},
   "source": [
    "## for、while+else的特殊用法：不等于在for后直接写一句。"
   ]
  },
  {
   "cell_type": "code",
   "execution_count": 8,
   "metadata": {},
   "outputs": [
    {
     "name": "stdout",
     "output_type": "stream",
     "text": [
      "[2, 3, 4, 5]\n",
      "[2, 3, 4, 5]\n",
      "True\n",
      "2  is prime number\n",
      "3  is prime number\n",
      "4  equals to  2 * 2\n",
      "5  is prime number\n",
      "6  equals to  2 * 3\n",
      "7  is prime number\n",
      "8  equals to  2 * 4\n",
      "9  equals to  3 * 3\n",
      "count is  0\n",
      "count is  1\n",
      "count is  2\n",
      "count is  3\n",
      "count is  4\n",
      "count above or equals to 5\n",
      "val is  4\n",
      "val is  43\n",
      "val is  3\n",
      "val is  323\n"
     ]
    }
   ],
   "source": [
    "\n",
    "l1 = [4,43,3,323,3]\n",
    "# l1 = list(2,3,4,5)#takes 1 param but 4\n",
    "l1 = list((2,3,4,5))\n",
    "l2 = list(range(2,6))\n",
    "print(l1)\n",
    "print(l2)\n",
    "print(l1==l2)\n",
    "\n",
    "#循环语句可以有 else 子句，它在穷尽列表(以for循环)或条件变为 false (以while循环)导致循环终止时被执行,但循环被break终止时不执行。\n",
    "#终于找到用处了，break就可以不执行else了，而不只是在循环后边做一个无意义的善后，其实那个根本不需要占用else\n",
    "\n",
    "for n in range(2,10):\n",
    "    for x in range(2,n):\n",
    "        if n % x == 0:\n",
    "            print(n,' equals to ',x,'*',n//x)\n",
    "            break\n",
    "    else:\n",
    "        print(n,' is prime number')\n",
    "\n",
    "# pass 语句\n",
    "# Python pass是空语句，是为了保持程序结构的完整性。\n",
    "#我的理解就是让程序块完整吧，而不是语法报错\n",
    "# while True:\n",
    "#     pass\n",
    "\n",
    "count = 0\n",
    "while count < 5:\n",
    "    print('count is ',count)\n",
    "    count += 1\n",
    "else:\n",
    "    print('count above or equals to 5')\n",
    "    \n",
    "    flag = 5\n",
    "# while flag:print(flag)\n",
    "while flag:flag-=1\n",
    "\n",
    "l1 = [4,43,3,323,3]\n",
    "for x in l1:\n",
    "    print('val is ',x)\n",
    "    if x == 323:\n",
    "        break\n",
    "else:\n",
    "    print('loop end!')"
   ]
  },
  {
   "cell_type": "code",
   "execution_count": 7,
   "metadata": {},
   "outputs": [
    {
     "name": "stdout",
     "output_type": "stream",
     "text": [
      "0\n",
      "1\n",
      "2\n",
      "3\n",
      "4\n",
      "0\n",
      "33\n",
      "66\n",
      "99\n",
      "not none: 100\n",
      "not none: 67\n",
      "not none: 34\n",
      "not none: 1\n",
      "negative: -10\n",
      "negative: -40\n",
      "negative: -70\n",
      "negative too: -100\n",
      "negative too: -66\n",
      "negative too: -32\n"
     ]
    }
   ],
   "source": [
    "#各种for循环写法\n",
    "\n",
    "for i in range(3):\n",
    "    print(i)\n",
    "for i in range(3,5):\n",
    "    print(i)\n",
    "for i in range(0,100,33):\n",
    "    print(i)\n",
    "for i in range(100,0):\n",
    "    print('none:',i)\n",
    "for i in range(100,0,-33):\n",
    "    print('not none:',i)\n",
    "for i in range(-10,-100,-30):\n",
    "    print('negative:',i)\n",
    "for i in range(-10,-100,30):\n",
    "    print('negative too?',i)\n",
    "for i in range(-100,-10,34):\n",
    "    print('negative too:',i)"
   ]
  },
  {
   "cell_type": "code",
   "execution_count": 9,
   "metadata": {},
   "outputs": [
    {
     "name": "stdout",
     "output_type": "stream",
     "text": [
      "HELLO"
     ]
    }
   ],
   "source": [
    "s = 'steganograpHy is the practicE of conceaLing a file, message, image, or video within another fiLe, message, image, Or video.'\n",
    "msg = ''\n",
    "# print all the uppercase letters in s, one at a time\n",
    "for char in s:\n",
    "    if char.isupper():\n",
    "        print(char, end='')"
   ]
  },
  {
   "cell_type": "markdown",
   "metadata": {},
   "source": [
    "# iterator"
   ]
  },
  {
   "cell_type": "code",
   "execution_count": 17,
   "metadata": {},
   "outputs": [
    {
     "name": "stdout",
     "output_type": "stream",
     "text": [
      "<list_iterator object at 0x7f3ed5f26860>\n",
      "1\n",
      "2\n",
      "3\n",
      "<list_iterator object at 0x7f3ed5f26860>\n",
      "4 5 6 7 8 9 "
     ]
    }
   ],
   "source": [
    "l1 = [1,2,3,4,5,6,7,8,9]\n",
    "it = iter(l1)\n",
    "print(it)\n",
    "print(next(it))\n",
    "print(next(it))\n",
    "print(next(it))\n",
    "# print('next(l1):',next(l1))#TypeError: 'list' object is not an iterator\n",
    "#help(next)#next()的参数必须是iterator\n",
    "#迭代器对象it自身不变，但是指向会变\n",
    "print(it)\n",
    "#感觉迭代器像是个队列，next就像popleft\n",
    "for x in it:\n",
    "    print(x,end = ' ')"
   ]
  },
  {
   "cell_type": "code",
   "execution_count": null,
   "metadata": {
    "collapsed": true
   },
   "outputs": [],
   "source": [
    "l2 = list((2,2,2,2,3))\n",
    "print(l2)\n"
   ]
  },
  {
   "cell_type": "markdown",
   "metadata": {},
   "source": [
    "# 有空再复习：自定义迭代器之类的\n",
    "主要也就是按指定形式自定义一个类，尤其是__next__()函数，然后初始化一个对象，再用iter处理一下，就等于上文的iter了，直接传到next"
   ]
  },
  {
   "cell_type": "code",
   "execution_count": 19,
   "metadata": {},
   "outputs": [
    {
     "name": "stdout",
     "output_type": "stream",
     "text": [
      "1\n",
      "2\n",
      "3\n",
      "4\n",
      "5\n",
      "66\n",
      "im not exit yet?\n",
      "<__main__.MyNumbers object at 0x7f3ed56bd6a0>\n",
      "<class '__main__.MyNumbers'>\n",
      "139907845314208\n",
      "<__main__.MyNumbers object at 0x7f3ed56bd6a0>\n",
      "<class '__main__.MyNumbers'>\n",
      "139907845314208\n"
     ]
    }
   ],
   "source": [
    "import sys\n",
    "l1 = [1,2,3,4,5,66]\n",
    "it = iter(l1)\n",
    "while True:\n",
    "    try:\n",
    "        print((next(it)))\n",
    "    except StopIteration:\n",
    "        # sys.exit()\n",
    "        print('im not exit yet?')#原来即使弹出exception，这样也是不能结束的！！！\n",
    "        break#we need a break\n",
    "\n",
    "\n",
    "#创建一个迭代器\n",
    "\n",
    "class MyNumbers:\n",
    "    def __iter__(self):\n",
    "        self.a = 1\n",
    "        return self\n",
    "    def __next__(self):\n",
    "        if self.a <= 20:\n",
    "            x = self.a\n",
    "            self.a += 1\n",
    "            return x\n",
    "        raise StopIteration\n",
    "myclass = MyNumbers()\n",
    "print(myclass)\n",
    "print(type(myclass))\n",
    "print(id(myclass))\n",
    "myiter = iter(myclass)\n",
    "print(myiter)\n",
    "print(type(myiter))\n",
    "print(id(myiter))"
   ]
  },
  {
   "cell_type": "code",
   "execution_count": null,
   "metadata": {
    "collapsed": true
   },
   "outputs": [],
   "source": [
    "\n",
    "print('next(myiter):',next(myiter))\n",
    "print('next(myiter):',next(myiter))\n",
    "#其实这是一样的！只是用了一个新变量名方便区分!!当然这个情况只针对这个简陋的自定义迭代器，针对list是无效的！！！\n",
    "print('next(myclass):',next(myclass))\n",
    "print('next(myclass):',next(myclass))\n",
    "print('next(myclass):',next(myclass))\n",
    "#关于什么时候报错，感觉逻辑也挺奇葩，明明这也算一次迭代，但是就是不报错，而且提取出来的元素，只到20就停了，前边5次，现在20次，应该是25\n",
    "'''\n",
    "for i in range(20):\n",
    "    # print('for-loop:')#但是你放开这句，就能报错。。。。！\n",
    "    next(myiter)\n",
    "    print(next(myiter))\n",
    "   '''\n",
    "# 好像和中间的next(myclass)有关，但是区别在哪？\n",
    "# 甚至还和前边是不是打印id有关，应该是玄学报错？！\n",
    "# 只是不显示，但是程序确实停了！\n",
    "\n",
    "#生成器\n",
    "'''\n",
    "def fibonacci(n):\n",
    "    a,b,counter = 0,1,0\n",
    "    while True:\n",
    "        if(counter > n):\n",
    "            return\n",
    "        #只要yield的变量，就是迭代器要返回的，不限制,哪怕是个常量，格式也自由#但不是一次return这么多个值，一次只return一个，这就很乱了\n",
    "        yield 'a is ' + str(a)\n",
    "        yield [b]\n",
    "        yield a,b\n",
    "        yield 100\n",
    "\n",
    "        a,b=b,a+b\n",
    "\n",
    "        counter += 1\n",
    "\n",
    "\n",
    "f = fibonacci(5)\n",
    "print(f)\n",
    "\n",
    "while True:\n",
    "    try:\n",
    "        print(next(f),end='-----')\n",
    "    except StopIteration:\n",
    "        sys.exit()\n",
    "'''\n",
    "# 感觉generator的逻辑像是，里边要设定无限循环，你每次用next调用它， 内部就会自动无限向下执行,执行到一个yield为止。\n",
    "def failed_generator(n):\n",
    "    a,b,counter = 0,1,0\n",
    "    if(counter > n):\n",
    "        return\n",
    "    #这个没有循环的generator，因为有四个yield，所以能执行四次，然后代码到底，结束。\n",
    "    yield 'a is ' + str(a)\n",
    "    yield [b]\n",
    "    yield a,b\n",
    "    yield 100\n",
    "\n",
    "    a,b=b,a+b\n",
    "\n",
    "    counter += 1\n",
    "\n",
    "g = failed_generator(10)\n",
    "print(g)\n",
    "\n",
    "while True:\n",
    "    try:\n",
    "        print(next(g),end='++++')\n",
    "    except StopIteration:\n",
    "        sys.exit()\n",
    "\n",
    "\n",
    "\n",
    "\n",
    "\n",
    "\n",
    "\n",
    "\n",
    "\n"
   ]
  },
  {
   "cell_type": "code",
   "execution_count": null,
   "metadata": {
    "collapsed": true
   },
   "outputs": [],
   "source": []
  },
  {
   "cell_type": "code",
   "execution_count": null,
   "metadata": {
    "collapsed": true
   },
   "outputs": [],
   "source": []
  },
  {
   "cell_type": "code",
   "execution_count": null,
   "metadata": {
    "collapsed": true
   },
   "outputs": [],
   "source": []
  },
  {
   "cell_type": "code",
   "execution_count": null,
   "metadata": {
    "collapsed": true
   },
   "outputs": [],
   "source": []
  }
 ],
 "metadata": {
  "kernelspec": {
   "display_name": "virtual py36",
   "language": "python",
   "name": "py36"
  },
  "language_info": {
   "codemirror_mode": {
    "name": "ipython",
    "version": 3
   },
   "file_extension": ".py",
   "mimetype": "text/x-python",
   "name": "python",
   "nbconvert_exporter": "python",
   "pygments_lexer": "ipython3",
   "version": "3.6.1"
  }
 },
 "nbformat": 4,
 "nbformat_minor": 2
}
