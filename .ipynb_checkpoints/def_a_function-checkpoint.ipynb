{
 "cells": [
  {
   "cell_type": "code",
   "execution_count": null,
   "metadata": {
    "collapsed": true
   },
   "outputs": [],
   "source": []
  },
  {
   "cell_type": "code",
   "execution_count": 1,
   "metadata": {
    "collapsed": true
   },
   "outputs": [],
   "source": [
    "def least_difference(a,b,c):\n",
    "\t\"\"\"\n",
    "\t\tthis is\n",
    "\t\tmy functions's\n",
    "\t\tdocument!\n",
    "\t\"\"\"\n",
    "\n",
    "\tdiff1=abs(a-b)\n",
    "\tdiff2=abs(b-c)\n",
    "\tdiff3=abs(a-c)\n",
    "\treturn min(diff1,diff2,diff3)"
   ]
  },
  {
   "cell_type": "code",
   "execution_count": 2,
   "metadata": {},
   "outputs": [
    {
     "name": "stdout",
     "output_type": "stream",
     "text": [
      "900\n",
      "None\n"
     ]
    }
   ],
   "source": [
    "a = print(least_difference(100,1000,10000))\n",
    "print(a)"
   ]
  },
  {
   "cell_type": "code",
   "execution_count": 3,
   "metadata": {},
   "outputs": [
    {
     "name": "stdout",
     "output_type": "stream",
     "text": [
      "900\n",
      "9000\n",
      "9900\n"
     ]
    }
   ],
   "source": [
    "def least_difference2(a,b,c):\n",
    "\tdiff1=abs(a-b)\n",
    "\tdiff2=abs(b-c)\n",
    "\tdiff3=abs(a-c)\n",
    "\treturn diff1,diff2,diff3\n",
    "b,c,d = least_difference2(100,1000,10000)\n",
    "print(b)\n",
    "print(c)\n",
    "print(d)"
   ]
  },
  {
   "cell_type": "code",
   "execution_count": 4,
   "metadata": {},
   "outputs": [
    {
     "name": "stdout",
     "output_type": "stream",
     "text": [
      "None\n",
      "None None None\n",
      "\n",
      "\n"
     ]
    },
    {
     "data": {
      "text/plain": [
       "9"
      ]
     },
     "execution_count": 4,
     "metadata": {},
     "output_type": "execute_result"
    }
   ],
   "source": [
    "def least_difference3(a,b,c):#not return\n",
    "\tdiff1=abs(a-b)\n",
    "\tdiff2=abs(b-c)\n",
    "\tdiff3=abs(a-c)\n",
    "\tmin(diff1,diff2,diff3)\n",
    "\n",
    "print(\n",
    "\tleast_difference3(1,10,100),\n",
    "\tleast_difference3(1,10,10),\n",
    "\tleast_difference3(5,6,7),\n",
    ")"
   ]
  },
  {
   "cell_type": "code",
   "execution_count": null,
   "metadata": {
    "collapsed": true
   },
   "outputs": [],
   "source": []
  },
  {
   "cell_type": "code",
   "execution_count": 5,
   "metadata": {},
   "outputs": [
    {
     "name": "stdout",
     "output_type": "stream",
     "text": [
      "a: 5 139793978653248 <class 'int'>\n",
      "b: 5 139793978653248 <class 'int'>\n",
      "hello 139793756404736 <class 'str'>\n",
      "5 139793978653248 <class 'int'>\n",
      "a: [1, 2, 3] 139793756388168 <class 'list'>\n",
      "b: [1, 2, 3] 139793756757960 <class 'list'>\n",
      "hello 139793756404736 <class 'str'>\n",
      "[1, 2, 3] 139793756757960 <class 'list'>\n"
     ]
    }
   ],
   "source": []
  },
  {
   "cell_type": "markdown",
   "metadata": {},
   "source": [
    "# 关于传参"
   ]
  },
  {
   "cell_type": "code",
   "execution_count": 7,
   "metadata": {},
   "outputs": [
    {
     "name": "stdout",
     "output_type": "stream",
     "text": [
      "hello\n",
      "name: hu\n",
      "age: 30\n",
      "name: hu\n",
      "age: 32\n"
     ]
    }
   ],
   "source": [
    "# 必需参数\n",
    "def printme(str):\n",
    "    print(str)\n",
    "    return\n",
    "# printme()#missing 1required positional argument\n",
    "\n",
    "# 关键字参数\n",
    "def printme(str):\n",
    "    print(str)\n",
    "    return\n",
    "printme(str='hello')\n",
    "\n",
    "def printinfo(name,age):\n",
    "    print('name:',name)\n",
    "    print('age:',age)\n",
    "    return\n",
    "printinfo('hu',30)\n",
    "printinfo(age = 32,name='hu')\n",
    "# 默认参数\n",
    "def printinfo(name,age=38):\n",
    "    print('name:',name)\n",
    "    print('age:',age)\n",
    "    return\n",
    "printinfo('hu')\n",
    "printinfo('hu',88)"
   ]
  },
  {
   "cell_type": "markdown",
   "metadata": {},
   "source": [
    "## 当然，语法上也避免了这种歧义，这样输入三个到底怎么算，意义不明。"
   ]
  },
  {
   "cell_type": "code",
   "execution_count": null,
   "metadata": {
    "collapsed": true
   },
   "outputs": [],
   "source": [
    "# def func(a,b,c=3,d):#SyntaxError: non-default argument follows default argument\n",
    "#     return a+b+d\n",
    "\n"
   ]
  },
  {
   "cell_type": "markdown",
   "metadata": {},
   "source": [
    "## 不定长参数\n",
    "你可能需要一个函数能处理比当初声明时更多的参数。这些参数叫做不定长参数，和上述 2 种参数不同，声明时不会命名。基本语法如下："
   ]
  },
  {
   "cell_type": "code",
   "execution_count": 12,
   "metadata": {},
   "outputs": [
    {
     "name": "stdout",
     "output_type": "stream",
     "text": [
      "output\n",
      "100\n",
      "vartuple: ()\n",
      "output\n",
      "70\n",
      "vartuple: (60, 50)\n",
      "in vartuple: 60\n",
      "in vartuple: 50\n",
      "output\n",
      "70\n",
      "vartuple: (60, 50, 40, (30, 20))\n",
      "in vartuple: 60\n",
      "in vartuple: 50\n",
      "in vartuple: 40\n",
      "in vartuple: (30, 20)\n"
     ]
    }
   ],
   "source": [
    "# def functionname([formal_args,] *var_args_tuple ):\n",
    "#    \"函数_文档字符串\"\n",
    "#    function_suite\n",
    "#    return [expression]\n",
    "# 加了星号 * 的参数会以元组(tuple)的形式导入，存放所有未命名的变量参数。\n",
    "\n",
    "def printinfo(arg1,*vartuple):\n",
    "    print('output')\n",
    "    print(arg1)\n",
    "    print('vartuple:',vartuple)\n",
    "    for val in vartuple:\n",
    "        print('in vartuple:',val)\n",
    "\n",
    "printinfo(100)\n",
    "printinfo(70,60,50)\n",
    "printinfo(70,60,50,40,(30,20))#mebedded"
   ]
  },
  {
   "cell_type": "markdown",
   "metadata": {},
   "source": [
    "## 还有一种就是参数带两个星号 **基本语法如下：\n",
    "感觉很像tensorflow的那个,不过输入形式确实不同，tf是单个dict参数，这个是多个参数合并成dict:\n",
    "ss.run([train_op, loss, output], {tf_x: x, tf_y: y})"
   ]
  },
  {
   "cell_type": "code",
   "execution_count": 34,
   "metadata": {},
   "outputs": [
    {
     "name": "stdout",
     "output_type": "stream",
     "text": [
      "output:\n",
      "1\n",
      "vardict: {'a': 2, 'b': 3}\n",
      "<class 'dict'>\n",
      "output:\n",
      "1\n",
      "vardict: {}\n",
      "output:\n",
      "1\n",
      "vardict: {'c': 9}\n",
      "6\n"
     ]
    }
   ],
   "source": [
    "# def functionname([formal_args,] **var_args_dict ):\n",
    "#    \"函数_文档字符串\"\n",
    "#    function_suite\n",
    "#    return [expression]\n",
    "# 加了两个星号 ** 的参数会以字典的形式导入。\n",
    "\n",
    "def printinfo(arg1, **vardict):\n",
    "    print('output:')\n",
    "    print(arg1)\n",
    "    print('vardict:',vardict)\n",
    "printinfo(1,a=2,b=3)#字典的必要输入形式\n",
    "#d1 = {a:32, b:3}#TypeError: unhashable type: 'list',key不能是这种形式？可能认为是一个变量了？\n",
    "d1 = {'a':32, 'b':3}\n",
    "print(type(d1))\n",
    "#printinfo(1,{'a':32, 'b':3})#TypeError: printinfo() takes 1 positional argument but 2 were given\n",
    "# printinfo(1,2,3)#TypeError: printinfo() takes 1 positional argument but 3 were given\n",
    "printinfo(1)#这种形式认为的输入参数居然是1个！多了不行，除非格式对应\n",
    "printinfo(1,c=9)#这种形式认为的输入参数居然是1个！多了不行，除非格式对应"
   ]
  },
  {
   "cell_type": "markdown",
   "metadata": {},
   "source": [
    "## 声明函数时，参数中星号 * 可以单独出现，例如:"
   ]
  },
  {
   "cell_type": "code",
   "execution_count": 39,
   "metadata": {
    "scrolled": true
   },
   "outputs": [
    {
     "name": "stdout",
     "output_type": "stream",
     "text": [
      "6\n"
     ]
    }
   ],
   "source": [
    "# 如果单独出现星号 * 后的参数必须用关键字传入。\n",
    "def func(a,b,*,c):#这个比较特殊啊，说他是默认值的参数吧， 也不是\n",
    "    return a+b+c\n",
    "# func(1,2,3)#TypeError: func() takes 2 positional arguments but 3 were given\n",
    "print(func(1,2,c=3))\n",
    "#默认也算两个参数！！！\n",
    "#print(func(1,2,8))#TypeError: func() takes 2 positional arguments but 3 were given\n",
    "#print(func(1,2,8,10))#TypeError: func() takes 2 positional arguments but 4 were given\n"
   ]
  },
  {
   "cell_type": "markdown",
   "metadata": {},
   "source": [
    "## 匿名函数"
   ]
  },
  {
   "cell_type": "code",
   "execution_count": 40,
   "metadata": {},
   "outputs": [
    {
     "name": "stdout",
     "output_type": "stream",
     "text": [
      "30\n"
     ]
    }
   ],
   "source": [
    "#lambda区别于普通def的地方，没有多余的代码块，就一个表达式！！还有一些命名空间的区别，还有和inline的区别，暂且不表\n",
    "sum = lambda arg1,arg2:arg1+arg2\n",
    "print(sum(10,20))"
   ]
  },
  {
   "cell_type": "code",
   "execution_count": null,
   "metadata": {
    "collapsed": true
   },
   "outputs": [],
   "source": [
    "# 默认return语句\n",
    "def return_none():\n",
    "    return\n",
    "print(return_none())"
   ]
  },
  {
   "cell_type": "code",
   "execution_count": null,
   "metadata": {
    "collapsed": true
   },
   "outputs": [],
   "source": []
  },
  {
   "cell_type": "markdown",
   "metadata": {
    "collapsed": true
   },
   "source": [
    "# function和返回值的type,多重调用。"
   ]
  },
  {
   "cell_type": "code",
   "execution_count": 7,
   "metadata": {},
   "outputs": [
    {
     "name": "stdout",
     "output_type": "stream",
     "text": [
      "<class 'float'>\n",
      "<class 'function'>\n",
      "this is fn()\n",
      "<class 'float'>\n"
     ]
    }
   ],
   "source": [
    "def f(n):\n",
    "    print('this is fn()')\n",
    "    return n * 2\n",
    "x = 12.5\n",
    "\n",
    "print(type(x))\n",
    "print(type(f))\n",
    "print(type(f(x)))\n"
   ]
  },
  {
   "cell_type": "code",
   "execution_count": 12,
   "metadata": {},
   "outputs": [
    {
     "name": "stdout",
     "output_type": "stream",
     "text": [
      "this is call()\n",
      "this is fn()\n",
      "2\n",
      "this is squared_call()\n",
      "fn is  <function f at 0x7f380923e1e0>\n",
      "this is fn()\n",
      "this is fn()\n",
      "4\n"
     ]
    }
   ],
   "source": [
    "def call(fn,arg):\n",
    "    print('this is call()')\n",
    "    return fn(arg)\n",
    "def squared_call(fn,arg):\n",
    "    print('this is squared_call()')\n",
    "    print('fn is ',fn)\n",
    "    return fn(fn(arg))#离递归很近的一次\n",
    "    #return squared_call(fn,fn(arg))#这样就递归\n",
    "\n",
    "print(call(f,1),sep='\\n')\n",
    "print(squared_call(f,1),sep='\\n')\n"
   ]
  },
  {
   "cell_type": "markdown",
   "metadata": {
    "collapsed": true
   },
   "source": [
    "# lambda"
   ]
  },
  {
   "cell_type": "code",
   "execution_count": 13,
   "metadata": {},
   "outputs": [
    {
     "name": "stdout",
     "output_type": "stream",
     "text": [
      "101 mod 5 = 1\n"
     ]
    }
   ],
   "source": [
    "mod_5 = lambda x:  x % 5\n",
    "print('101 mod 5 =', mod_5(101))"
   ]
  },
  {
   "cell_type": "code",
   "execution_count": 17,
   "metadata": {},
   "outputs": [
    {
     "name": "stdout",
     "output_type": "stream",
     "text": [
      "Absolute difference of 5 and 7 is 2\n",
      "Absolute difference of -5 and 7 is 12\n",
      "diff_abs is 2\n",
      "diff_abs is 2\n",
      "Longest name is : tA\n",
      "Longest name is : jacques\n",
      "Name sorted : ['TJ', 'WTF', 'jacques', 'tA']\n",
      "Name sorted case insensitive: ['jacques', 'tA', 'TJ', 'WTF']\n"
     ]
    }
   ],
   "source": [
    "#abs_diff，其实是diff的abs\n",
    "abs_diff = lambda a, b: abs(a - b)\n",
    "diff_abs = lambda a, b: abs(abs(a) - abs(b))\n",
    "print(\"Absolute difference of 5 and 7 is\", abs_diff(5,7))\n",
    "print(\"Absolute difference of -5 and 7 is\", abs_diff(-5,7))\n",
    "print(\"diff_abs is\", diff_abs(5,7))\n",
    "print(\"diff_abs is\", diff_abs(-5,7))"
   ]
  },
  {
   "cell_type": "code",
   "execution_count": 19,
   "metadata": {},
   "outputs": [
    {
     "name": "stdout",
     "output_type": "stream",
     "text": [
      "Longest name is : tA\n",
      "Longest name is : jacques\n",
      "Name sorted : ['TJ', 'WTF', 'jacques', 'tA']\n",
      "Name sorted case insensitive: ['jacques', 'tA', 'TJ', 'WTF']\n"
     ]
    }
   ],
   "source": [
    "always_32 = lambda : 32\n",
    "always_32()\n",
    "\n",
    "names = ['jacques', 'TJ','tA','WTF']\n",
    "print(\"Longest name is :\",max(names))#默认的是字符串比较。\n",
    "print(\"Longest name is :\",max(names,key=lambda name: len(name)))\n",
    "print(\"Name sorted :\",sorted(names))\n",
    "print(\"Name sorted case insensitive:\",sorted(names,key=lambda name:name.lower()))"
   ]
  },
  {
   "cell_type": "code",
   "execution_count": null,
   "metadata": {
    "collapsed": true
   },
   "outputs": [],
   "source": []
  }
 ],
 "metadata": {
  "kernelspec": {
   "display_name": "virtual py36",
   "language": "python",
   "name": "py36"
  },
  "language_info": {
   "codemirror_mode": {
    "name": "ipython",
    "version": 3
   },
   "file_extension": ".py",
   "mimetype": "text/x-python",
   "name": "python",
   "nbconvert_exporter": "python",
   "pygments_lexer": "ipython3",
   "version": "3.6.1"
  }
 },
 "nbformat": 4,
 "nbformat_minor": 2
}
