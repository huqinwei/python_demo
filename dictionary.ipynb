{
 "cells": [
  {
   "cell_type": "code",
   "execution_count": 1,
   "metadata": {
    "collapsed": true
   },
   "outputs": [],
   "source": [
    "import copy"
   ]
  },
  {
   "cell_type": "code",
   "execution_count": 4,
   "metadata": {},
   "outputs": [
    {
     "name": "stdout",
     "output_type": "stream",
     "text": [
      "{'input': 50, 'output': 100, 1: 1000}\n",
      "50\n",
      "1000\n"
     ]
    }
   ],
   "source": [
    "dict = {'input':50,'output':100,1:1000}\n",
    "print(dict)\n",
    "print(dict['input'])\n",
    "print(dict[1])"
   ]
  },
  {
   "cell_type": "code",
   "execution_count": 7,
   "metadata": {},
   "outputs": [
    {
     "name": "stdout",
     "output_type": "stream",
     "text": [
      "{'input': 50, 'output': 100, 1: 1000, 'ha': 50000}\n",
      "{'input': 50, 'output': 100, 1: 1000, 'ha': 50000}\n",
      "{'input': 50, 'output': 100, 1: 1000, 'ha': 50000, 'dict_embedded': {'hell': 12315}}\n"
     ]
    }
   ],
   "source": [
    "dict['ha'] = 50000\n",
    "print(dict)\n",
    "#dict.remove('ha')#AttributeError: 'dict' object has no attribute 'remove'\n",
    "print(dict)\n",
    "dict['dict_embedded'] = {'hell':12315}\n",
    "print(dict)"
   ]
  },
  {
   "cell_type": "markdown",
   "metadata": {},
   "source": [
    "测深度复制"
   ]
  },
  {
   "cell_type": "code",
   "execution_count": 8,
   "metadata": {},
   "outputs": [
    {
     "name": "stdout",
     "output_type": "stream",
     "text": [
      "{'a': 1, 'b': 2, 'c': {'d': 4}}\n",
      "4\n",
      "{'a': 1, 'b': 2, 'c': {'d': 100}}\n",
      "{'a': 1, 'b': 2, 'c': {'d': 4}}\n"
     ]
    }
   ],
   "source": [
    "dict2 = {'a':1,'b':2,'c':{'d':4}}\n",
    "print(dict2)\n",
    "dict3 = copy.deepcopy(dict2)\n",
    "print(dict2['c']['d'])\n",
    "dict2['c']['d'] = 100\n",
    "print(dict2)\n",
    "print(dict3)\n"
   ]
  },
  {
   "cell_type": "code",
   "execution_count": null,
   "metadata": {
    "collapsed": true
   },
   "outputs": [],
   "source": []
  }
 ],
 "metadata": {
  "kernelspec": {
   "display_name": "virtual py36",
   "language": "python",
   "name": "py36"
  },
  "language_info": {
   "codemirror_mode": {
    "name": "ipython",
    "version": 3
   },
   "file_extension": ".py",
   "mimetype": "text/x-python",
   "name": "python",
   "nbconvert_exporter": "python",
   "pygments_lexer": "ipython3",
   "version": "3.6.1"
  }
 },
 "nbformat": 4,
 "nbformat_minor": 2
}
